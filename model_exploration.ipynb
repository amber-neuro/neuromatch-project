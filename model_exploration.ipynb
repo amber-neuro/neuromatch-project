{
 "cells": [
  {
   "cell_type": "code",
   "execution_count": 1,
   "metadata": {},
   "outputs": [],
   "source": [
    "from model.model import *\n",
    "from preprocess import *\n",
    "import matplotlib.pyplot as plt\n",
    "%load_ext autoreload\n",
    "%autoreload 2"
   ]
  },
  {
   "cell_type": "code",
   "execution_count": 2,
   "metadata": {},
   "outputs": [
    {
     "name": "stdout",
     "output_type": "stream",
     "text": [
      "Downloading data. This may take a while ...\n",
      "Loading data. Patience, padawan ...\n",
      "Data Loaded. Proceeding to Preprocessing...\n"
     ]
    }
   ],
   "source": [
    "download()\n",
    "alldat = load()\n",
    "print(\"Data Loaded. Proceeding to Preprocessing...\")\n",
    "session = 12"
   ]
  },
  {
   "cell_type": "code",
   "execution_count": 3,
   "metadata": {},
   "outputs": [
    {
     "name": "stdout",
     "output_type": "stream",
     "text": [
      "[float64]   \tsession             \tsession number, indexed 0 - 38\n",
      "[object]   \tsession_type        \tsession type, train / test\n",
      "[object]   \tmouse_name          \tname of the mouse\n",
      "[float64]   \ttrial_number        \ttrial number, indexed 0 to num_trials\n",
      "[bool]   \tgo_trial            \ttrue if go_trial, false if no-go trial\n",
      "[float64]   \tgocue               \ttime of go cue, in ms\n",
      "[float64]   \tresponse_time       \ttime of response, in ms\n",
      "[float64]   \tlatency             \tresponse time - go cue, in ms\n",
      "[float64]   \tmouse_resp          \tmouse response for a given trial\n",
      "[object]   \twheel_velocity      \tvelocity of the wheel\n",
      "[object]   \twheel_acceleration  \tacceleration of the wheel (first derivative of velocity)\n",
      "[float64]   \tfeedback_onset      \tfeedback onset (reward or punishment)\n",
      "[float64]   \tfeedback_type       \t-1 if punish, 0 if none, 1 if reward\n",
      "[float64]   \tcontrast_left       \tleft contrast\n",
      "[float64]   \tcontrast_right      \tright contrast\n",
      "[float64]   \tcontrast_diff       \tcontrast left - contrast right\n",
      "[float64]   \tpres_difficulty     \t1 - absolute value(contrast_diff)\n",
      "[int64]   \tpres_acc            \tpresent accuracy, based on feedback\n",
      "[float64]   \tresponse_time_diff  \tfirst derivative of response time\n",
      "[float64]   \tpast_acc            \tpast accuracy, based on feedback\n",
      "[float64]   \tpast_latency        \tpast latency, in ms\n",
      "[float64]   \tpast_difficulty     \tpast difficulty\n",
      "[bool]   \tfut_go_trial        \tfuture go_trial, whether true or false\n",
      "[float64]   \tfut_acc             \tfuture accuracy, based on feedback\n",
      "[float64]   \tfut_latency         \tfuture latency, in ms\n",
      "[float64]   \tfut_difficulty      \tfuture difficulty\n"
     ]
    }
   ],
   "source": [
    "dfs = preprocess(alldat, verbose = True)\n",
    "train, test = train_test_split(dfs)"
   ]
  },
  {
   "cell_type": "code",
   "execution_count": 4,
   "metadata": {},
   "outputs": [],
   "source": [
    "\n"
   ]
  },
  {
   "cell_type": "code",
   "execution_count": 175,
   "metadata": {},
   "outputs": [
    {
     "name": "stderr",
     "output_type": "stream",
     "text": [
      "/Users/jordanlei/anaconda3/lib/python3.7/site-packages/ipykernel_launcher.py:1: SettingWithCopyWarning: \n",
      "A value is trying to be set on a copy of a slice from a DataFrame.\n",
      "Try using .loc[row_indexer,col_indexer] = value instead\n",
      "\n",
      "See the caveats in the documentation: https://pandas.pydata.org/pandas-docs/stable/user_guide/indexing.html#returning-a-view-versus-a-copy\n",
      "  \"\"\"Entry point for launching an IPython kernel.\n",
      "/Users/jordanlei/anaconda3/lib/python3.7/site-packages/ipykernel_launcher.py:2: SettingWithCopyWarning: \n",
      "A value is trying to be set on a copy of a slice from a DataFrame.\n",
      "Try using .loc[row_indexer,col_indexer] = value instead\n",
      "\n",
      "See the caveats in the documentation: https://pandas.pydata.org/pandas-docs/stable/user_guide/indexing.html#returning-a-view-versus-a-copy\n",
      "  \n"
     ]
    }
   ],
   "source": [
    "train[\"mean_wheel_vel\"]= train[\"wheel_velocity\"].apply(lambda x: np.nanmax(x))\n",
    "train[\"mean_wheel_acc\"]= train[\"wheel_acceleration\"].apply(lambda x: np.nanmax(x))"
   ]
  },
  {
   "cell_type": "code",
   "execution_count": 176,
   "metadata": {},
   "outputs": [
    {
     "name": "stderr",
     "output_type": "stream",
     "text": [
      "/Users/jordanlei/anaconda3/lib/python3.7/site-packages/ipykernel_launcher.py:1: SettingWithCopyWarning: \n",
      "A value is trying to be set on a copy of a slice from a DataFrame.\n",
      "Try using .loc[row_indexer,col_indexer] = value instead\n",
      "\n",
      "See the caveats in the documentation: https://pandas.pydata.org/pandas-docs/stable/user_guide/indexing.html#returning-a-view-versus-a-copy\n",
      "  \"\"\"Entry point for launching an IPython kernel.\n",
      "/Users/jordanlei/anaconda3/lib/python3.7/site-packages/ipykernel_launcher.py:2: SettingWithCopyWarning: \n",
      "A value is trying to be set on a copy of a slice from a DataFrame.\n",
      "Try using .loc[row_indexer,col_indexer] = value instead\n",
      "\n",
      "See the caveats in the documentation: https://pandas.pydata.org/pandas-docs/stable/user_guide/indexing.html#returning-a-view-versus-a-copy\n",
      "  \n"
     ]
    }
   ],
   "source": [
    "train[\"fut_mean_wheel_vel\"] = futurify(train[\"mean_wheel_vel\"])\n",
    "train[\"fut_mean_wheel_acc\"] = futurify(train[\"mean_wheel_acc\"])"
   ]
  },
  {
   "cell_type": "code",
   "execution_count": 339,
   "metadata": {},
   "outputs": [
    {
     "name": "stderr",
     "output_type": "stream",
     "text": [
      "/Users/jordanlei/anaconda3/lib/python3.7/site-packages/ipykernel_launcher.py:1: SettingWithCopyWarning: \n",
      "A value is trying to be set on a copy of a slice from a DataFrame.\n",
      "Try using .loc[row_indexer,col_indexer] = value instead\n",
      "\n",
      "See the caveats in the documentation: https://pandas.pydata.org/pandas-docs/stable/user_guide/indexing.html#returning-a-view-versus-a-copy\n",
      "  \"\"\"Entry point for launching an IPython kernel.\n",
      "/Users/jordanlei/anaconda3/lib/python3.7/site-packages/ipykernel_launcher.py:7: SettingWithCopyWarning: \n",
      "A value is trying to be set on a copy of a slice from a DataFrame.\n",
      "Try using .loc[row_indexer,col_indexer] = value instead\n",
      "\n",
      "See the caveats in the documentation: https://pandas.pydata.org/pandas-docs/stable/user_guide/indexing.html#returning-a-view-versus-a-copy\n",
      "  import sys\n",
      "/Users/jordanlei/anaconda3/lib/python3.7/site-packages/ipykernel_launcher.py:8: SettingWithCopyWarning: \n",
      "A value is trying to be set on a copy of a slice from a DataFrame.\n",
      "Try using .loc[row_indexer,col_indexer] = value instead\n",
      "\n",
      "See the caveats in the documentation: https://pandas.pydata.org/pandas-docs/stable/user_guide/indexing.html#returning-a-view-versus-a-copy\n",
      "  \n",
      "/Users/jordanlei/anaconda3/lib/python3.7/site-packages/ipykernel_launcher.py:10: SettingWithCopyWarning: \n",
      "A value is trying to be set on a copy of a slice from a DataFrame.\n",
      "Try using .loc[row_indexer,col_indexer] = value instead\n",
      "\n",
      "See the caveats in the documentation: https://pandas.pydata.org/pandas-docs/stable/user_guide/indexing.html#returning-a-view-versus-a-copy\n",
      "  # Remove the CWD from sys.path while we load stuff.\n",
      "/Users/jordanlei/anaconda3/lib/python3.7/site-packages/ipykernel_launcher.py:11: SettingWithCopyWarning: \n",
      "A value is trying to be set on a copy of a slice from a DataFrame.\n",
      "Try using .loc[row_indexer,col_indexer] = value instead\n",
      "\n",
      "See the caveats in the documentation: https://pandas.pydata.org/pandas-docs/stable/user_guide/indexing.html#returning-a-view-versus-a-copy\n",
      "  # This is added back by InteractiveShellApp.init_path()\n",
      "/Users/jordanlei/anaconda3/lib/python3.7/site-packages/ipykernel_launcher.py:13: SettingWithCopyWarning: \n",
      "A value is trying to be set on a copy of a slice from a DataFrame.\n",
      "Try using .loc[row_indexer,col_indexer] = value instead\n",
      "\n",
      "See the caveats in the documentation: https://pandas.pydata.org/pandas-docs/stable/user_guide/indexing.html#returning-a-view-versus-a-copy\n",
      "  del sys.path[0]\n",
      "/Users/jordanlei/anaconda3/lib/python3.7/site-packages/ipykernel_launcher.py:14: SettingWithCopyWarning: \n",
      "A value is trying to be set on a copy of a slice from a DataFrame.\n",
      "Try using .loc[row_indexer,col_indexer] = value instead\n",
      "\n",
      "See the caveats in the documentation: https://pandas.pydata.org/pandas-docs/stable/user_guide/indexing.html#returning-a-view-versus-a-copy\n",
      "  \n"
     ]
    }
   ],
   "source": [
    "train[\"zeros\"] = 0\n",
    "\n",
    "def indexby(x, var = \"gocue\", version = \"wheel_velocity\", left = 1, right = 3):\n",
    "    index = int((np.round(x[var] + 500) / 10))\n",
    "    return x[version][index - left: index + right]\n",
    "\n",
    "train[\"gocue_vel_trial\"] = train.apply(lambda x: indexby(x, var = \"gocue\", version = \"wheel_velocity\"), axis= 1)\n",
    "train[\"gocue_acc_trial\"] = train.apply(lambda x: indexby(x, var = \"gocue\", version = \"wheel_acceleration\"), axis= 1)\n",
    "\n",
    "train[\"stim_vel_trial\"] = train.apply(lambda x: indexby(x, var = \"zeros\", version = \"wheel_velocity\"), axis= 1)\n",
    "train[\"stim_acc_trial\"] = train.apply(lambda x: indexby(x, var = \"zeros\", version = \"wheel_acceleration\"), axis= 1)\n",
    "\n",
    "train[\"rt_vel_trial\"] = train.apply(lambda x: indexby(x, var = \"response_time\", version = \"wheel_velocity\"), axis= 1)\n",
    "train[\"rt_acc_trial\"] = train.apply(lambda x: indexby(x, var = \"response_time\", version = \"wheel_acceleration\"), axis= 1)"
   ]
  },
  {
   "cell_type": "code",
   "execution_count": 340,
   "metadata": {},
   "outputs": [
    {
     "data": {
      "text/html": [
       "<div>\n",
       "<style scoped>\n",
       "    .dataframe tbody tr th:only-of-type {\n",
       "        vertical-align: middle;\n",
       "    }\n",
       "\n",
       "    .dataframe tbody tr th {\n",
       "        vertical-align: top;\n",
       "    }\n",
       "\n",
       "    .dataframe thead th {\n",
       "        text-align: right;\n",
       "    }\n",
       "</style>\n",
       "<table border=\"1\" class=\"dataframe\">\n",
       "  <thead>\n",
       "    <tr style=\"text-align: right;\">\n",
       "      <th></th>\n",
       "      <th>session</th>\n",
       "      <th>session_type</th>\n",
       "      <th>mouse_name</th>\n",
       "      <th>trial_number</th>\n",
       "      <th>go_trial</th>\n",
       "      <th>gocue</th>\n",
       "      <th>response_time</th>\n",
       "      <th>latency</th>\n",
       "      <th>mouse_resp</th>\n",
       "      <th>wheel_velocity</th>\n",
       "      <th>...</th>\n",
       "      <th>mean_wheel_acc</th>\n",
       "      <th>fut_mean_wheel_vel</th>\n",
       "      <th>fut_mean_wheel_acc</th>\n",
       "      <th>zeros</th>\n",
       "      <th>gocue_vel_trial</th>\n",
       "      <th>gocue_acc_trial</th>\n",
       "      <th>stim_vel_trial</th>\n",
       "      <th>stim_acc_trial</th>\n",
       "      <th>rt_vel_trial</th>\n",
       "      <th>rt_acc_trial</th>\n",
       "    </tr>\n",
       "  </thead>\n",
       "  <tbody>\n",
       "    <tr>\n",
       "      <th>0</th>\n",
       "      <td>0.0</td>\n",
       "      <td>train</td>\n",
       "      <td>Cori</td>\n",
       "      <td>0.0</td>\n",
       "      <td>True</td>\n",
       "      <td>1027.216250</td>\n",
       "      <td>1150.203633</td>\n",
       "      <td>122.987383</td>\n",
       "      <td>1.0</td>\n",
       "      <td>[-1.0, 0.0, 0.0, 0.0, 0.0, 0.0, 0.0, 0.0, 0.0,...</td>\n",
       "      <td>...</td>\n",
       "      <td>4.0</td>\n",
       "      <td>5.0</td>\n",
       "      <td>2.0</td>\n",
       "      <td>0</td>\n",
       "      <td>[18.0, 17.0, 15.0, 13.0]</td>\n",
       "      <td>[-1.0, -2.0, -2.0, -3.0]</td>\n",
       "      <td>[0.0, 0.0, 0.0, 0.0]</td>\n",
       "      <td>[0.0, 0.0, 0.0, 0.0]</td>\n",
       "      <td>[10.0, 11.0, 11.0, 13.0]</td>\n",
       "      <td>[1.0, 0.0, 2.0, 0.0]</td>\n",
       "    </tr>\n",
       "    <tr>\n",
       "      <th>1</th>\n",
       "      <td>0.0</td>\n",
       "      <td>train</td>\n",
       "      <td>Cori</td>\n",
       "      <td>1.0</td>\n",
       "      <td>True</td>\n",
       "      <td>874.413814</td>\n",
       "      <td>1399.502868</td>\n",
       "      <td>525.089054</td>\n",
       "      <td>-1.0</td>\n",
       "      <td>[0.0, -1.0, 0.0, -1.0, 0.0, 1.0, 0.0, 1.0, 1.0...</td>\n",
       "      <td>...</td>\n",
       "      <td>2.0</td>\n",
       "      <td>14.0</td>\n",
       "      <td>2.0</td>\n",
       "      <td>0</td>\n",
       "      <td>[-6.0, -5.0, -4.0, -4.0]</td>\n",
       "      <td>[1.0, 1.0, 0.0, 1.0]</td>\n",
       "      <td>[0.0, -1.0, 0.0, -1.0]</td>\n",
       "      <td>[-1.0, 1.0, -1.0, 1.0]</td>\n",
       "      <td>[-7.0, -7.0, -6.0, -5.0]</td>\n",
       "      <td>[0.0, 1.0, 1.0, 0.0]</td>\n",
       "    </tr>\n",
       "    <tr>\n",
       "      <th>2</th>\n",
       "      <td>0.0</td>\n",
       "      <td>train</td>\n",
       "      <td>Cori</td>\n",
       "      <td>2.0</td>\n",
       "      <td>True</td>\n",
       "      <td>825.213029</td>\n",
       "      <td>949.291045</td>\n",
       "      <td>124.078016</td>\n",
       "      <td>1.0</td>\n",
       "      <td>[0.0, 0.0, -1.0, 0.0, 0.0, -1.0, 0.0, 0.0, 0.0...</td>\n",
       "      <td>...</td>\n",
       "      <td>2.0</td>\n",
       "      <td>7.0</td>\n",
       "      <td>3.0</td>\n",
       "      <td>0</td>\n",
       "      <td>[6.0, 6.0, 8.0, 9.0]</td>\n",
       "      <td>[0.0, 2.0, 1.0, 2.0]</td>\n",
       "      <td>[0.0, 0.0, 0.0, 0.0]</td>\n",
       "      <td>[0.0, 0.0, 0.0, 0.0]</td>\n",
       "      <td>[9.0, 7.0, 6.0, 6.0]</td>\n",
       "      <td>[-2.0, -1.0, 0.0, -2.0]</td>\n",
       "    </tr>\n",
       "    <tr>\n",
       "      <th>3</th>\n",
       "      <td>0.0</td>\n",
       "      <td>train</td>\n",
       "      <td>Cori</td>\n",
       "      <td>3.0</td>\n",
       "      <td>False</td>\n",
       "      <td>761.612015</td>\n",
       "      <td>2266.801672</td>\n",
       "      <td>1505.189657</td>\n",
       "      <td>0.0</td>\n",
       "      <td>[0.0, 0.0, 0.0, 0.0, 0.0, 1.0, 0.0, 0.0, 0.0, ...</td>\n",
       "      <td>...</td>\n",
       "      <td>3.0</td>\n",
       "      <td>18.0</td>\n",
       "      <td>4.0</td>\n",
       "      <td>0</td>\n",
       "      <td>[0.0, 0.0, 0.0, 0.0]</td>\n",
       "      <td>[0.0, 0.0, 0.0, -1.0]</td>\n",
       "      <td>[0.0, 0.0, 0.0, 0.0]</td>\n",
       "      <td>[0.0, 0.0, 0.0, 0.0]</td>\n",
       "      <td>[]</td>\n",
       "      <td>[]</td>\n",
       "    </tr>\n",
       "    <tr>\n",
       "      <th>4</th>\n",
       "      <td>0.0</td>\n",
       "      <td>train</td>\n",
       "      <td>Cori</td>\n",
       "      <td>4.0</td>\n",
       "      <td>True</td>\n",
       "      <td>662.010427</td>\n",
       "      <td>816.775837</td>\n",
       "      <td>154.765410</td>\n",
       "      <td>1.0</td>\n",
       "      <td>[0.0, 0.0, 0.0, 0.0, 0.0, 0.0, 0.0, 0.0, -1.0,...</td>\n",
       "      <td>...</td>\n",
       "      <td>4.0</td>\n",
       "      <td>14.0</td>\n",
       "      <td>2.0</td>\n",
       "      <td>0</td>\n",
       "      <td>[13.0, 14.0, 14.0, 14.0]</td>\n",
       "      <td>[1.0, 0.0, 0.0, -2.0]</td>\n",
       "      <td>[0.0, 0.0, 0.0, 0.0]</td>\n",
       "      <td>[0.0, 0.0, 0.0, 0.0]</td>\n",
       "      <td>[2.0, 2.0, 2.0, 2.0]</td>\n",
       "      <td>[0.0, 0.0, 0.0, 1.0]</td>\n",
       "    </tr>\n",
       "  </tbody>\n",
       "</table>\n",
       "<p>5 rows × 37 columns</p>\n",
       "</div>"
      ],
      "text/plain": [
       "   session session_type mouse_name  trial_number  go_trial        gocue  \\\n",
       "0      0.0        train       Cori           0.0      True  1027.216250   \n",
       "1      0.0        train       Cori           1.0      True   874.413814   \n",
       "2      0.0        train       Cori           2.0      True   825.213029   \n",
       "3      0.0        train       Cori           3.0     False   761.612015   \n",
       "4      0.0        train       Cori           4.0      True   662.010427   \n",
       "\n",
       "   response_time      latency  mouse_resp  \\\n",
       "0    1150.203633   122.987383         1.0   \n",
       "1    1399.502868   525.089054        -1.0   \n",
       "2     949.291045   124.078016         1.0   \n",
       "3    2266.801672  1505.189657         0.0   \n",
       "4     816.775837   154.765410         1.0   \n",
       "\n",
       "                                      wheel_velocity  ... mean_wheel_acc  \\\n",
       "0  [-1.0, 0.0, 0.0, 0.0, 0.0, 0.0, 0.0, 0.0, 0.0,...  ...            4.0   \n",
       "1  [0.0, -1.0, 0.0, -1.0, 0.0, 1.0, 0.0, 1.0, 1.0...  ...            2.0   \n",
       "2  [0.0, 0.0, -1.0, 0.0, 0.0, -1.0, 0.0, 0.0, 0.0...  ...            2.0   \n",
       "3  [0.0, 0.0, 0.0, 0.0, 0.0, 1.0, 0.0, 0.0, 0.0, ...  ...            3.0   \n",
       "4  [0.0, 0.0, 0.0, 0.0, 0.0, 0.0, 0.0, 0.0, -1.0,...  ...            4.0   \n",
       "\n",
       "   fut_mean_wheel_vel  fut_mean_wheel_acc  zeros           gocue_vel_trial  \\\n",
       "0                 5.0                 2.0      0  [18.0, 17.0, 15.0, 13.0]   \n",
       "1                14.0                 2.0      0  [-6.0, -5.0, -4.0, -4.0]   \n",
       "2                 7.0                 3.0      0      [6.0, 6.0, 8.0, 9.0]   \n",
       "3                18.0                 4.0      0      [0.0, 0.0, 0.0, 0.0]   \n",
       "4                14.0                 2.0      0  [13.0, 14.0, 14.0, 14.0]   \n",
       "\n",
       "            gocue_acc_trial          stim_vel_trial          stim_acc_trial  \\\n",
       "0  [-1.0, -2.0, -2.0, -3.0]    [0.0, 0.0, 0.0, 0.0]    [0.0, 0.0, 0.0, 0.0]   \n",
       "1      [1.0, 1.0, 0.0, 1.0]  [0.0, -1.0, 0.0, -1.0]  [-1.0, 1.0, -1.0, 1.0]   \n",
       "2      [0.0, 2.0, 1.0, 2.0]    [0.0, 0.0, 0.0, 0.0]    [0.0, 0.0, 0.0, 0.0]   \n",
       "3     [0.0, 0.0, 0.0, -1.0]    [0.0, 0.0, 0.0, 0.0]    [0.0, 0.0, 0.0, 0.0]   \n",
       "4     [1.0, 0.0, 0.0, -2.0]    [0.0, 0.0, 0.0, 0.0]    [0.0, 0.0, 0.0, 0.0]   \n",
       "\n",
       "               rt_vel_trial             rt_acc_trial  \n",
       "0  [10.0, 11.0, 11.0, 13.0]     [1.0, 0.0, 2.0, 0.0]  \n",
       "1  [-7.0, -7.0, -6.0, -5.0]     [0.0, 1.0, 1.0, 0.0]  \n",
       "2      [9.0, 7.0, 6.0, 6.0]  [-2.0, -1.0, 0.0, -2.0]  \n",
       "3                        []                       []  \n",
       "4      [2.0, 2.0, 2.0, 2.0]     [0.0, 0.0, 0.0, 1.0]  \n",
       "\n",
       "[5 rows x 37 columns]"
      ]
     },
     "execution_count": 340,
     "metadata": {},
     "output_type": "execute_result"
    }
   ],
   "source": [
    "train.head()"
   ]
  },
  {
   "cell_type": "code",
   "execution_count": 335,
   "metadata": {},
   "outputs": [
    {
     "data": {
      "text/plain": [
       "250"
      ]
     },
     "execution_count": 335,
     "metadata": {},
     "output_type": "execute_result"
    }
   ],
   "source": [
    "len(train[\"wheel_velocity\"][0])"
   ]
  },
  {
   "cell_type": "code",
   "execution_count": 334,
   "metadata": {},
   "outputs": [
    {
     "data": {
      "text/plain": [
       "102.72162500970835"
      ]
     },
     "execution_count": 334,
     "metadata": {},
     "output_type": "execute_result"
    }
   ],
   "source": [
    "train[\"wheel_velocity\"] train[\"gocue\"][0]/10"
   ]
  },
  {
   "cell_type": "code",
   "execution_count": 177,
   "metadata": {},
   "outputs": [
    {
     "data": {
      "text/plain": [
       "0        4.0\n",
       "1        2.0\n",
       "2        2.0\n",
       "3        3.0\n",
       "4        4.0\n",
       "        ... \n",
       "10045    1.0\n",
       "10046    1.0\n",
       "10047    1.0\n",
       "10048    1.0\n",
       "10049    1.0\n",
       "Name: mean_wheel_acc, Length: 7814, dtype: float64"
      ]
     },
     "execution_count": 177,
     "metadata": {},
     "output_type": "execute_result"
    }
   ],
   "source": [
    "train[\"mean_wheel_acc\"]"
   ]
  },
  {
   "cell_type": "code",
   "execution_count": 178,
   "metadata": {},
   "outputs": [
    {
     "data": {
      "text/plain": [
       "0        2.0\n",
       "1        2.0\n",
       "2        3.0\n",
       "3        4.0\n",
       "4        2.0\n",
       "        ... \n",
       "10045    1.0\n",
       "10046    1.0\n",
       "10047    1.0\n",
       "10048    1.0\n",
       "10049    NaN\n",
       "Name: fut_mean_wheel_acc, Length: 7814, dtype: float64"
      ]
     },
     "execution_count": 178,
     "metadata": {},
     "output_type": "execute_result"
    }
   ],
   "source": [
    "train[\"fut_mean_wheel_acc\"]"
   ]
  },
  {
   "cell_type": "code",
   "execution_count": 135,
   "metadata": {},
   "outputs": [
    {
     "data": {
      "text/plain": [
       "(array([ 828.,  869., 1037., 1352., 1775., 1323.,  492.,  109.,   23.,\n",
       "           6.]),\n",
       " array([0.        , 0.10361446, 0.20722892, 0.31084337, 0.41445783,\n",
       "        0.51807229, 0.62168675, 0.7253012 , 0.82891566, 0.93253012,\n",
       "        1.03614458]),\n",
       " <a list of 10 Patch objects>)"
      ]
     },
     "execution_count": 135,
     "metadata": {},
     "output_type": "execute_result"
    },
    {
     "data": {
      "image/png": "[encoded data removed]",
      "text/plain": [
       "<Figure size 432x288 with 1 Axes>"
      ]
     },
     "metadata": {
      "needs_background": "light"
     },
     "output_type": "display_data"
    }
   ],
   "source": [
    "plt.hist(train[\"mean_wheel_acc\"])"
   ]
  },
  {
   "cell_type": "code",
   "execution_count": 142,
   "metadata": {},
   "outputs": [
    {
     "data": {
      "text/plain": [
       "<matplotlib.axes._subplots.AxesSubplot at 0x7fb0b6a7f650>"
      ]
     },
     "execution_count": 142,
     "metadata": {},
     "output_type": "execute_result"
    },
    {
     "data": {
      "image/png": "[encoded data removed]",
      "text/plain": [
       "<Figure size 432x288 with 1 Axes>"
      ]
     },
     "metadata": {
      "needs_background": "light"
     },
     "output_type": "display_data"
    }
   ],
   "source": [
    "import seaborn as sns\n",
    "\n",
    "sns.scatterplot(x = \"mean_wheel_acc\", y = \"fut_mean_wheel_acc\", data = train, hue = \"pres_difficulty\", alpha = 0.3)"
   ]
  },
  {
   "cell_type": "code",
   "execution_count": 229,
   "metadata": {},
   "outputs": [
    {
     "name": "stderr",
     "output_type": "stream",
     "text": [
      "/Users/jordanlei/anaconda3/lib/python3.7/site-packages/ipykernel_launcher.py:4: UserWarning: Boolean Series key will be reindexed to match DataFrame index.\n",
      "  after removing the cwd from sys.path.\n",
      "/Users/jordanlei/anaconda3/lib/python3.7/site-packages/ipykernel_launcher.py:6: SettingWithCopyWarning: \n",
      "A value is trying to be set on a copy of a slice from a DataFrame.\n",
      "Try using .loc[row_indexer,col_indexer] = value instead\n",
      "\n",
      "See the caveats in the documentation: https://pandas.pydata.org/pandas-docs/stable/user_guide/indexing.html#returning-a-view-versus-a-copy\n",
      "  \n"
     ]
    },
    {
     "data": {
      "text/plain": [
       "LinearRegression(copy_X=True, fit_intercept=True, n_jobs=None, normalize=False)"
      ]
     },
     "execution_count": 229,
     "metadata": {},
     "output_type": "execute_result"
    }
   ],
   "source": [
    "from sklearn.linear_model import LinearRegression\n",
    "from sklearn.neural_network import MLPRegressor\n",
    "\n",
    "data_go_trials = train[train[\"go_trial\"]][train[\"fut_go_trial\"]]\n",
    "data = data_go_trials.dropna()\n",
    "data[\"surprise\"] = (1500 - data[\"latency\"])/1500 - data[\"pres_acc\"]\n",
    "X = data[[\"fut_latency\"]].to_numpy()\n",
    "y = data[[\"fut_acc\"]]\n",
    "model = LinearRegression()\n",
    "model.fit(X, y)"
   ]
  },
  {
   "cell_type": "code",
   "execution_count": 210,
   "metadata": {},
   "outputs": [
    {
     "data": {
      "text/plain": [
       "1       -0.350059\n",
       "9       -0.118967\n",
       "12      -0.100366\n",
       "13      -0.174912\n",
       "14      -0.097967\n",
       "           ...   \n",
       "10044   -0.000078\n",
       "10045   -0.002271\n",
       "10046    0.577264\n",
       "10047    0.000365\n",
       "10048   -0.001663\n",
       "Name: surprise, Length: 4569, dtype: float64"
      ]
     },
     "execution_count": 210,
     "metadata": {},
     "output_type": "execute_result"
    }
   ],
   "source": [
    "data[\"surprise\"]"
   ]
  },
  {
   "cell_type": "code",
   "execution_count": 211,
   "metadata": {},
   "outputs": [
    {
     "data": {
      "text/html": [
       "<div>\n",
       "<style scoped>\n",
       "    .dataframe tbody tr th:only-of-type {\n",
       "        vertical-align: middle;\n",
       "    }\n",
       "\n",
       "    .dataframe tbody tr th {\n",
       "        vertical-align: top;\n",
       "    }\n",
       "\n",
       "    .dataframe thead th {\n",
       "        text-align: right;\n",
       "    }\n",
       "</style>\n",
       "<table border=\"1\" class=\"dataframe\">\n",
       "  <thead>\n",
       "    <tr style=\"text-align: right;\">\n",
       "      <th></th>\n",
       "      <th>session</th>\n",
       "      <th>session_type</th>\n",
       "      <th>mouse_name</th>\n",
       "      <th>trial_number</th>\n",
       "      <th>go_trial</th>\n",
       "      <th>gocue</th>\n",
       "      <th>response_time</th>\n",
       "      <th>latency</th>\n",
       "      <th>mouse_resp</th>\n",
       "      <th>wheel_velocity</th>\n",
       "      <th>...</th>\n",
       "      <th>past_difficulty</th>\n",
       "      <th>fut_go_trial</th>\n",
       "      <th>fut_acc</th>\n",
       "      <th>fut_latency</th>\n",
       "      <th>fut_difficulty</th>\n",
       "      <th>mean_wheel_vel</th>\n",
       "      <th>mean_wheel_acc</th>\n",
       "      <th>fut_mean_wheel_vel</th>\n",
       "      <th>fut_mean_wheel_acc</th>\n",
       "      <th>surprise</th>\n",
       "    </tr>\n",
       "  </thead>\n",
       "  <tbody>\n",
       "    <tr>\n",
       "      <th>1</th>\n",
       "      <td>0.0</td>\n",
       "      <td>train</td>\n",
       "      <td>Cori</td>\n",
       "      <td>1.0</td>\n",
       "      <td>True</td>\n",
       "      <td>874.413814</td>\n",
       "      <td>1399.502868</td>\n",
       "      <td>525.089054</td>\n",
       "      <td>-1.0</td>\n",
       "      <td>[0.0, -1.0, 0.0, -1.0, 0.0, 1.0, 0.0, 1.0, 1.0...</td>\n",
       "      <td>...</td>\n",
       "      <td>0.00</td>\n",
       "      <td>True</td>\n",
       "      <td>1.0</td>\n",
       "      <td>124.078016</td>\n",
       "      <td>0.50</td>\n",
       "      <td>5.0</td>\n",
       "      <td>2.0</td>\n",
       "      <td>14.0</td>\n",
       "      <td>2.0</td>\n",
       "      <td>-0.350059</td>\n",
       "    </tr>\n",
       "    <tr>\n",
       "      <th>9</th>\n",
       "      <td>0.0</td>\n",
       "      <td>train</td>\n",
       "      <td>Cori</td>\n",
       "      <td>9.0</td>\n",
       "      <td>True</td>\n",
       "      <td>1071.216952</td>\n",
       "      <td>1249.667559</td>\n",
       "      <td>178.450607</td>\n",
       "      <td>1.0</td>\n",
       "      <td>[0.0, 0.0, 0.0, 0.0, 0.0, 0.0, 1.0, 0.0, 0.0, ...</td>\n",
       "      <td>...</td>\n",
       "      <td>1.00</td>\n",
       "      <td>True</td>\n",
       "      <td>1.0</td>\n",
       "      <td>204.115343</td>\n",
       "      <td>0.50</td>\n",
       "      <td>20.0</td>\n",
       "      <td>4.0</td>\n",
       "      <td>17.0</td>\n",
       "      <td>3.0</td>\n",
       "      <td>-0.118967</td>\n",
       "    </tr>\n",
       "    <tr>\n",
       "      <th>12</th>\n",
       "      <td>0.0</td>\n",
       "      <td>train</td>\n",
       "      <td>Cori</td>\n",
       "      <td>12.0</td>\n",
       "      <td>True</td>\n",
       "      <td>966.015274</td>\n",
       "      <td>1116.563838</td>\n",
       "      <td>150.548564</td>\n",
       "      <td>1.0</td>\n",
       "      <td>[-1.0, -1.0, 0.0, 0.0, 0.0, 0.0, 0.0, 0.0, 0.0...</td>\n",
       "      <td>...</td>\n",
       "      <td>1.00</td>\n",
       "      <td>True</td>\n",
       "      <td>1.0</td>\n",
       "      <td>262.368573</td>\n",
       "      <td>0.00</td>\n",
       "      <td>17.0</td>\n",
       "      <td>3.0</td>\n",
       "      <td>21.0</td>\n",
       "      <td>6.0</td>\n",
       "      <td>-0.100366</td>\n",
       "    </tr>\n",
       "    <tr>\n",
       "      <th>13</th>\n",
       "      <td>0.0</td>\n",
       "      <td>train</td>\n",
       "      <td>Cori</td>\n",
       "      <td>13.0</td>\n",
       "      <td>True</td>\n",
       "      <td>1070.816945</td>\n",
       "      <td>1333.185519</td>\n",
       "      <td>262.368573</td>\n",
       "      <td>1.0</td>\n",
       "      <td>[0.0, 1.0, 0.0, 0.0, 0.0, 0.0, 0.0, 0.0, 0.0, ...</td>\n",
       "      <td>...</td>\n",
       "      <td>0.75</td>\n",
       "      <td>True</td>\n",
       "      <td>1.0</td>\n",
       "      <td>146.951250</td>\n",
       "      <td>0.50</td>\n",
       "      <td>21.0</td>\n",
       "      <td>6.0</td>\n",
       "      <td>15.0</td>\n",
       "      <td>4.0</td>\n",
       "      <td>-0.174912</td>\n",
       "    </tr>\n",
       "    <tr>\n",
       "      <th>14</th>\n",
       "      <td>0.0</td>\n",
       "      <td>train</td>\n",
       "      <td>Cori</td>\n",
       "      <td>14.0</td>\n",
       "      <td>True</td>\n",
       "      <td>1019.216123</td>\n",
       "      <td>1166.167372</td>\n",
       "      <td>146.951250</td>\n",
       "      <td>1.0</td>\n",
       "      <td>[0.0, 0.0, 0.0, 0.0, 0.0, 0.0, 0.0, 0.0, 0.0, ...</td>\n",
       "      <td>...</td>\n",
       "      <td>0.00</td>\n",
       "      <td>True</td>\n",
       "      <td>1.0</td>\n",
       "      <td>87.146236</td>\n",
       "      <td>0.00</td>\n",
       "      <td>15.0</td>\n",
       "      <td>4.0</td>\n",
       "      <td>4.0</td>\n",
       "      <td>2.0</td>\n",
       "      <td>-0.097967</td>\n",
       "    </tr>\n",
       "    <tr>\n",
       "      <th>...</th>\n",
       "      <td>...</td>\n",
       "      <td>...</td>\n",
       "      <td>...</td>\n",
       "      <td>...</td>\n",
       "      <td>...</td>\n",
       "      <td>...</td>\n",
       "      <td>...</td>\n",
       "      <td>...</td>\n",
       "      <td>...</td>\n",
       "      <td>...</td>\n",
       "      <td>...</td>\n",
       "      <td>...</td>\n",
       "      <td>...</td>\n",
       "      <td>...</td>\n",
       "      <td>...</td>\n",
       "      <td>...</td>\n",
       "      <td>...</td>\n",
       "      <td>...</td>\n",
       "      <td>...</td>\n",
       "      <td>...</td>\n",
       "      <td>...</td>\n",
       "    </tr>\n",
       "    <tr>\n",
       "      <th>10044</th>\n",
       "      <td>38.0</td>\n",
       "      <td>train</td>\n",
       "      <td>Theiler</td>\n",
       "      <td>337.0</td>\n",
       "      <td>True</td>\n",
       "      <td>594.175591</td>\n",
       "      <td>2094.292183</td>\n",
       "      <td>1500.116592</td>\n",
       "      <td>0.0</td>\n",
       "      <td>[-1.0, 0.0, -1.0, -1.0, -2.0, -1.0, -2.0, -1.0...</td>\n",
       "      <td>...</td>\n",
       "      <td>0.25</td>\n",
       "      <td>True</td>\n",
       "      <td>0.0</td>\n",
       "      <td>1503.406090</td>\n",
       "      <td>0.25</td>\n",
       "      <td>1.0</td>\n",
       "      <td>1.0</td>\n",
       "      <td>1.0</td>\n",
       "      <td>1.0</td>\n",
       "      <td>-0.000078</td>\n",
       "    </tr>\n",
       "    <tr>\n",
       "      <th>10045</th>\n",
       "      <td>38.0</td>\n",
       "      <td>train</td>\n",
       "      <td>Theiler</td>\n",
       "      <td>338.0</td>\n",
       "      <td>True</td>\n",
       "      <td>794.096687</td>\n",
       "      <td>2297.502777</td>\n",
       "      <td>1503.406090</td>\n",
       "      <td>0.0</td>\n",
       "      <td>[0.0, 0.0, 0.0, 0.0, 0.0, 0.0, 0.0, 0.0, 0.0, ...</td>\n",
       "      <td>...</td>\n",
       "      <td>0.75</td>\n",
       "      <td>True</td>\n",
       "      <td>0.0</td>\n",
       "      <td>634.103872</td>\n",
       "      <td>0.25</td>\n",
       "      <td>1.0</td>\n",
       "      <td>1.0</td>\n",
       "      <td>1.0</td>\n",
       "      <td>1.0</td>\n",
       "      <td>-0.002271</td>\n",
       "    </tr>\n",
       "    <tr>\n",
       "      <th>10046</th>\n",
       "      <td>38.0</td>\n",
       "      <td>train</td>\n",
       "      <td>Theiler</td>\n",
       "      <td>339.0</td>\n",
       "      <td>True</td>\n",
       "      <td>524.699554</td>\n",
       "      <td>1158.803425</td>\n",
       "      <td>634.103872</td>\n",
       "      <td>-1.0</td>\n",
       "      <td>[0.0, 0.0, 0.0, 0.0, 0.0, 0.0, 0.0, 0.0, 0.0, ...</td>\n",
       "      <td>...</td>\n",
       "      <td>0.25</td>\n",
       "      <td>True</td>\n",
       "      <td>0.0</td>\n",
       "      <td>1499.452065</td>\n",
       "      <td>0.25</td>\n",
       "      <td>1.0</td>\n",
       "      <td>1.0</td>\n",
       "      <td>1.0</td>\n",
       "      <td>1.0</td>\n",
       "      <td>0.577264</td>\n",
       "    </tr>\n",
       "    <tr>\n",
       "      <th>10047</th>\n",
       "      <td>38.0</td>\n",
       "      <td>train</td>\n",
       "      <td>Theiler</td>\n",
       "      <td>340.0</td>\n",
       "      <td>True</td>\n",
       "      <td>504.256772</td>\n",
       "      <td>2003.708838</td>\n",
       "      <td>1499.452065</td>\n",
       "      <td>0.0</td>\n",
       "      <td>[0.0, 0.0, 0.0, 0.0, 0.0, -1.0, 0.0, 0.0, 1.0,...</td>\n",
       "      <td>...</td>\n",
       "      <td>0.25</td>\n",
       "      <td>True</td>\n",
       "      <td>0.0</td>\n",
       "      <td>1502.495204</td>\n",
       "      <td>0.25</td>\n",
       "      <td>1.0</td>\n",
       "      <td>1.0</td>\n",
       "      <td>1.0</td>\n",
       "      <td>1.0</td>\n",
       "      <td>0.000365</td>\n",
       "    </tr>\n",
       "    <tr>\n",
       "      <th>10048</th>\n",
       "      <td>38.0</td>\n",
       "      <td>train</td>\n",
       "      <td>Theiler</td>\n",
       "      <td>341.0</td>\n",
       "      <td>True</td>\n",
       "      <td>574.262440</td>\n",
       "      <td>2076.757644</td>\n",
       "      <td>1502.495204</td>\n",
       "      <td>0.0</td>\n",
       "      <td>[0.0, 0.0, 0.0, 0.0, 0.0, 0.0, 0.0, 0.0, 0.0, ...</td>\n",
       "      <td>...</td>\n",
       "      <td>0.25</td>\n",
       "      <td>True</td>\n",
       "      <td>0.0</td>\n",
       "      <td>1511.308304</td>\n",
       "      <td>0.25</td>\n",
       "      <td>1.0</td>\n",
       "      <td>1.0</td>\n",
       "      <td>1.0</td>\n",
       "      <td>1.0</td>\n",
       "      <td>-0.001663</td>\n",
       "    </tr>\n",
       "  </tbody>\n",
       "</table>\n",
       "<p>4569 rows × 31 columns</p>\n",
       "</div>"
      ],
      "text/plain": [
       "       session session_type mouse_name  trial_number  go_trial        gocue  \\\n",
       "1          0.0        train       Cori           1.0      True   874.413814   \n",
       "9          0.0        train       Cori           9.0      True  1071.216952   \n",
       "12         0.0        train       Cori          12.0      True   966.015274   \n",
       "13         0.0        train       Cori          13.0      True  1070.816945   \n",
       "14         0.0        train       Cori          14.0      True  1019.216123   \n",
       "...        ...          ...        ...           ...       ...          ...   \n",
       "10044     38.0        train    Theiler         337.0      True   594.175591   \n",
       "10045     38.0        train    Theiler         338.0      True   794.096687   \n",
       "10046     38.0        train    Theiler         339.0      True   524.699554   \n",
       "10047     38.0        train    Theiler         340.0      True   504.256772   \n",
       "10048     38.0        train    Theiler         341.0      True   574.262440   \n",
       "\n",
       "       response_time      latency  mouse_resp  \\\n",
       "1        1399.502868   525.089054        -1.0   \n",
       "9        1249.667559   178.450607         1.0   \n",
       "12       1116.563838   150.548564         1.0   \n",
       "13       1333.185519   262.368573         1.0   \n",
       "14       1166.167372   146.951250         1.0   \n",
       "...              ...          ...         ...   \n",
       "10044    2094.292183  1500.116592         0.0   \n",
       "10045    2297.502777  1503.406090         0.0   \n",
       "10046    1158.803425   634.103872        -1.0   \n",
       "10047    2003.708838  1499.452065         0.0   \n",
       "10048    2076.757644  1502.495204         0.0   \n",
       "\n",
       "                                          wheel_velocity  ... past_difficulty  \\\n",
       "1      [0.0, -1.0, 0.0, -1.0, 0.0, 1.0, 0.0, 1.0, 1.0...  ...            0.00   \n",
       "9      [0.0, 0.0, 0.0, 0.0, 0.0, 0.0, 1.0, 0.0, 0.0, ...  ...            1.00   \n",
       "12     [-1.0, -1.0, 0.0, 0.0, 0.0, 0.0, 0.0, 0.0, 0.0...  ...            1.00   \n",
       "13     [0.0, 1.0, 0.0, 0.0, 0.0, 0.0, 0.0, 0.0, 0.0, ...  ...            0.75   \n",
       "14     [0.0, 0.0, 0.0, 0.0, 0.0, 0.0, 0.0, 0.0, 0.0, ...  ...            0.00   \n",
       "...                                                  ...  ...             ...   \n",
       "10044  [-1.0, 0.0, -1.0, -1.0, -2.0, -1.0, -2.0, -1.0...  ...            0.25   \n",
       "10045  [0.0, 0.0, 0.0, 0.0, 0.0, 0.0, 0.0, 0.0, 0.0, ...  ...            0.75   \n",
       "10046  [0.0, 0.0, 0.0, 0.0, 0.0, 0.0, 0.0, 0.0, 0.0, ...  ...            0.25   \n",
       "10047  [0.0, 0.0, 0.0, 0.0, 0.0, -1.0, 0.0, 0.0, 1.0,...  ...            0.25   \n",
       "10048  [0.0, 0.0, 0.0, 0.0, 0.0, 0.0, 0.0, 0.0, 0.0, ...  ...            0.25   \n",
       "\n",
       "       fut_go_trial  fut_acc  fut_latency  fut_difficulty  mean_wheel_vel  \\\n",
       "1              True      1.0   124.078016            0.50             5.0   \n",
       "9              True      1.0   204.115343            0.50            20.0   \n",
       "12             True      1.0   262.368573            0.00            17.0   \n",
       "13             True      1.0   146.951250            0.50            21.0   \n",
       "14             True      1.0    87.146236            0.00            15.0   \n",
       "...             ...      ...          ...             ...             ...   \n",
       "10044          True      0.0  1503.406090            0.25             1.0   \n",
       "10045          True      0.0   634.103872            0.25             1.0   \n",
       "10046          True      0.0  1499.452065            0.25             1.0   \n",
       "10047          True      0.0  1502.495204            0.25             1.0   \n",
       "10048          True      0.0  1511.308304            0.25             1.0   \n",
       "\n",
       "       mean_wheel_acc  fut_mean_wheel_vel  fut_mean_wheel_acc  surprise  \n",
       "1                 2.0                14.0                 2.0 -0.350059  \n",
       "9                 4.0                17.0                 3.0 -0.118967  \n",
       "12                3.0                21.0                 6.0 -0.100366  \n",
       "13                6.0                15.0                 4.0 -0.174912  \n",
       "14                4.0                 4.0                 2.0 -0.097967  \n",
       "...               ...                 ...                 ...       ...  \n",
       "10044             1.0                 1.0                 1.0 -0.000078  \n",
       "10045             1.0                 1.0                 1.0 -0.002271  \n",
       "10046             1.0                 1.0                 1.0  0.577264  \n",
       "10047             1.0                 1.0                 1.0  0.000365  \n",
       "10048             1.0                 1.0                 1.0 -0.001663  \n",
       "\n",
       "[4569 rows x 31 columns]"
      ]
     },
     "execution_count": 211,
     "metadata": {},
     "output_type": "execute_result"
    }
   ],
   "source": [
    "data"
   ]
  },
  {
   "cell_type": "code",
   "execution_count": 212,
   "metadata": {},
   "outputs": [],
   "source": [
    "def rmse(model, X, y): \n",
    "    return np.sum(model.predict(X) - y)**2"
   ]
  },
  {
   "cell_type": "code",
   "execution_count": 233,
   "metadata": {},
   "outputs": [
    {
     "data": {
      "text/plain": [
       "0.549021316199997"
      ]
     },
     "execution_count": 233,
     "metadata": {},
     "output_type": "execute_result"
    }
   ],
   "source": [
    "model.score(X, y)"
   ]
  },
  {
   "cell_type": "code",
   "execution_count": 214,
   "metadata": {},
   "outputs": [
    {
     "data": {
      "text/plain": [
       "4.089454932665725e-25"
      ]
     },
     "execution_count": 214,
     "metadata": {},
     "output_type": "execute_result"
    }
   ],
   "source": [
    "rmse(model, X, y)"
   ]
  },
  {
   "cell_type": "code",
   "execution_count": 225,
   "metadata": {},
   "outputs": [
    {
     "data": {
      "text/plain": [
       "<matplotlib.collections.PathCollection at 0x7fb0ba24b550>"
      ]
     },
     "execution_count": 225,
     "metadata": {},
     "output_type": "execute_result"
    },
    {
     "data": {
      "image/png": "[encoded data removed]",
      "text/plain": [
       "<Figure size 432x288 with 1 Axes>"
      ]
     },
     "metadata": {
      "needs_background": "light"
     },
     "output_type": "display_data"
    }
   ],
   "source": [
    "import matplotlib.pyplot as plt\n",
    "plt.figure()\n",
    "plt.scatter(model.predict(X), y, alpha = 0.3)"
   ]
  },
  {
   "cell_type": "code",
   "execution_count": 153,
   "metadata": {},
   "outputs": [
    {
     "ename": "AttributeError",
     "evalue": "'MLPRegressor' object has no attribute 'coef_'",
     "output_type": "error",
     "traceback": [
      "\u001b[0;31m---------------------------------------------------------------------------\u001b[0m",
      "\u001b[0;31mAttributeError\u001b[0m                            Traceback (most recent call last)",
      "\u001b[0;32m<ipython-input-153-4650e3f7c16c>\u001b[0m in \u001b[0;36m<module>\u001b[0;34m\u001b[0m\n\u001b[0;32m----> 1\u001b[0;31m \u001b[0mmodel\u001b[0m\u001b[0;34m.\u001b[0m\u001b[0mcoef_\u001b[0m\u001b[0;34m\u001b[0m\u001b[0;34m\u001b[0m\u001b[0m\n\u001b[0m",
      "\u001b[0;31mAttributeError\u001b[0m: 'MLPRegressor' object has no attribute 'coef_'"
     ]
    }
   ],
   "source": []
  }
 ],
 "metadata": {
  "kernelspec": {
   "display_name": "Python 3",
   "language": "python",
   "name": "python3"
  },
  "language_info": {
   "codemirror_mode": {
    "name": "ipython",
    "version": 3
   },
   "file_extension": ".py",
   "mimetype": "text/x-python",
   "name": "python",
   "nbconvert_exporter": "python",
   "pygments_lexer": "ipython3",
   "version": "3.7.6"
  }
 },
 "nbformat": 4,
 "nbformat_minor": 4
}
