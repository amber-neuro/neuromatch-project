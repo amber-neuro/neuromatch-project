{
 "cells": [
  {
   "cell_type": "code",
   "execution_count": 1,
   "metadata": {},
   "outputs": [],
   "source": [
    "#@title Steinmetz dataset"
   ]
  },
  {
   "cell_type": "code",
   "execution_count": 93,
   "metadata": {},
   "outputs": [],
   "source": [
    "#Importing data\n",
    "import os, requests\n",
    "\n",
    "fname = []\n",
    "for j in range(3):\n",
    "  fname.append('steinmetz_part%d.npz'%j)\n",
    "url = [\"https://osf.io/agvxh/download\"]\n",
    "url.append(\"https://osf.io/uv3mw/download\")\n",
    "url.append(\"https://osf.io/ehmw2/download\")\n",
    "\n",
    "for j in range(len(url)):\n",
    "  if not os.path.isfile(fname[j]):\n",
    "    try:\n",
    "      r = requests.get(url[j])\n",
    "    except requests.ConnectionError:\n",
    "      print(\"!!! Failed to download data !!!\")\n",
    "    else:\n",
    "      if r.status_code != requests.codes.ok:\n",
    "        print(\"!!! Failed to download data !!!\")\n",
    "      else:\n",
    "        with open(fname[j], \"wb\") as fid:\n",
    "          fid.write(r.content)\n",
    "        \n",
    "alldat = np.array([])\n",
    "for j in range(len(fname)):\n",
    "  alldat = np.hstack((alldat, np.load('steinmetz_part%d.npz'%j, allow_pickle=True)['dat']))\n"
   ]
  },
  {
   "cell_type": "code",
   "execution_count": 94,
   "metadata": {},
   "outputs": [],
   "source": [
    "#Loading data\n",
    "import numpy as np\n",
    "\n",
    "alldat = np.array([])\n",
    "for j in range(len(fname)):\n",
    "  alldat = np.hstack((alldat, np.load('steinmetz_part%d.npz'%j, allow_pickle=True)['dat']))\n"
   ]
  },
  {
   "cell_type": "code",
   "execution_count": 99,
   "metadata": {},
   "outputs": [
    {
     "name": "stdout",
     "output_type": "stream",
     "text": [
      "Total # of sessions in Steinmetz dataset: 39\n",
      "\n",
      "Mouse name and session # in \"alldat\":\n",
      "Session #: 0\n",
      "Mouse name: Cori\n",
      "Session #: 1\n",
      "Mouse name: Cori\n",
      "Session #: 2\n",
      "Mouse name: Cori\n",
      "Session #: 3\n",
      "Mouse name: Forssmann\n",
      "Session #: 4\n",
      "Mouse name: Forssmann\n",
      "Session #: 5\n",
      "Mouse name: Forssmann\n",
      "Session #: 6\n",
      "Mouse name: Forssmann\n",
      "Session #: 7\n",
      "Mouse name: Hench\n",
      "Session #: 8\n",
      "Mouse name: Hench\n",
      "Session #: 9\n",
      "Mouse name: Hench\n",
      "Session #: 10\n",
      "Mouse name: Hench\n",
      "Session #: 11\n",
      "Mouse name: Lederberg\n",
      "Session #: 12\n",
      "Mouse name: Lederberg\n",
      "Session #: 13\n",
      "Mouse name: Lederberg\n",
      "Session #: 14\n",
      "Mouse name: Lederberg\n",
      "Session #: 15\n",
      "Mouse name: Lederberg\n",
      "Session #: 16\n",
      "Mouse name: Lederberg\n",
      "Session #: 17\n",
      "Mouse name: Lederberg\n",
      "Session #: 18\n",
      "Mouse name: Moniz\n",
      "Session #: 19\n",
      "Mouse name: Moniz\n",
      "Session #: 20\n",
      "Mouse name: Moniz\n",
      "Session #: 21\n",
      "Mouse name: Muller\n",
      "Session #: 22\n",
      "Mouse name: Muller\n",
      "Session #: 23\n",
      "Mouse name: Muller\n",
      "Session #: 24\n",
      "Mouse name: Radnitz\n",
      "Session #: 25\n",
      "Mouse name: Radnitz\n",
      "Session #: 26\n",
      "Mouse name: Radnitz\n",
      "Session #: 27\n",
      "Mouse name: Radnitz\n",
      "Session #: 28\n",
      "Mouse name: Radnitz\n",
      "Session #: 29\n",
      "Mouse name: Richards\n",
      "Session #: 30\n",
      "Mouse name: Richards\n",
      "Session #: 31\n",
      "Mouse name: Richards\n",
      "Session #: 32\n",
      "Mouse name: Richards\n",
      "Session #: 33\n",
      "Mouse name: Richards\n",
      "Session #: 34\n",
      "Mouse name: Tatum\n",
      "Session #: 35\n",
      "Mouse name: Tatum\n",
      "Session #: 36\n",
      "Mouse name: Tatum\n",
      "Session #: 37\n",
      "Mouse name: Tatum\n",
      "Session #: 38\n",
      "Mouse name: Theiler\n",
      "\n"
     ]
    }
   ],
   "source": [
    "# Exploring 'alldat'\n",
    "\n",
    "# Total number of sessions in Steinmetz datasent, i.e. the len of 'alldat'\n",
    "print('Total # of sessions in Steinmetz dataset:', len(alldat)) #len of 'alldat'\n",
    "print('')\n",
    "\n",
    "# Mouse name and session # in \"alldat\"\n",
    "print('Mouse name and session # in \"alldat\":')\n",
    "for i in range(len(alldat)):\n",
    "    session = alldat[i]\n",
    "    print('Session #: %s'%(i))\n",
    "    print('Mouse name: %s'%(session['mouse_name']))\n",
    "print('')\n",
    "\n",
    "# Isolate a single session for mouse name: \n",
    "# session = 0 \n",
    "# print('Mouse name: %s'%(alldat[session]['mouse_name']))"
   ]
  },
  {
   "cell_type": "code",
   "execution_count": 106,
   "metadata": {},
   "outputs": [
    {
     "name": "stdout",
     "output_type": "stream",
     "text": [
      "Session #: 11\n",
      "\n",
      "Session 11 keys: dict_keys(['spks', 'wheel', 'pupil', 'lfp', 'response', 'response_time', 'bin_size', 'stim_onset', 'contrast_right', 'contrast_left', 'brain_area', 'brain_area_lfp', 'feedback_time', 'feedback_type', 'gocue', 'mouse_name', 'date_exp', 'trough_to_peak', 'waveform_w', 'waveform_u', 'active_trials', 'contrast_left_passive', 'contrast_right_passive', 'spks_passive', 'lfp_passive', 'pupil_passive', 'wheel_passive'])\n"
     ]
    }
   ],
   "source": [
    "# Selecting a session\n",
    "\n",
    "#print session number\n",
    "session = 11\n",
    "print('Session #: %s'%(session))\n",
    "print('')\n",
    "\n",
    "#select just one of the recordings here. 11 is nice because it has some neurons in vis ctx. \n",
    "dat = alldat[session]\n",
    "\n",
    "print('Session %s keys:'%(session), (dat.keys()))"
   ]
  },
  {
   "cell_type": "code",
   "execution_count": 87,
   "metadata": {},
   "outputs": [
    {
     "name": "stdout",
     "output_type": "stream",
     "text": [
      "Lederberg\n",
      "0.01\n"
     ]
    }
   ],
   "source": [
    "print(dat['mouse_name'])\n",
    "print(dat['bin_size'])"
   ]
  },
  {
   "cell_type": "code",
   "execution_count": null,
   "metadata": {},
   "outputs": [],
   "source": []
  }
 ],
 "metadata": {
  "kernelspec": {
   "display_name": "Python 3",
   "language": "python",
   "name": "python3"
  },
  "language_info": {
   "codemirror_mode": {
    "name": "ipython",
    "version": 3
   },
   "file_extension": ".py",
   "mimetype": "text/x-python",
   "name": "python",
   "nbconvert_exporter": "python",
   "pygments_lexer": "ipython3",
   "version": "3.7.6"
  }
 },
 "nbformat": 4,
 "nbformat_minor": 4
}
