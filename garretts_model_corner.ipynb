{
 "cells": [
  {
   "cell_type": "markdown",
   "metadata": {},
   "source": [
    "# Load Imports and Data"
   ]
  },
  {
   "cell_type": "code",
   "execution_count": 1,
   "metadata": {},
   "outputs": [],
   "source": [
    "from model.model import *\n",
    "from preprocess import *\n",
    "import matplotlib.pyplot as plt\n",
    "%load_ext autoreload\n",
    "%autoreload 2"
   ]
  },
  {
   "cell_type": "code",
   "execution_count": 2,
   "metadata": {},
   "outputs": [
    {
     "name": "stdout",
     "output_type": "stream",
     "text": [
      "Downloading data. This may take a while ...\n",
      "Loading data. Patience, padawan ...\n",
      "Data Loaded. Proceeding to Preprocessing...\n"
     ]
    }
   ],
   "source": [
    "download()\n",
    "alldat = load()\n",
    "print(\"Data Loaded. Proceeding to Preprocessing...\")\n",
    "session = 12"
   ]
  },
  {
   "cell_type": "markdown",
   "metadata": {},
   "source": [
    "# Preprocess Data\n",
    "Preprocess data using the preprocessing function and split into train and test sets. Verbosity sets whether or not to print out at the end"
   ]
  },
  {
   "cell_type": "code",
   "execution_count": 40,
   "metadata": {},
   "outputs": [
    {
     "name": "stdout",
     "output_type": "stream",
     "text": [
      "[float64]   \tsession             \tsession number, indexed 0 - 38\n",
      "[object]   \tsession_type        \tsession type, train / test\n",
      "[object]   \tmouse_name          \tname of the mouse\n",
      "[float64]   \ttrial_number        \ttrial number, indexed 0 to num_trials\n",
      "[bool]   \tgo_trial            \ttrue if go_trial, false if no-go trial\n",
      "[float64]   \tgocue               \ttime of go cue, in ms\n",
      "[float64]   \tresponse_time       \ttime of response, in ms\n",
      "[float64]   \tlatency             \tresponse time - go cue, in ms\n",
      "[float64]   \tmouse_resp          \tmouse response for a given trial\n",
      "[object]   \twheel_velocity      \tvelocity of the wheel\n",
      "[object]   \twheel_acceleration  \tacceleration of the wheel (first derivative of velocity)\n",
      "[float64]   \tfeedback_onset      \tfeedback onset (reward or punishment)\n",
      "[float64]   \tfeedback_type       \t-1 if punish, 0 if none, 1 if reward\n",
      "[float64]   \tcontrast_left       \tleft contrast\n",
      "[float64]   \tcontrast_right      \tright contrast\n",
      "[float64]   \tcontrast_diff       \tcontrast left - contrast right\n",
      "[float64]   \tpres_difficulty     \t1 - absolute value(contrast_diff)\n",
      "[int64]   \tpres_acc            \tpresent accuracy, based on feedback\n",
      "[float64]   \tdelta_response_time \tfirst derivative of response time\n",
      "[float64]   \tpast_acc            \tpast accuracy, based on feedback\n",
      "[float64]   \tpast_latency        \tpast latency, in ms\n",
      "[float64]   \tpast_difficulty     \tpast difficulty\n",
      "[bool]   \tfut_go_trial        \tfuture go_trial, whether true or false\n",
      "[float64]   \tfut_acc             \tfuture accuracy, based on feedback\n",
      "[float64]   \tfut_latency         \tfuture latency, in ms\n",
      "[float64]   \tfut_difficulty      \tfuture difficulty\n"
     ]
    }
   ],
   "source": [
    "dfs = preprocess(alldat, verbose = True)\n",
    "train, test = train_test_split(dfs)"
   ]
  },
  {
   "cell_type": "code",
   "execution_count": 4,
   "metadata": {},
   "outputs": [
    {
     "data": {
      "text/html": [
       "<div>\n",
       "<style scoped>\n",
       "    .dataframe tbody tr th:only-of-type {\n",
       "        vertical-align: middle;\n",
       "    }\n",
       "\n",
       "    .dataframe tbody tr th {\n",
       "        vertical-align: top;\n",
       "    }\n",
       "\n",
       "    .dataframe thead th {\n",
       "        text-align: right;\n",
       "    }\n",
       "</style>\n",
       "<table border=\"1\" class=\"dataframe\">\n",
       "  <thead>\n",
       "    <tr style=\"text-align: right;\">\n",
       "      <th></th>\n",
       "      <th>session</th>\n",
       "      <th>session_type</th>\n",
       "      <th>mouse_name</th>\n",
       "      <th>trial_number</th>\n",
       "      <th>go_trial</th>\n",
       "      <th>gocue</th>\n",
       "      <th>response_time</th>\n",
       "      <th>latency</th>\n",
       "      <th>mouse_resp</th>\n",
       "      <th>wheel_velocity</th>\n",
       "      <th>...</th>\n",
       "      <th>pres_difficulty</th>\n",
       "      <th>pres_acc</th>\n",
       "      <th>delta_response_time</th>\n",
       "      <th>past_acc</th>\n",
       "      <th>past_latency</th>\n",
       "      <th>past_difficulty</th>\n",
       "      <th>fut_go_trial</th>\n",
       "      <th>fut_acc</th>\n",
       "      <th>fut_latency</th>\n",
       "      <th>fut_difficulty</th>\n",
       "    </tr>\n",
       "  </thead>\n",
       "  <tbody>\n",
       "    <tr>\n",
       "      <th>0</th>\n",
       "      <td>0.0</td>\n",
       "      <td>train</td>\n",
       "      <td>Cori</td>\n",
       "      <td>0.0</td>\n",
       "      <td>True</td>\n",
       "      <td>1027.216250</td>\n",
       "      <td>1150.203633</td>\n",
       "      <td>122.987383</td>\n",
       "      <td>1.0</td>\n",
       "      <td>[-1.0, 0.0, 0.0, 0.0, 0.0, 0.0, 0.0, 0.0, 0.0,...</td>\n",
       "      <td>...</td>\n",
       "      <td>0.0</td>\n",
       "      <td>1</td>\n",
       "      <td>0.249299</td>\n",
       "      <td>NaN</td>\n",
       "      <td>NaN</td>\n",
       "      <td>NaN</td>\n",
       "      <td>True</td>\n",
       "      <td>1.0</td>\n",
       "      <td>525.089054</td>\n",
       "      <td>0.5</td>\n",
       "    </tr>\n",
       "    <tr>\n",
       "      <th>1</th>\n",
       "      <td>0.0</td>\n",
       "      <td>train</td>\n",
       "      <td>Cori</td>\n",
       "      <td>1.0</td>\n",
       "      <td>True</td>\n",
       "      <td>874.413814</td>\n",
       "      <td>1399.502868</td>\n",
       "      <td>525.089054</td>\n",
       "      <td>-1.0</td>\n",
       "      <td>[0.0, -1.0, 0.0, -1.0, 0.0, 1.0, 0.0, 1.0, 1.0...</td>\n",
       "      <td>...</td>\n",
       "      <td>0.5</td>\n",
       "      <td>1</td>\n",
       "      <td>-0.450212</td>\n",
       "      <td>1.0</td>\n",
       "      <td>122.987383</td>\n",
       "      <td>0.0</td>\n",
       "      <td>True</td>\n",
       "      <td>1.0</td>\n",
       "      <td>124.078016</td>\n",
       "      <td>0.5</td>\n",
       "    </tr>\n",
       "    <tr>\n",
       "      <th>2</th>\n",
       "      <td>0.0</td>\n",
       "      <td>train</td>\n",
       "      <td>Cori</td>\n",
       "      <td>2.0</td>\n",
       "      <td>True</td>\n",
       "      <td>825.213029</td>\n",
       "      <td>949.291045</td>\n",
       "      <td>124.078016</td>\n",
       "      <td>1.0</td>\n",
       "      <td>[0.0, 0.0, -1.0, 0.0, 0.0, -1.0, 0.0, 0.0, 0.0...</td>\n",
       "      <td>...</td>\n",
       "      <td>0.5</td>\n",
       "      <td>1</td>\n",
       "      <td>1.317511</td>\n",
       "      <td>1.0</td>\n",
       "      <td>525.089054</td>\n",
       "      <td>0.5</td>\n",
       "      <td>False</td>\n",
       "      <td>1.0</td>\n",
       "      <td>1505.189657</td>\n",
       "      <td>1.0</td>\n",
       "    </tr>\n",
       "    <tr>\n",
       "      <th>3</th>\n",
       "      <td>0.0</td>\n",
       "      <td>train</td>\n",
       "      <td>Cori</td>\n",
       "      <td>3.0</td>\n",
       "      <td>False</td>\n",
       "      <td>761.612015</td>\n",
       "      <td>2266.801672</td>\n",
       "      <td>1505.189657</td>\n",
       "      <td>0.0</td>\n",
       "      <td>[0.0, 0.0, 0.0, 0.0, 0.0, 1.0, 0.0, 0.0, 0.0, ...</td>\n",
       "      <td>...</td>\n",
       "      <td>1.0</td>\n",
       "      <td>1</td>\n",
       "      <td>-1.450026</td>\n",
       "      <td>1.0</td>\n",
       "      <td>124.078016</td>\n",
       "      <td>0.5</td>\n",
       "      <td>True</td>\n",
       "      <td>0.0</td>\n",
       "      <td>154.765410</td>\n",
       "      <td>0.5</td>\n",
       "    </tr>\n",
       "    <tr>\n",
       "      <th>4</th>\n",
       "      <td>0.0</td>\n",
       "      <td>train</td>\n",
       "      <td>Cori</td>\n",
       "      <td>4.0</td>\n",
       "      <td>True</td>\n",
       "      <td>662.010427</td>\n",
       "      <td>816.775837</td>\n",
       "      <td>154.765410</td>\n",
       "      <td>1.0</td>\n",
       "      <td>[0.0, 0.0, 0.0, 0.0, 0.0, 0.0, 0.0, 0.0, -1.0,...</td>\n",
       "      <td>...</td>\n",
       "      <td>0.5</td>\n",
       "      <td>0</td>\n",
       "      <td>0.700331</td>\n",
       "      <td>1.0</td>\n",
       "      <td>1505.189657</td>\n",
       "      <td>1.0</td>\n",
       "      <td>False</td>\n",
       "      <td>0.0</td>\n",
       "      <td>330.288154</td>\n",
       "      <td>1.0</td>\n",
       "    </tr>\n",
       "  </tbody>\n",
       "</table>\n",
       "<p>5 rows × 26 columns</p>\n",
       "</div>"
      ],
      "text/plain": [
       "   session session_type mouse_name  trial_number  go_trial        gocue  \\\n",
       "0      0.0        train       Cori           0.0      True  1027.216250   \n",
       "1      0.0        train       Cori           1.0      True   874.413814   \n",
       "2      0.0        train       Cori           2.0      True   825.213029   \n",
       "3      0.0        train       Cori           3.0     False   761.612015   \n",
       "4      0.0        train       Cori           4.0      True   662.010427   \n",
       "\n",
       "   response_time      latency  mouse_resp  \\\n",
       "0    1150.203633   122.987383         1.0   \n",
       "1    1399.502868   525.089054        -1.0   \n",
       "2     949.291045   124.078016         1.0   \n",
       "3    2266.801672  1505.189657         0.0   \n",
       "4     816.775837   154.765410         1.0   \n",
       "\n",
       "                                      wheel_velocity  ... pres_difficulty  \\\n",
       "0  [-1.0, 0.0, 0.0, 0.0, 0.0, 0.0, 0.0, 0.0, 0.0,...  ...             0.0   \n",
       "1  [0.0, -1.0, 0.0, -1.0, 0.0, 1.0, 0.0, 1.0, 1.0...  ...             0.5   \n",
       "2  [0.0, 0.0, -1.0, 0.0, 0.0, -1.0, 0.0, 0.0, 0.0...  ...             0.5   \n",
       "3  [0.0, 0.0, 0.0, 0.0, 0.0, 1.0, 0.0, 0.0, 0.0, ...  ...             1.0   \n",
       "4  [0.0, 0.0, 0.0, 0.0, 0.0, 0.0, 0.0, 0.0, -1.0,...  ...             0.5   \n",
       "\n",
       "   pres_acc  delta_response_time  past_acc  past_latency  past_difficulty  \\\n",
       "0         1             0.249299       NaN           NaN              NaN   \n",
       "1         1            -0.450212       1.0    122.987383              0.0   \n",
       "2         1             1.317511       1.0    525.089054              0.5   \n",
       "3         1            -1.450026       1.0    124.078016              0.5   \n",
       "4         0             0.700331       1.0   1505.189657              1.0   \n",
       "\n",
       "   fut_go_trial  fut_acc  fut_latency  fut_difficulty  \n",
       "0          True      1.0   525.089054             0.5  \n",
       "1          True      1.0   124.078016             0.5  \n",
       "2         False      1.0  1505.189657             1.0  \n",
       "3          True      0.0   154.765410             0.5  \n",
       "4         False      0.0   330.288154             1.0  \n",
       "\n",
       "[5 rows x 26 columns]"
      ]
     },
     "execution_count": 4,
     "metadata": {},
     "output_type": "execute_result"
    }
   ],
   "source": [
    "train.head()"
   ]
  },
  {
   "cell_type": "markdown",
   "metadata": {},
   "source": [
    "# Plot Histograms\n",
    "Plot, like, everything. But not everything. Just some things.\n"
   ]
  },
  {
   "cell_type": "code",
   "execution_count": 80,
   "metadata": {},
   "outputs": [],
   "source": [
    "import seaborn as sns\n",
    "sns.set()\n",
    "def histograms(df, x, by: str = '', fig:str = '', sub:str = '', filter_:dict = None, title = None):\n",
    "    \n",
    "    # Pull out all unique figure distinctions \n",
    "    if fig is not '':\n",
    "        fig_list = sorted(set(df[fig]))\n",
    "    else:\n",
    "        fig_list = ['']\n",
    "        \n",
    "    # Pull out all unique subfigure distinctions \n",
    "    if sub is not '':\n",
    "        sub_list = sorted(set(df[sub]))\n",
    "    else:\n",
    "        sub_list = ['']\n",
    "        \n",
    "    if by is not '':\n",
    "        by_list = sorted(set(df[by]))\n",
    "    else:\n",
    "        by_list = ['']\n",
    "    \n",
    "    \n",
    "    df.head()\n",
    "    if filter_ is not None: \n",
    "        for key in filter_.keys(): \n",
    "            df = df[df[key] == filter_[key]]\n",
    "            \n",
    "    df.head()\n",
    "            \n",
    "    for fig_i,fig_val in enumerate(fig_list):\n",
    "        plt.figure(fig_i,figsize=(20,10));\n",
    "        if fig_val is not '':\n",
    "            df_fig = df[df[fig] == fig_val]\n",
    "        else:\n",
    "            df_fig = df\n",
    "        for sub_i,sub_val in enumerate(sub_list):\n",
    "            plt.subplot(np.ceil(np.sqrt(len(sub_list))), np.ceil(np.sqrt(len(sub_list))), sub_i+1)\n",
    "            if sub_val is not '':\n",
    "                df_sub = df_fig[df_fig[sub] == sub_val]\n",
    "            else:\n",
    "                df_sub = df_fig\n",
    "            for by_i,by_val in enumerate(by_list):\n",
    "                if by_val is not '':\n",
    "                    df_by = df_sub[df_sub[by] == by_val]\n",
    "                else:\n",
    "                    df_by = df_sub\n",
    "                try:\n",
    "                    bins = 30;#int(np.round(np.ptp(df_by[x].to_numpy())/20))\n",
    "                except: \n",
    "                    bins = 1\n",
    "\n",
    "                if bins is not 0:\n",
    "                    plt.hist(x = x, data = df_by, alpha = 0.5, label = \"%s: %s\"%(by, by_val),bins=bins)\n",
    "                    plt.xlabel(x)\n",
    "                    plt.legend()\n",
    "                    plt.title(str(sub) + ' = ' + str(sub_val))\n",
    "        plt.tight_layout()\n",
    "        plt.suptitle(str(fig_val) + ' ' + str(x),fontweight='bold', fontsize=16)\n",
    "        plt.subplots_adjust(top=0.90)\n",
    "        plt.show()"
   ]
  },
  {
   "cell_type": "code",
   "execution_count": 81,
   "metadata": {},
   "outputs": [
    {
     "name": "stderr",
     "output_type": "stream",
     "text": [
      "/opt/anaconda3/lib/python3.7/site-packages/ipykernel_launcher.py:1: SettingWithCopyWarning: \n",
      "A value is trying to be set on a copy of a slice from a DataFrame.\n",
      "Try using .loc[row_indexer,col_indexer] = value instead\n",
      "\n",
      "See the caveats in the documentation: https://pandas.pydata.org/pandas-docs/stable/user_guide/indexing.html#returning-a-view-versus-a-copy\n",
      "  \"\"\"Entry point for launching an IPython kernel.\n"
     ]
    }
   ],
   "source": [
    "train['lat_chg'] = train['latency'].diff()"
   ]
  },
  {
   "cell_type": "code",
   "execution_count": 82,
   "metadata": {},
   "outputs": [
    {
     "name": "stderr",
     "output_type": "stream",
     "text": [
      "/opt/anaconda3/lib/python3.7/site-packages/ipykernel_launcher.py:1: SettingWithCopyWarning: \n",
      "A value is trying to be set on a copy of a slice from a DataFrame.\n",
      "Try using .loc[row_indexer,col_indexer] = value instead\n",
      "\n",
      "See the caveats in the documentation: https://pandas.pydata.org/pandas-docs/stable/user_guide/indexing.html#returning-a-view-versus-a-copy\n",
      "  \"\"\"Entry point for launching an IPython kernel.\n",
      "/opt/anaconda3/lib/python3.7/site-packages/ipykernel_launcher.py:2: SettingWithCopyWarning: \n",
      "A value is trying to be set on a copy of a slice from a DataFrame\n",
      "\n",
      "See the caveats in the documentation: https://pandas.pydata.org/pandas-docs/stable/user_guide/indexing.html#returning-a-view-versus-a-copy\n",
      "  \n",
      "/opt/anaconda3/lib/python3.7/site-packages/ipykernel_launcher.py:4: SettingWithCopyWarning: \n",
      "A value is trying to be set on a copy of a slice from a DataFrame\n",
      "\n",
      "See the caveats in the documentation: https://pandas.pydata.org/pandas-docs/stable/user_guide/indexing.html#returning-a-view-versus-a-copy\n",
      "  after removing the cwd from sys.path.\n"
     ]
    }
   ],
   "source": [
    "train['mode'] = 0\n",
    "train['mode'][train['latency']<200] = 1\n",
    "train_2 = (train['latency']>=200).to_numpy() & (train['latency']<400).to_numpy()\n",
    "train['mode'][train_2] = 2"
   ]
  },
  {
   "cell_type": "code",
   "execution_count": 86,
   "metadata": {},
   "outputs": [
    {
     "data": {
      "image/png": "[encoded data removed]",
      "text/plain": [
       "<Figure size 1440x720 with 1 Axes>"
      ]
     },
     "metadata": {},
     "output_type": "display_data"
    },
    {
     "data": {
      "image/png": "[encoded data removed]",
      "text/plain": [
       "<Figure size 1440x720 with 1 Axes>"
      ]
     },
     "metadata": {},
     "output_type": "display_data"
    },
    {
     "data": {
      "image/png": "[encoded data removed]",
      "text/plain": [
       "<Figure size 1440x720 with 3 Axes>"
      ]
     },
     "metadata": {},
     "output_type": "display_data"
    }
   ],
   "source": [
    "sns.set()\n",
    "f = {\"go_trial\": True, \"fut_go_trial\": True} #,\"feedback_type\":1.0}\n",
    "histograms(train, x=\"trial_number\", by= \"mode\",filter_ = f)\n",
    "histograms(train, x=\"trial_number\", fig = \"mouse_name\", sub=\"pres_difficulty\",by= \"mode\", filter_ = f)\n",
    "# histograms(train, x=\"lat_chg\",filter_ = f)\n",
    "# histograms(train, x=\"lat_chg\", by= \"feedback_type\",filter_ = f)\n",
    "# histograms(train, x=\"lat_chg\", sub=\"pres_difficulty\",by= \"feedback_type\", filter_ = f)"
   ]
  },
  {
   "cell_type": "code",
   "execution_count": 15,
   "metadata": {},
   "outputs": [
    {
     "data": {
      "text/plain": [
       "Index(['session', 'session_type', 'mouse_name', 'trial_number', 'go_trial',\n",
       "       'gocue', 'response_time', 'latency', 'mouse_resp', 'wheel_velocity',\n",
       "       'wheel_acceleration', 'feedback_onset', 'feedback_type',\n",
       "       'contrast_left', 'contrast_right', 'contrast_diff', 'pres_difficulty',\n",
       "       'pres_acc', 'delta_response_time', 'past_acc', 'past_latency',\n",
       "       'past_difficulty', 'fut_go_trial', 'fut_acc', 'fut_latency',\n",
       "       'fut_difficulty', 'lat_chg', 'mode'],\n",
       "      dtype='object')"
      ]
     },
     "execution_count": 15,
     "metadata": {},
     "output_type": "execute_result"
    }
   ],
   "source": [
    "train.columns"
   ]
  },
  {
   "cell_type": "code",
   "execution_count": 16,
   "metadata": {},
   "outputs": [],
   "source": [
    "for i in [0, 0.25, 0.5, 0.75, 1.0]:\n",
    "    f = {\"fut_difficulty\": i, \"go_trial\": True, \"fut_go_trial\": True}\n",
    "    plots(train, y= \"pres_difficulty\", features = [\"wheel_acceleration\"], filter_= f, hue= \"mode\")\n",
    "    "
   ]
  },
  {
   "cell_type": "markdown",
   "metadata": {},
   "source": [
    "# Model Stuff (not working)\n",
    "## Features"
   ]
  },
  {
   "cell_type": "code",
   "execution_count": 17,
   "metadata": {},
   "outputs": [],
   "source": [
    "df = train"
   ]
  },
  {
   "cell_type": "code",
   "execution_count": 63,
   "metadata": {},
   "outputs": [
    {
     "data": {
      "text/plain": [
       "0        1\n",
       "1        1\n",
       "2        1\n",
       "3        1\n",
       "4        0\n",
       "        ..\n",
       "10045    0\n",
       "10046    0\n",
       "10047    0\n",
       "10048    0\n",
       "10049    0\n",
       "Name: pres_acc, Length: 7814, dtype: int64"
      ]
     },
     "execution_count": 63,
     "metadata": {},
     "output_type": "execute_result"
    }
   ],
   "source": [
    "df['pres_acc']"
   ]
  },
  {
   "cell_type": "markdown",
   "metadata": {},
   "source": [
    "## Per Session Model and Analytics"
   ]
  },
  {
   "cell_type": "code",
   "execution_count": 65,
   "metadata": {},
   "outputs": [
    {
     "name": "stderr",
     "output_type": "stream",
     "text": [
      "/opt/anaconda3/lib/python3.7/site-packages/ipykernel_launcher.py:12: SettingWithCopyWarning: \n",
      "A value is trying to be set on a copy of a slice from a DataFrame\n",
      "\n",
      "See the caveats in the documentation: https://pandas.pydata.org/pandas-docs/stable/user_guide/indexing.html#returning-a-view-versus-a-copy\n",
      "  if sys.path[0] == '':\n"
     ]
    }
   ],
   "source": [
    "from sklearn.metrics import mean_squared_error as mse \n",
    "from scipy.special import expit\n",
    "total_time = 2 # in s\n",
    "alpha = np.linspace(0,1,10)\n",
    "unique_sessions = np.unique(df['session'])\n",
    "mse_model = np.empty([len(alpha),len(unique_sessions)])\n",
    "\n",
    "df['pres_conf_pred'] = 0;\n",
    "df['expected_fut_acc'] = 0\n",
    "df['surprise'] = 0;\n",
    "df['pres_confidence'] = 1 - ((df['latency'])/total_time);\n",
    "df['pres_conf_pred'][0] = df['confidence'][0];"
   ]
  },
  {
   "cell_type": "code",
   "execution_count": 73,
   "metadata": {},
   "outputs": [
    {
     "name": "stderr",
     "output_type": "stream",
     "text": [
      "/opt/anaconda3/lib/python3.7/site-packages/ipykernel_launcher.py:10: SettingWithCopyWarning: \n",
      "A value is trying to be set on a copy of a slice from a DataFrame\n",
      "\n",
      "See the caveats in the documentation: https://pandas.pydata.org/pandas-docs/stable/user_guide/indexing.html#returning-a-view-versus-a-copy\n",
      "  # Remove the CWD from sys.path while we load stuff.\n",
      "/opt/anaconda3/lib/python3.7/site-packages/ipykernel_launcher.py:11: SettingWithCopyWarning: \n",
      "A value is trying to be set on a copy of a slice from a DataFrame\n",
      "\n",
      "See the caveats in the documentation: https://pandas.pydata.org/pandas-docs/stable/user_guide/indexing.html#returning-a-view-versus-a-copy\n",
      "  # This is added back by InteractiveShellApp.init_path()\n"
     ]
    },
    {
     "name": "stdout",
     "output_type": "stream",
     "text": [
      "0.0\n",
      "0.1111111111111111\n",
      "0.2222222222222222\n",
      "0.3333333333333333\n",
      "0.4444444444444444\n"
     ]
    },
    {
     "ename": "KeyboardInterrupt",
     "evalue": "",
     "output_type": "error",
     "traceback": [
      "\u001b[0;31m---------------------------------------------------------------------------\u001b[0m",
      "\u001b[0;31mKeyboardInterrupt\u001b[0m                         Traceback (most recent call last)",
      "\u001b[0;32m<ipython-input-73-1b179958b354>\u001b[0m in \u001b[0;36m<module>\u001b[0;34m\u001b[0m\n\u001b[1;32m      8\u001b[0m         \u001b[0;31m# Compute predicted confidence\u001b[0m\u001b[0;34m\u001b[0m\u001b[0;34m\u001b[0m\u001b[0;34m\u001b[0m\u001b[0m\n\u001b[1;32m      9\u001b[0m         \u001b[0;32mfor\u001b[0m \u001b[0mt\u001b[0m\u001b[0;34m,\u001b[0m \u001b[0mrow\u001b[0m \u001b[0;32min\u001b[0m \u001b[0mtrain\u001b[0m\u001b[0;34m.\u001b[0m\u001b[0miterrows\u001b[0m\u001b[0;34m(\u001b[0m\u001b[0;34m)\u001b[0m\u001b[0;34m:\u001b[0m\u001b[0;34m\u001b[0m\u001b[0;34m\u001b[0m\u001b[0m\n\u001b[0;32m---> 10\u001b[0;31m             \u001b[0mdf\u001b[0m\u001b[0;34m[\u001b[0m\u001b[0;34m'expected_fut_acc'\u001b[0m\u001b[0;34m]\u001b[0m\u001b[0;34m[\u001b[0m\u001b[0mt\u001b[0m\u001b[0;34m]\u001b[0m \u001b[0;34m=\u001b[0m \u001b[0;34m(\u001b[0m\u001b[0;36m1\u001b[0m\u001b[0;34m-\u001b[0m\u001b[0mdf\u001b[0m\u001b[0;34m[\u001b[0m\u001b[0;34m'fut_difficulty'\u001b[0m\u001b[0;34m]\u001b[0m\u001b[0;34m[\u001b[0m\u001b[0mt\u001b[0m\u001b[0;34m]\u001b[0m\u001b[0;34m)\u001b[0m\u001b[0;34m*\u001b[0m\u001b[0mdf\u001b[0m\u001b[0;34m[\u001b[0m\u001b[0;34m'pres_conf_pred'\u001b[0m\u001b[0;34m]\u001b[0m\u001b[0;34m[\u001b[0m\u001b[0mt\u001b[0m\u001b[0;34m]\u001b[0m\u001b[0;34m;\u001b[0m\u001b[0;34m\u001b[0m\u001b[0;34m\u001b[0m\u001b[0m\n\u001b[0m\u001b[1;32m     11\u001b[0m             \u001b[0mdf\u001b[0m\u001b[0;34m[\u001b[0m\u001b[0;34m'surprise'\u001b[0m\u001b[0;34m]\u001b[0m\u001b[0;34m[\u001b[0m\u001b[0mt\u001b[0m\u001b[0;34m]\u001b[0m \u001b[0;34m=\u001b[0m \u001b[0mdf\u001b[0m\u001b[0;34m[\u001b[0m\u001b[0;34m'fut_acc'\u001b[0m\u001b[0;34m]\u001b[0m\u001b[0;34m[\u001b[0m\u001b[0mt\u001b[0m\u001b[0;34m]\u001b[0m \u001b[0;34m-\u001b[0m \u001b[0mdf\u001b[0m\u001b[0;34m[\u001b[0m\u001b[0;34m'expected_fut_acc'\u001b[0m\u001b[0;34m]\u001b[0m\u001b[0;34m[\u001b[0m\u001b[0mt\u001b[0m\u001b[0;34m]\u001b[0m\u001b[0;34m;\u001b[0m\u001b[0;34m\u001b[0m\u001b[0;34m\u001b[0m\u001b[0m\n\u001b[1;32m     12\u001b[0m             \u001b[0mdf\u001b[0m\u001b[0;34m[\u001b[0m\u001b[0;34m'pres_conf_pred'\u001b[0m\u001b[0;34m]\u001b[0m \u001b[0;34m=\u001b[0m \u001b[0mexpit\u001b[0m\u001b[0;34m(\u001b[0m\u001b[0mdf\u001b[0m\u001b[0;34m[\u001b[0m\u001b[0;34m'pres_conf_pred'\u001b[0m\u001b[0;34m]\u001b[0m\u001b[0;34m[\u001b[0m\u001b[0mt\u001b[0m\u001b[0;34m]\u001b[0m \u001b[0;34m+\u001b[0m \u001b[0ma\u001b[0m\u001b[0;34m*\u001b[0m\u001b[0mdf\u001b[0m\u001b[0;34m[\u001b[0m\u001b[0;34m'surprise'\u001b[0m\u001b[0;34m]\u001b[0m\u001b[0;34m[\u001b[0m\u001b[0mt\u001b[0m\u001b[0;34m]\u001b[0m\u001b[0;34m)\u001b[0m\u001b[0;34m\u001b[0m\u001b[0;34m\u001b[0m\u001b[0m\n",
      "\u001b[0;32m/opt/anaconda3/lib/python3.7/site-packages/pandas/core/frame.py\u001b[0m in \u001b[0;36m__getitem__\u001b[0;34m(self, key)\u001b[0m\n\u001b[1;32m   2774\u001b[0m                 \u001b[0;32mif\u001b[0m \u001b[0mself\u001b[0m\u001b[0;34m.\u001b[0m\u001b[0mcolumns\u001b[0m\u001b[0;34m.\u001b[0m\u001b[0mnlevels\u001b[0m \u001b[0;34m>\u001b[0m \u001b[0;36m1\u001b[0m\u001b[0;34m:\u001b[0m\u001b[0;34m\u001b[0m\u001b[0;34m\u001b[0m\u001b[0m\n\u001b[1;32m   2775\u001b[0m                     \u001b[0;32mreturn\u001b[0m \u001b[0mself\u001b[0m\u001b[0;34m.\u001b[0m\u001b[0m_getitem_multilevel\u001b[0m\u001b[0;34m(\u001b[0m\u001b[0mkey\u001b[0m\u001b[0;34m)\u001b[0m\u001b[0;34m\u001b[0m\u001b[0;34m\u001b[0m\u001b[0m\n\u001b[0;32m-> 2776\u001b[0;31m                 \u001b[0;32mreturn\u001b[0m \u001b[0mself\u001b[0m\u001b[0;34m.\u001b[0m\u001b[0m_get_item_cache\u001b[0m\u001b[0;34m(\u001b[0m\u001b[0mkey\u001b[0m\u001b[0;34m)\u001b[0m\u001b[0;34m\u001b[0m\u001b[0;34m\u001b[0m\u001b[0m\n\u001b[0m\u001b[1;32m   2777\u001b[0m \u001b[0;34m\u001b[0m\u001b[0m\n\u001b[1;32m   2778\u001b[0m         \u001b[0;31m# Do we have a slicer (on rows)?\u001b[0m\u001b[0;34m\u001b[0m\u001b[0;34m\u001b[0m\u001b[0;34m\u001b[0m\u001b[0m\n",
      "\u001b[0;32m/opt/anaconda3/lib/python3.7/site-packages/pandas/core/generic.py\u001b[0m in \u001b[0;36m_get_item_cache\u001b[0;34m(self, item)\u001b[0m\n\u001b[1;32m   3584\u001b[0m         \u001b[0mres\u001b[0m \u001b[0;34m=\u001b[0m \u001b[0mcache\u001b[0m\u001b[0;34m.\u001b[0m\u001b[0mget\u001b[0m\u001b[0;34m(\u001b[0m\u001b[0mitem\u001b[0m\u001b[0;34m)\u001b[0m\u001b[0;34m\u001b[0m\u001b[0;34m\u001b[0m\u001b[0m\n\u001b[1;32m   3585\u001b[0m         \u001b[0;32mif\u001b[0m \u001b[0mres\u001b[0m \u001b[0;32mis\u001b[0m \u001b[0;32mNone\u001b[0m\u001b[0;34m:\u001b[0m\u001b[0;34m\u001b[0m\u001b[0;34m\u001b[0m\u001b[0m\n\u001b[0;32m-> 3586\u001b[0;31m             \u001b[0mvalues\u001b[0m \u001b[0;34m=\u001b[0m \u001b[0mself\u001b[0m\u001b[0;34m.\u001b[0m\u001b[0m_data\u001b[0m\u001b[0;34m.\u001b[0m\u001b[0mget\u001b[0m\u001b[0;34m(\u001b[0m\u001b[0mitem\u001b[0m\u001b[0;34m)\u001b[0m\u001b[0;34m\u001b[0m\u001b[0;34m\u001b[0m\u001b[0m\n\u001b[0m\u001b[1;32m   3587\u001b[0m             \u001b[0mres\u001b[0m \u001b[0;34m=\u001b[0m \u001b[0mself\u001b[0m\u001b[0;34m.\u001b[0m\u001b[0m_box_item_values\u001b[0m\u001b[0;34m(\u001b[0m\u001b[0mitem\u001b[0m\u001b[0;34m,\u001b[0m \u001b[0mvalues\u001b[0m\u001b[0;34m)\u001b[0m\u001b[0;34m\u001b[0m\u001b[0;34m\u001b[0m\u001b[0m\n\u001b[1;32m   3588\u001b[0m             \u001b[0mcache\u001b[0m\u001b[0;34m[\u001b[0m\u001b[0mitem\u001b[0m\u001b[0;34m]\u001b[0m \u001b[0;34m=\u001b[0m \u001b[0mres\u001b[0m\u001b[0;34m\u001b[0m\u001b[0;34m\u001b[0m\u001b[0m\n",
      "\u001b[0;32m/opt/anaconda3/lib/python3.7/site-packages/pandas/core/internals/managers.py\u001b[0m in \u001b[0;36mget\u001b[0;34m(self, item)\u001b[0m\n\u001b[1;32m    966\u001b[0m                         \u001b[0;32mraise\u001b[0m \u001b[0mValueError\u001b[0m\u001b[0;34m(\u001b[0m\u001b[0;34m\"cannot label index with a null key\"\u001b[0m\u001b[0;34m)\u001b[0m\u001b[0;34m\u001b[0m\u001b[0;34m\u001b[0m\u001b[0m\n\u001b[1;32m    967\u001b[0m \u001b[0;34m\u001b[0m\u001b[0m\n\u001b[0;32m--> 968\u001b[0;31m             \u001b[0;32mreturn\u001b[0m \u001b[0mself\u001b[0m\u001b[0;34m.\u001b[0m\u001b[0miget\u001b[0m\u001b[0;34m(\u001b[0m\u001b[0mloc\u001b[0m\u001b[0;34m)\u001b[0m\u001b[0;34m\u001b[0m\u001b[0;34m\u001b[0m\u001b[0m\n\u001b[0m\u001b[1;32m    969\u001b[0m         \u001b[0;32melse\u001b[0m\u001b[0;34m:\u001b[0m\u001b[0;34m\u001b[0m\u001b[0;34m\u001b[0m\u001b[0m\n\u001b[1;32m    970\u001b[0m \u001b[0;34m\u001b[0m\u001b[0m\n",
      "\u001b[0;32m/opt/anaconda3/lib/python3.7/site-packages/pandas/core/internals/managers.py\u001b[0m in \u001b[0;36miget\u001b[0;34m(self, i)\u001b[0m\n\u001b[1;32m    993\u001b[0m                 )\n\u001b[1;32m    994\u001b[0m             ],\n\u001b[0;32m--> 995\u001b[0;31m             \u001b[0mself\u001b[0m\u001b[0;34m.\u001b[0m\u001b[0maxes\u001b[0m\u001b[0;34m[\u001b[0m\u001b[0;36m1\u001b[0m\u001b[0;34m]\u001b[0m\u001b[0;34m,\u001b[0m\u001b[0;34m\u001b[0m\u001b[0;34m\u001b[0m\u001b[0m\n\u001b[0m\u001b[1;32m    996\u001b[0m         )\n\u001b[1;32m    997\u001b[0m \u001b[0;34m\u001b[0m\u001b[0m\n",
      "\u001b[0;32m/opt/anaconda3/lib/python3.7/site-packages/pandas/core/internals/managers.py\u001b[0m in \u001b[0;36m__init__\u001b[0;34m(self, block, axis, do_integrity_check, fastpath)\u001b[0m\n\u001b[1;32m   1499\u001b[0m \u001b[0;34m\u001b[0m\u001b[0m\n\u001b[1;32m   1500\u001b[0m                 \u001b[0;31m# provide consolidation to the interleaved_dtype\u001b[0m\u001b[0;34m\u001b[0m\u001b[0;34m\u001b[0m\u001b[0;34m\u001b[0m\u001b[0m\n\u001b[0;32m-> 1501\u001b[0;31m                 \u001b[0;32mif\u001b[0m \u001b[0mlen\u001b[0m\u001b[0;34m(\u001b[0m\u001b[0mblock\u001b[0m\u001b[0;34m)\u001b[0m \u001b[0;34m>\u001b[0m \u001b[0;36m1\u001b[0m\u001b[0;34m:\u001b[0m\u001b[0;34m\u001b[0m\u001b[0;34m\u001b[0m\u001b[0m\n\u001b[0m\u001b[1;32m   1502\u001b[0m                     \u001b[0mdtype\u001b[0m \u001b[0;34m=\u001b[0m \u001b[0m_interleaved_dtype\u001b[0m\u001b[0;34m(\u001b[0m\u001b[0mblock\u001b[0m\u001b[0;34m)\u001b[0m\u001b[0;34m\u001b[0m\u001b[0;34m\u001b[0m\u001b[0m\n\u001b[1;32m   1503\u001b[0m                     \u001b[0mblock\u001b[0m \u001b[0;34m=\u001b[0m \u001b[0;34m[\u001b[0m\u001b[0mb\u001b[0m\u001b[0;34m.\u001b[0m\u001b[0mastype\u001b[0m\u001b[0;34m(\u001b[0m\u001b[0mdtype\u001b[0m\u001b[0;34m)\u001b[0m \u001b[0;32mfor\u001b[0m \u001b[0mb\u001b[0m \u001b[0;32min\u001b[0m \u001b[0mblock\u001b[0m\u001b[0;34m]\u001b[0m\u001b[0;34m\u001b[0m\u001b[0;34m\u001b[0m\u001b[0m\n",
      "\u001b[0;31mKeyboardInterrupt\u001b[0m: "
     ]
    }
   ],
   "source": [
    "for sess_ind, session in enumerate(unique_sessions):\n",
    "    # Convert into trial-feature matrix\n",
    "    past_confidence = confidence[:-1]\n",
    "    current_confidence = confidence[1:]\n",
    "    \n",
    "    # -------------------------- MODEL -------------------------- \n",
    "    for a_ind,a in enumerate(alpha):\n",
    "        # Compute predicted confidence\n",
    "        for t, row in train.iterrows():\n",
    "            df['expected_fut_acc'][t] = (1-df['fut_difficulty'][t])*df['pres_conf_pred'][t];\n",
    "            df['surprise'][t] = df['fut_acc'][t] - df['expected_fut_acc'][t];\n",
    "            df['pres_conf_pred'] = expit(df['pres_conf_pred'][t] + a*df['surprise'][t])\n",
    "        \n",
    "        print(a)\n",
    "        df.dropna()\n",
    "        df.head\n",
    "        # -------------------------- MSE Analysis -------------------------- \n",
    "#         mse_model[a_ind,sess_ind] = mse(df['pres_confidence'], df['pres_conf_pred']);\n",
    "        \n",
    "    print(\"Session\" + str(sess_ind) + \" done\")\n"
   ]
  },
  {
   "cell_type": "markdown",
   "metadata": {},
   "source": [
    "## Plot the Results"
   ]
  },
  {
   "cell_type": "code",
   "execution_count": 36,
   "metadata": {
    "scrolled": true
   },
   "outputs": [
    {
     "data": {
      "text/plain": [
       "[<matplotlib.lines.Line2D at 0x7fdea88fded0>,\n",
       " <matplotlib.lines.Line2D at 0x7fdea76dd190>,\n",
       " <matplotlib.lines.Line2D at 0x7fdea76dd350>,\n",
       " <matplotlib.lines.Line2D at 0x7fdea76dd510>,\n",
       " <matplotlib.lines.Line2D at 0x7fdea76dd6d0>,\n",
       " <matplotlib.lines.Line2D at 0x7fdea76dd850>,\n",
       " <matplotlib.lines.Line2D at 0x7fdea76dda90>,\n",
       " <matplotlib.lines.Line2D at 0x7fdea76ddc50>,\n",
       " <matplotlib.lines.Line2D at 0x7fdea76dde10>,\n",
       " <matplotlib.lines.Line2D at 0x7fdea76dd890>,\n",
       " <matplotlib.lines.Line2D at 0x7fdea76e0190>,\n",
       " <matplotlib.lines.Line2D at 0x7fdea76e0350>,\n",
       " <matplotlib.lines.Line2D at 0x7fdea76e0510>,\n",
       " <matplotlib.lines.Line2D at 0x7fdea76e06d0>,\n",
       " <matplotlib.lines.Line2D at 0x7fdea76e0890>,\n",
       " <matplotlib.lines.Line2D at 0x7fdea76e0a50>,\n",
       " <matplotlib.lines.Line2D at 0x7fdea76e0c10>,\n",
       " <matplotlib.lines.Line2D at 0x7fdea76e0dd0>,\n",
       " <matplotlib.lines.Line2D at 0x7fdea76e0f90>,\n",
       " <matplotlib.lines.Line2D at 0x7fdea76e4190>,\n",
       " <matplotlib.lines.Line2D at 0x7fdea76e4350>,\n",
       " <matplotlib.lines.Line2D at 0x7fdea76e4510>,\n",
       " <matplotlib.lines.Line2D at 0x7fdea76e46d0>,\n",
       " <matplotlib.lines.Line2D at 0x7fdea76e4890>,\n",
       " <matplotlib.lines.Line2D at 0x7fdea76e4a50>,\n",
       " <matplotlib.lines.Line2D at 0x7fdea76e4c10>,\n",
       " <matplotlib.lines.Line2D at 0x7fdea76e4dd0>,\n",
       " <matplotlib.lines.Line2D at 0x7fdea76e4f90>,\n",
       " <matplotlib.lines.Line2D at 0x7fdea76e8190>,\n",
       " <matplotlib.lines.Line2D at 0x7fdea76e8350>]"
      ]
     },
     "execution_count": 36,
     "metadata": {},
     "output_type": "execute_result"
    },
    {
     "data": {
      "image/png": "[encoded data removed]",
      "text/plain": [
       "<Figure size 960x160 with 1 Axes>"
      ]
     },
     "metadata": {},
     "output_type": "display_data"
    },
    {
     "data": {
      "image/png": "[encoded data removed]",
      "text/plain": [
       "<Figure size 960x160 with 1 Axes>"
      ]
     },
     "metadata": {},
     "output_type": "display_data"
    }
   ],
   "source": [
    "# Plot the model results with ground truth\n",
    "plt.figure(num=1, figsize=(12, 2), dpi=80, facecolor='w', edgecolor='k')\n",
    "plt.plot(conf_pred,color='blue')\n",
    "plt.plot(confidence,color='black')\n",
    "plt.ylim([0,1]);\n",
    "plt.xlim([0,100])\n",
    "\n",
    "plt.figure(num=2, figsize=(12, 2), dpi=80, facecolor='w', edgecolor='k')\n",
    "plt.plot(alpha,mse_model,color='blue')"
   ]
  },
  {
   "cell_type": "code",
   "execution_count": null,
   "metadata": {},
   "outputs": [],
   "source": []
  }
 ],
 "metadata": {
  "kernelspec": {
   "display_name": "Python 3",
   "language": "python",
   "name": "python3"
  },
  "language_info": {
   "codemirror_mode": {
    "name": "ipython",
    "version": 3
   },
   "file_extension": ".py",
   "mimetype": "text/x-python",
   "name": "python",
   "nbconvert_exporter": "python",
   "pygments_lexer": "ipython3",
   "version": "3.7.6"
  }
 },
 "nbformat": 4,
 "nbformat_minor": 4
}
