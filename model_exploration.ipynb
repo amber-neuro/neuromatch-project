{
 "cells": [
  {
   "cell_type": "code",
   "execution_count": 1,
   "metadata": {},
   "outputs": [],
   "source": [
    "from model.model import *\n",
    "from preprocess import *\n",
    "import matplotlib.pyplot as plt\n",
    "%load_ext autoreload\n",
    "%autoreload 2"
   ]
  },
  {
   "cell_type": "code",
   "execution_count": 2,
   "metadata": {},
   "outputs": [
    {
     "name": "stdout",
     "output_type": "stream",
     "text": [
      "Downloading data. This may take a while ...\n",
      "Loading data. Patience, padawan ...\n",
      "Data Loaded. Proceeding to Preprocessing...\n"
     ]
    }
   ],
   "source": [
    "download()\n",
    "alldat = load()\n",
    "print(\"Data Loaded. Proceeding to Preprocessing...\")\n",
    "session = 12"
   ]
  },
  {
   "cell_type": "code",
   "execution_count": 3,
   "metadata": {},
   "outputs": [
    {
     "name": "stdout",
     "output_type": "stream",
     "text": [
      "[float64]   \tsession             \tsession number, indexed 0 - 38\n",
      "[object]   \tsession_type        \tsession type, train / test\n",
      "[object]   \tmouse_name          \tname of the mouse\n",
      "[float64]   \ttrial_number        \ttrial number, indexed 0 to num_trials\n",
      "[bool]   \tgo_trial            \ttrue if go_trial, false if no-go trial\n",
      "[float64]   \tgocue               \ttime of go cue, in ms\n",
      "[float64]   \tresponse_time       \ttime of response, in ms\n",
      "[float64]   \tlatency             \tresponse time - go cue, in ms\n",
      "[float64]   \tmouse_resp          \tmouse response for a given trial\n",
      "[object]   \twheel_velocity      \tvelocity of the wheel\n",
      "[object]   \twheel_acceleration  \tacceleration of the wheel (first derivative of velocity)\n",
      "[float64]   \tfeedback_onset      \tfeedback onset (reward or punishment)\n",
      "[float64]   \tfeedback_type       \t-1 if punish, 0 if none, 1 if reward\n",
      "[float64]   \tcontrast_left       \tleft contrast\n",
      "[float64]   \tcontrast_right      \tright contrast\n",
      "[float64]   \tcontrast_diff       \tcontrast left - contrast right\n",
      "[float64]   \tpres_difficulty     \t1 - absolute value(contrast_diff)\n",
      "[int64]   \tpres_acc            \tpresent accuracy, based on feedback\n",
      "[float64]   \tresponse_time_diff  \tfirst derivative of response time\n",
      "[float64]   \tpast_acc            \tpast accuracy, based on feedback\n",
      "[float64]   \tpast_latency        \tpast latency, in ms\n",
      "[float64]   \tpast_difficulty     \tpast difficulty\n",
      "[bool]   \tfut_go_trial        \tfuture go_trial, whether true or false\n",
      "[float64]   \tfut_acc             \tfuture accuracy, based on feedback\n",
      "[float64]   \tfut_latency         \tfuture latency, in ms\n",
      "[float64]   \tfut_difficulty      \tfuture difficulty\n"
     ]
    }
   ],
   "source": [
    "dfs = preprocess(alldat, verbose = True)\n",
    "train, test = train_test_split(dfs)"
   ]
  },
  {
   "cell_type": "code",
   "execution_count": null,
   "metadata": {},
   "outputs": [],
   "source": []
  }
 ],
 "metadata": {
  "kernelspec": {
   "display_name": "Python 3",
   "language": "python",
   "name": "python3"
  },
  "language_info": {
   "codemirror_mode": {
    "name": "ipython",
    "version": 3
   },
   "file_extension": ".py",
   "mimetype": "text/x-python",
   "name": "python",
   "nbconvert_exporter": "python",
   "pygments_lexer": "ipython3",
   "version": "3.7.6"
  }
 },
 "nbformat": 4,
 "nbformat_minor": 4
}
