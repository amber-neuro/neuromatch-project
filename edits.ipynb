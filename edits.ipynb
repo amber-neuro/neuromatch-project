{
 "cells": [
  {
   "cell_type": "code",
   "execution_count": 1,
   "metadata": {},
   "outputs": [
    {
     "name": "stdout",
     "output_type": "stream",
     "text": [
      "Downloading data. This may take a while ...\n",
      "Loading data. Patience, padawan ...\n"
     ]
    }
   ],
   "source": [
    "# Set up\n",
    "\n",
    "# Import packages\n",
    "import os, requests\n",
    "import numpy as np\n",
    "import matplotlib.pyplot as plt\n",
    "import scipy as sp\n",
    "import pandas as pd\n",
    "\n",
    "# Download and load data \n",
    "from data.get_data import load,download\n",
    "\n",
    "download()\n",
    "\n",
    "# Load data\n",
    "alldat = load()"
   ]
  },
  {
   "cell_type": "code",
   "execution_count": 2,
   "metadata": {},
   "outputs": [
    {
     "name": "stdout",
     "output_type": "stream",
     "text": [
      "    Session Mouse Name  Number of Trials\n",
      "0         1       Cori               214\n",
      "1         2       Cori               251\n",
      "2         3       Cori               228\n",
      "3         4  Forssmann               249\n",
      "4         5  Forssmann               254\n",
      "5         6  Forssmann               290\n",
      "6         7  Forssmann               252\n",
      "7         8      Hench               250\n",
      "8         9      Hench               372\n",
      "9        10      Hench               447\n",
      "10       11      Hench               342\n",
      "11       12  Lederberg               340\n",
      "12       13  Lederberg               300\n",
      "13       14  Lederberg               268\n",
      "14       15  Lederberg               404\n",
      "15       16  Lederberg               280\n",
      "16       17  Lederberg               224\n",
      "17       18  Lederberg               316\n",
      "18       19      Moniz               247\n",
      "19       20      Moniz               235\n",
      "20       21      Moniz               124\n",
      "21       22     Muller               444\n",
      "22       23     Muller               151\n",
      "23       24     Muller               187\n",
      "24       25    Radnitz               261\n",
      "25       26    Radnitz               178\n",
      "26       27    Radnitz               253\n",
      "27       28    Radnitz               142\n",
      "28       29    Radnitz               128\n",
      "29       30   Richards               143\n",
      "30       31   Richards               237\n",
      "31       32   Richards               260\n",
      "32       33   Richards               191\n",
      "33       34   Richards               296\n",
      "34       35      Tatum               311\n",
      "35       36      Tatum               258\n",
      "36       37      Tatum               181\n",
      "37       38      Tatum               199\n",
      "38       39    Theiler               343\n",
      "Total number of trials:  10050\n"
     ]
    }
   ],
   "source": [
    "# Basic information about Steinmetz dataset: descriptive for each session\n",
    "session = []\n",
    "mouse_name = []\n",
    "number_trials = []\n",
    "total_trials = 0\n",
    "for i in range(len(alldat)):\n",
    "    dat = alldat[i]\n",
    "    session.append(i+1)\n",
    "    mouse_name.append(dat.get('mouse_name'))\n",
    "    number_trials.append(len(dat.get('gocue')))\n",
    "    total_trials += len(dat.get('gocue'))\n",
    "    \n",
    "first_dict = {'Session': session, 'Mouse Name': mouse_name, 'Number of Trials': number_trials}\n",
    "basic_data_info = pd.DataFrame(first_dict, columns=['Session', 'Mouse Name','Number of Trials'])\n",
    "\n",
    "print(basic_data_info)\n",
    "print('Total number of trials: ', total_trials)"
   ]
  },
  {
   "cell_type": "code",
   "execution_count": 3,
   "metadata": {},
   "outputs": [],
   "source": [
    "#DataFrame for EVERY-SINGLE-TRIAL *clap emoji* (excluding passive trials: just Go (left/right) or NoGo trials)\n",
    "\n",
    "s = 0\n",
    "test_sessions = [1, 4, 8, 12, 19, 22, 25, 30, 35]\n",
    "\n",
    "# Initialize empty list \n",
    "session = [] \n",
    "session_type = []\n",
    "mouse_name = []  \n",
    "trial_number = []\n",
    "go_trial = []   #either TRUE (Go trial) or FALSE(= NoGo trial)\n",
    "trial_type = []  # A, B, C, D, or E\n",
    "stim_loc = []\n",
    "ideal_resp = []\n",
    "gocue = [] #dat['gocue']: when the go cue sound was played. \n",
    "latency = []\n",
    "response_time = []\n",
    "mouse_resp = []\n",
    "wheel_velocity = []\n",
    "wheel_acceleration = []\n",
    "pres_acc = []\n",
    "feedback_onset = []\n",
    "feedback_type = []\n",
    "contrast_left = []\n",
    "contrast_right = []\n",
    "contrast_diff = []\n",
    "pres_difficulty = []\n",
    "\n",
    "# Loop to fill all lists with data from Steinmetz dataset\n",
    "for dat in alldat:\n",
    "    s += 1\n",
    "    for t in range(len(dat.get('gocue'))):      #just because the length of this field = number of trials for a given session\n",
    "        # session #\n",
    "        session.append(s) #session number\n",
    "\n",
    "        if session[t] == 1 or session[t] == 4 or session[t] == 8 or session[t] == 12 or session[t] == 19 or session[t] == 22 or session[t] == 25 or session[t] == 30 or session[t] == 35:\n",
    "            session_type.append('test')\n",
    "        else: \n",
    "            session_type.append('train') \n",
    "        \n",
    "        # mouse name\n",
    "        mouse_name.append(dat.get('mouse_name')) #you know... just the name of the little fellow\n",
    "        \n",
    "        # trial number\n",
    "        trial_number.append(t+1)      #trial number for that particular session\n",
    "\n",
    "        # whether it was a go trial or not\n",
    "        go_trial.append((dat.get('contrast_left')[t] != 0) or (dat.get('contrast_right')[t] != 0))\n",
    "        \n",
    "        # trial type, stimulus location on pres trial, and ideal response\n",
    "        if dat.get('contrast_left')[t] == 0 and dat.get('contrast_right')[t] != 0:\n",
    "            trial_t = 'A'\n",
    "            stim_l = -1\n",
    "            ideal_r = -1\n",
    "        elif dat.get('contrast_left')[t] != 0 and dat.get('contrast_right')[t] == 0:\n",
    "            trial_t = 'B'\n",
    "            stim_l = 1\n",
    "            ideal_r = 1\n",
    "        elif dat.get('contrast_left')[t] == dat.get('contrast_right')[t] and dat.get('contrast_left')[t] != 0:\n",
    "            trial_t = 'C'\n",
    "            stim_l = 2\n",
    "            ideal_r = np.nan\n",
    "        elif dat.get('contrast_right')[t] and dat.get('contrast_left')[t] != 0 and dat.get('contrast_right')[t] > dat.get('contrast_left')[t] :\n",
    "            trial_t = 'D'\n",
    "            stim_l = 2\n",
    "            ideal_r = -1\n",
    "        elif dat.get('contrast_right')[t] and dat.get('contrast_left')[t]  != 0 and dat.get('contrast_right')[t] < dat.get('contrast_left')[t] :\n",
    "            trial_t = 'E'\n",
    "            stim_l= 2\n",
    "            ideal_r = 1\n",
    "        elif dat.get('contrast_left')[t] == 0 and dat.get('contrast_right')[t] == 0:\n",
    "            trial_t= 'F'\n",
    "            stim_l = 0\n",
    "            ideal_r = 0\n",
    "        else:\n",
    "            trial_t = np.nan\n",
    "            stim_l = np.nan\n",
    "            ideal_r = np.nan\n",
    "            \n",
    "        trial_type.append(trial_t) \n",
    "        stim_loc.append(stim_l)\n",
    "        ideal_resp.append(ideal_r)\n",
    "        \n",
    "        # go cue onset\n",
    "        gocue.append(dat.get('gocue')[t][0]*1000) #the sencond index value is just there so that we can directly access floats from the DF\n",
    "        \n",
    "        # mouse response time \n",
    "        response_time.append(dat.get('response_time')[t][0]*1000)\n",
    "        \n",
    "        # latency \n",
    "        latency.append(dat.get('response_time')[t][0]*1000 - dat.get('gocue')[t][0]*1000)\n",
    "\n",
    "        # append mouse's response\n",
    "        mouse_resp.append(dat.get('response')[t])\n",
    "        \n",
    "        # velocity\n",
    "        wheel_velocity.append(dat['wheel'][0][0] * .135) \n",
    "        \n",
    "        # wheel acceleration\n",
    "        wheel_acceleration.append(np.diff(wheel_velocity[t]/10))\n",
    "    \n",
    "        # feedback onset \n",
    "        feedback_onset.append((dat.get('feedback_time')[t][0]*1000))\n",
    "        \n",
    "        # feedback type \n",
    "        feedback_type.append(dat.get('feedback_type')[t]) #feedback type: positive (+1) means reward, negative (-1) means white noise burst \n",
    "       \n",
    "        # stimulus contrasts and differences between them\n",
    "        contrast_left.append(dat.get('contrast_left')[t])\n",
    "        contrast_right.append(dat.get('contrast_right')[t])\n",
    "        \n",
    "        if stim_loc[t] != 0:\n",
    "            contrast_diff.append((dat.get('contrast_left')[t] - dat.get('contrast_right')[t]).astype(float))\n",
    "        else:\n",
    "            contrast_diff.append(np.nan)\n",
    "\n",
    "        # present difficulty\n",
    "        if (dat.get('contrast_left')[t] != 0) or (dat.get('contrast_right')[t] != 0):\n",
    "            pres_difficulty.append(1-np.abs(dat.get('contrast_left')[t]-dat.get('contrast_right')[t]))\n",
    "        else:\n",
    "            pres_difficulty.append(np.nan)\n",
    "            \n",
    "        # mouse's accuracy on present trial\n",
    "        if feedback_type[t] == 1: \n",
    "            mouse_acc_binary = 1\n",
    "            pres_acc.append(mouse_acc_binary)\n",
    "        else:\n",
    "            mouse_acc_binary = 0\n",
    "            pres_acc.append(mouse_acc_binary)\n"
   ]
  },
  {
   "cell_type": "code",
   "execution_count": 9,
   "metadata": {},
   "outputs": [
    {
     "data": {
      "text/plain": [
       "list"
      ]
     },
     "execution_count": 9,
     "metadata": {},
     "output_type": "execute_result"
    }
   ],
   "source": [
    "type(gocue)"
   ]
  },
  {
   "cell_type": "code",
   "execution_count": 8,
   "metadata": {},
   "outputs": [
    {
     "data": {
      "text/plain": [
       "343"
      ]
     },
     "execution_count": 8,
     "metadata": {},
     "output_type": "execute_result"
    }
   ],
   "source": [
    "len(dat['gocue'])"
   ]
  }
 ],
 "metadata": {
  "kernelspec": {
   "display_name": "Python 3",
   "language": "python",
   "name": "python3"
  },
  "language_info": {
   "codemirror_mode": {
    "name": "ipython",
    "version": 3
   },
   "file_extension": ".py",
   "mimetype": "text/x-python",
   "name": "python",
   "nbconvert_exporter": "python",
   "pygments_lexer": "ipython3",
   "version": "3.7.6"
  }
 },
 "nbformat": 4,
 "nbformat_minor": 4
}
