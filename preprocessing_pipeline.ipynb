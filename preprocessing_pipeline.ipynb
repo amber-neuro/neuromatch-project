{
 "cells": [
  {
   "cell_type": "code",
   "execution_count": 1,
   "metadata": {},
   "outputs": [],
   "source": [
    "# STEINMETZ PREPROCESSING"
   ]
  },
  {
   "cell_type": "code",
   "execution_count": 2,
   "metadata": {},
   "outputs": [
    {
     "name": "stdout",
     "output_type": "stream",
     "text": [
      "Downloading data. This may take a while ...\n"
     ]
    }
   ],
   "source": [
    "# Set up\n",
    "\n",
    "# Import packages\n",
    "import os, requests\n",
    "import numpy as np\n",
    "import matplotlib.pyplot as plt\n",
    "import scipy as sp\n",
    "import pandas as pd\n",
    "\n",
    "\n",
    "# Download and load data \n",
    "from data.get_data import load,download\n",
    "\n",
    "download()\n"
   ]
  },
  {
   "cell_type": "code",
   "execution_count": 3,
   "metadata": {},
   "outputs": [
    {
     "name": "stdout",
     "output_type": "stream",
     "text": [
      "Loading data. Patience, padawan ...\n"
     ]
    }
   ],
   "source": [
    "# Load data\n",
    "\n",
    "alldat = load()\n"
   ]
  },
  {
   "cell_type": "code",
   "execution_count": 4,
   "metadata": {},
   "outputs": [
    {
     "name": "stdout",
     "output_type": "stream",
     "text": [
      "alldat Shape: (39,)\n",
      "\n",
      "Total # of sessions in Steinmetz dataset: 39\n",
      "\n"
     ]
    }
   ],
   "source": [
    "# DataFrame setup\n",
    "\n",
    "# print DataFrame shape\n",
    "print('alldat Shape:', alldat.shape)\n",
    "print('')\n",
    "\n",
    "# Total number of sessions in Steinmetz datasent, i.e. the len of 'alldat'\n",
    "print('Total # of sessions in Steinmetz dataset:', len(alldat)) #len of 'alldat'\n",
    "print('')\n"
   ]
  },
  {
   "cell_type": "code",
   "execution_count": 5,
   "metadata": {
    "scrolled": false
   },
   "outputs": [
    {
     "name": "stdout",
     "output_type": "stream",
     "text": [
      "0 Cori 214 214\n",
      "1 Cori 251 251\n",
      "2 Cori 228 228\n",
      "3 Forssmann 249 249\n",
      "4 Forssmann 254 254\n",
      "5 Forssmann 290 290\n",
      "6 Forssmann 252 252\n",
      "7 Hench 250 250\n",
      "8 Hench 372 372\n",
      "9 Hench 447 447\n",
      "10 Hench 342 342\n",
      "11 Lederberg 340 340\n",
      "12 Lederberg 300 300\n",
      "13 Lederberg 268 268\n",
      "14 Lederberg 404 404\n",
      "15 Lederberg 280 280\n",
      "16 Lederberg 224 224\n",
      "17 Lederberg 316 316\n",
      "18 Moniz 247 247\n",
      "19 Moniz 235 235\n",
      "20 Moniz 124 124\n",
      "21 Muller 444 444\n",
      "22 Muller 151 151\n",
      "23 Muller 187 187\n",
      "24 Radnitz 261 261\n",
      "25 Radnitz 178 178\n",
      "26 Radnitz 253 253\n",
      "27 Radnitz 142 142\n",
      "28 Radnitz 128 128\n",
      "29 Richards 143 143\n",
      "30 Richards 237 237\n",
      "31 Richards 260 260\n",
      "32 Richards 191 191\n",
      "33 Richards 296 296\n",
      "34 Tatum 311 311\n",
      "35 Tatum 258 258\n",
      "36 Tatum 181 181\n",
      "37 Tatum 199 199\n",
      "38 Theiler 343 343\n"
     ]
    }
   ],
   "source": [
    "for i in range(len(alldat)):\n",
    "    dat = alldat[i]\n",
    "    print(i, dat.get('mouse_name'), len(dat.get('gocue')), len(dat.get('contrast_right')))\n",
    "#we have different numbers of trials for different sessions\n",
    "\n",
    "    \n",
    "\n"
   ]
  },
  {
   "cell_type": "code",
   "execution_count": 6,
   "metadata": {},
   "outputs": [
    {
     "name": "stdout",
     "output_type": "stream",
     "text": [
      "    Session Mouse Name  Number of Trials\n",
      "0         1       Cori               214\n",
      "1         2       Cori               251\n",
      "2         3       Cori               228\n",
      "3         4  Forssmann               249\n",
      "4         5  Forssmann               254\n",
      "5         6  Forssmann               290\n",
      "6         7  Forssmann               252\n",
      "7         8      Hench               250\n",
      "8         9      Hench               372\n",
      "9        10      Hench               447\n",
      "10       11      Hench               342\n",
      "11       12  Lederberg               340\n",
      "12       13  Lederberg               300\n",
      "13       14  Lederberg               268\n",
      "14       15  Lederberg               404\n",
      "15       16  Lederberg               280\n",
      "16       17  Lederberg               224\n",
      "17       18  Lederberg               316\n",
      "18       19      Moniz               247\n",
      "19       20      Moniz               235\n",
      "20       21      Moniz               124\n",
      "21       22     Muller               444\n",
      "22       23     Muller               151\n",
      "23       24     Muller               187\n",
      "24       25    Radnitz               261\n",
      "25       26    Radnitz               178\n",
      "26       27    Radnitz               253\n",
      "27       28    Radnitz               142\n",
      "28       29    Radnitz               128\n",
      "29       30   Richards               143\n",
      "30       31   Richards               237\n",
      "31       32   Richards               260\n",
      "32       33   Richards               191\n",
      "33       34   Richards               296\n",
      "34       35      Tatum               311\n",
      "35       36      Tatum               258\n",
      "36       37      Tatum               181\n",
      "37       38      Tatum               199\n",
      "38       39    Theiler               343\n",
      "Total number of trials:  10050\n"
     ]
    }
   ],
   "source": [
    "#let me just start with a df with the most basic shiiiiieeet\n",
    "session = []\n",
    "mouse_name = []\n",
    "number_trials = []\n",
    "total_trials = 0\n",
    "for i in range(len(alldat)):\n",
    "    dat = alldat[i]\n",
    "    session.append(i+1)\n",
    "    mouse_name.append(dat.get('mouse_name'))\n",
    "    number_trials.append(len(dat.get('gocue')))\n",
    "    total_trials += len(dat.get('gocue'))\n",
    "    \n",
    "dict = {'Session': session, 'Mouse Name': mouse_name, 'Number of Trials': number_trials}\n",
    "df = pd.DataFrame(dict, columns=['Session', 'Mouse Name','Number of Trials'])\n",
    "print(df)\n",
    "print('Total number of trials: ', total_trials)"
   ]
  },
  {
   "cell_type": "code",
   "execution_count": 16,
   "metadata": {
    "scrolled": true
   },
   "outputs": [
    {
     "name": "stdout",
     "output_type": "stream",
     "text": [
      "[1.   0.5  0.5  0.   0.5  0.   0.   0.   0.   0.5  0.5  0.   0.25 1.\n",
      " 0.5  1.   0.   0.   0.   0.   0.   0.   0.   0.   0.5  0.   0.   0.5\n",
      " 0.25 0.75 0.75 0.   0.5  0.5  0.   0.   0.   0.25 0.5  0.25 0.75 0.5\n",
      " 1.   0.   0.   0.5  1.   0.5  0.   0.5  1.   0.   0.   0.75 0.   0.\n",
      " 0.25 1.   0.5  0.   0.75 1.   0.   0.5  1.   0.5  0.   0.   1.   0.5\n",
      " 1.   0.25 0.75 0.5  1.   1.   0.   0.25 0.5  0.   0.75 0.75 0.75 1.\n",
      " 0.75 0.5  0.   0.5  0.5  0.5  1.   0.25 0.5  0.5  0.5  1.   1.   0.75\n",
      " 0.75 0.75 0.75 1.   1.   1.   1.   0.   1.   1.   1.   0.   0.   0.75\n",
      " 0.75 0.75 0.75 0.   0.25 0.5  0.   0.5  0.25 0.5  1.   0.5  0.25 1.\n",
      " 0.5  0.75 1.   0.   0.25 0.   0.5  0.5  1.   0.25 0.   0.25 0.   0.5\n",
      " 0.75 0.   0.5  0.25 0.5  0.   0.25 0.5  0.   0.   1.   0.   1.   0.\n",
      " 0.   0.   0.5  0.5  0.   0.25 0.5  1.   1.   1.   1.   0.25 1.   0.75\n",
      " 0.75 0.75 0.75 0.75 0.75 0.75 0.75 0.75 0.25 1.   0.5  0.5  1.   1.\n",
      " 0.   0.5  0.   0.5  0.   0.75 0.   0.25 1.   0.25 0.   0.5  0.5  0.5\n",
      " 0.75 0.75 0.25 0.   0.25 0.5  0.25 0.5  0.5  0.75 0.75 0.75 0.75 0.75\n",
      " 0.75 0.75 0.75 0.75]\n"
     ]
    }
   ],
   "source": [
    "dat0 = alldat[0]\n",
    "type(dat0.get('contrast_right'))\n",
    "print(np.absolute((dat0.get('contrast_right'))-dat0.get('contrast_left')))\n",
    "#if we do it like this -> we basically have four different possible levels of difficulty"
   ]
  },
  {
   "cell_type": "code",
   "execution_count": 13,
   "metadata": {},
   "outputs": [
    {
     "name": "stdout",
     "output_type": "stream",
     "text": [
      "Session 1, Mouse Name: Cori\n",
      "     Trial Number  Feedback Type\n",
      "0               1            1.0\n",
      "1               2            1.0\n",
      "2               3            1.0\n",
      "3               4            1.0\n",
      "4               5           -1.0\n",
      "..            ...            ...\n",
      "209           210           -1.0\n",
      "210           211           -1.0\n",
      "211           212           -1.0\n",
      "212           213           -1.0\n",
      "213           214           -1.0\n",
      "\n",
      "[214 rows x 2 columns]\n"
     ]
    }
   ],
   "source": [
    "#what we could do... is have a different dataframe for each different session? so... 39 different DFs???\n",
    "#that's not really the best way of being informative, is it?\n",
    "dat0 = alldat[0]\n",
    "trial = []\n",
    "feedback_type = []\n",
    "#difficulty = []\n",
    "\n",
    "for i in range(len(dat0.get('gocue'))):\n",
    "    trial.append(i+1)\n",
    "    feedback_type.append(dat0.get('feedback_type')[i])\n",
    "    #difficulty.append(np.absolute((dat0.get...) - (dat0.get...))\n",
    "    \n",
    "dict = {'Trial Number': trial, 'Feedback Type': feedback_type}\n",
    "df = pd.DataFrame(dict, columns=['Trial Number', 'Feedback Type'])\n",
    "                  \n",
    "print('Session 1, Mouse Name:', dat0.get('mouse_name'))\n",
    "print(df)\n",
    "#feedback type: positive (+1) means reward, negative (-1) means white noise burst \n",
    "#all other 'features' of interest for any given trial \n",
    "\n",
    "#for example: dat['contrast_right'], dat['contrast_left'] - given as an absolute value for the difference between the two\n",
    "#this would give us the different levels for 'difficulty'\n",
    "\n",
    "    "
   ]
  },
  {
   "cell_type": "code",
   "execution_count": 23,
   "metadata": {},
   "outputs": [
    {
     "ename": "KeyError",
     "evalue": "'mouse_name'",
     "output_type": "error",
     "traceback": [
      "\u001b[0;31m---------------------------------------------------------------------------\u001b[0m",
      "\u001b[0;31mKeyError\u001b[0m                                  Traceback (most recent call last)",
      "\u001b[0;32m/opt/anaconda3/lib/python3.7/site-packages/pandas/core/indexes/base.py\u001b[0m in \u001b[0;36mget_loc\u001b[0;34m(self, key, method, tolerance)\u001b[0m\n\u001b[1;32m   2645\u001b[0m             \u001b[0;32mtry\u001b[0m\u001b[0;34m:\u001b[0m\u001b[0;34m\u001b[0m\u001b[0;34m\u001b[0m\u001b[0m\n\u001b[0;32m-> 2646\u001b[0;31m                 \u001b[0;32mreturn\u001b[0m \u001b[0mself\u001b[0m\u001b[0;34m.\u001b[0m\u001b[0m_engine\u001b[0m\u001b[0;34m.\u001b[0m\u001b[0mget_loc\u001b[0m\u001b[0;34m(\u001b[0m\u001b[0mkey\u001b[0m\u001b[0;34m)\u001b[0m\u001b[0;34m\u001b[0m\u001b[0;34m\u001b[0m\u001b[0m\n\u001b[0m\u001b[1;32m   2647\u001b[0m             \u001b[0;32mexcept\u001b[0m \u001b[0mKeyError\u001b[0m\u001b[0;34m:\u001b[0m\u001b[0;34m\u001b[0m\u001b[0;34m\u001b[0m\u001b[0m\n",
      "\u001b[0;32mpandas/_libs/index.pyx\u001b[0m in \u001b[0;36mpandas._libs.index.IndexEngine.get_loc\u001b[0;34m()\u001b[0m\n",
      "\u001b[0;32mpandas/_libs/index.pyx\u001b[0m in \u001b[0;36mpandas._libs.index.IndexEngine.get_loc\u001b[0;34m()\u001b[0m\n",
      "\u001b[0;32mpandas/_libs/index_class_helper.pxi\u001b[0m in \u001b[0;36mpandas._libs.index.Int64Engine._check_type\u001b[0;34m()\u001b[0m\n",
      "\u001b[0;31mKeyError\u001b[0m: 'mouse_name'",
      "\nDuring handling of the above exception, another exception occurred:\n",
      "\u001b[0;31mKeyError\u001b[0m                                  Traceback (most recent call last)",
      "\u001b[0;32m<ipython-input-23-18cb63022820>\u001b[0m in \u001b[0;36m<module>\u001b[0;34m\u001b[0m\n\u001b[1;32m      3\u001b[0m \u001b[0msession_one\u001b[0m \u001b[0;34m=\u001b[0m \u001b[0mpd\u001b[0m\u001b[0;34m.\u001b[0m\u001b[0mDataFrame\u001b[0m\u001b[0;34m(\u001b[0m\u001b[0malldat\u001b[0m\u001b[0;34m[\u001b[0m\u001b[0;36m0\u001b[0m\u001b[0;34m]\u001b[0m\u001b[0;34m)\u001b[0m\u001b[0;34m\u001b[0m\u001b[0;34m\u001b[0m\u001b[0m\n\u001b[1;32m      4\u001b[0m \u001b[0;34m\u001b[0m\u001b[0m\n\u001b[0;32m----> 5\u001b[0;31m \u001b[0mprint\u001b[0m\u001b[0;34m(\u001b[0m\u001b[0msession_one\u001b[0m\u001b[0;34m[\u001b[0m\u001b[0;34m'mouse_name'\u001b[0m\u001b[0;34m]\u001b[0m\u001b[0;34m)\u001b[0m\u001b[0;34m\u001b[0m\u001b[0;34m\u001b[0m\u001b[0m\n\u001b[0m",
      "\u001b[0;32m/opt/anaconda3/lib/python3.7/site-packages/pandas/core/frame.py\u001b[0m in \u001b[0;36m__getitem__\u001b[0;34m(self, key)\u001b[0m\n\u001b[1;32m   2798\u001b[0m             \u001b[0;32mif\u001b[0m \u001b[0mself\u001b[0m\u001b[0;34m.\u001b[0m\u001b[0mcolumns\u001b[0m\u001b[0;34m.\u001b[0m\u001b[0mnlevels\u001b[0m \u001b[0;34m>\u001b[0m \u001b[0;36m1\u001b[0m\u001b[0;34m:\u001b[0m\u001b[0;34m\u001b[0m\u001b[0;34m\u001b[0m\u001b[0m\n\u001b[1;32m   2799\u001b[0m                 \u001b[0;32mreturn\u001b[0m \u001b[0mself\u001b[0m\u001b[0;34m.\u001b[0m\u001b[0m_getitem_multilevel\u001b[0m\u001b[0;34m(\u001b[0m\u001b[0mkey\u001b[0m\u001b[0;34m)\u001b[0m\u001b[0;34m\u001b[0m\u001b[0;34m\u001b[0m\u001b[0m\n\u001b[0;32m-> 2800\u001b[0;31m             \u001b[0mindexer\u001b[0m \u001b[0;34m=\u001b[0m \u001b[0mself\u001b[0m\u001b[0;34m.\u001b[0m\u001b[0mcolumns\u001b[0m\u001b[0;34m.\u001b[0m\u001b[0mget_loc\u001b[0m\u001b[0;34m(\u001b[0m\u001b[0mkey\u001b[0m\u001b[0;34m)\u001b[0m\u001b[0;34m\u001b[0m\u001b[0;34m\u001b[0m\u001b[0m\n\u001b[0m\u001b[1;32m   2801\u001b[0m             \u001b[0;32mif\u001b[0m \u001b[0mis_integer\u001b[0m\u001b[0;34m(\u001b[0m\u001b[0mindexer\u001b[0m\u001b[0;34m)\u001b[0m\u001b[0;34m:\u001b[0m\u001b[0;34m\u001b[0m\u001b[0;34m\u001b[0m\u001b[0m\n\u001b[1;32m   2802\u001b[0m                 \u001b[0mindexer\u001b[0m \u001b[0;34m=\u001b[0m \u001b[0;34m[\u001b[0m\u001b[0mindexer\u001b[0m\u001b[0;34m]\u001b[0m\u001b[0;34m\u001b[0m\u001b[0;34m\u001b[0m\u001b[0m\n",
      "\u001b[0;32m/opt/anaconda3/lib/python3.7/site-packages/pandas/core/indexes/base.py\u001b[0m in \u001b[0;36mget_loc\u001b[0;34m(self, key, method, tolerance)\u001b[0m\n\u001b[1;32m   2646\u001b[0m                 \u001b[0;32mreturn\u001b[0m \u001b[0mself\u001b[0m\u001b[0;34m.\u001b[0m\u001b[0m_engine\u001b[0m\u001b[0;34m.\u001b[0m\u001b[0mget_loc\u001b[0m\u001b[0;34m(\u001b[0m\u001b[0mkey\u001b[0m\u001b[0;34m)\u001b[0m\u001b[0;34m\u001b[0m\u001b[0;34m\u001b[0m\u001b[0m\n\u001b[1;32m   2647\u001b[0m             \u001b[0;32mexcept\u001b[0m \u001b[0mKeyError\u001b[0m\u001b[0;34m:\u001b[0m\u001b[0;34m\u001b[0m\u001b[0;34m\u001b[0m\u001b[0m\n\u001b[0;32m-> 2648\u001b[0;31m                 \u001b[0;32mreturn\u001b[0m \u001b[0mself\u001b[0m\u001b[0;34m.\u001b[0m\u001b[0m_engine\u001b[0m\u001b[0;34m.\u001b[0m\u001b[0mget_loc\u001b[0m\u001b[0;34m(\u001b[0m\u001b[0mself\u001b[0m\u001b[0;34m.\u001b[0m\u001b[0m_maybe_cast_indexer\u001b[0m\u001b[0;34m(\u001b[0m\u001b[0mkey\u001b[0m\u001b[0;34m)\u001b[0m\u001b[0;34m)\u001b[0m\u001b[0;34m\u001b[0m\u001b[0;34m\u001b[0m\u001b[0m\n\u001b[0m\u001b[1;32m   2649\u001b[0m         \u001b[0mindexer\u001b[0m \u001b[0;34m=\u001b[0m \u001b[0mself\u001b[0m\u001b[0;34m.\u001b[0m\u001b[0mget_indexer\u001b[0m\u001b[0;34m(\u001b[0m\u001b[0;34m[\u001b[0m\u001b[0mkey\u001b[0m\u001b[0;34m]\u001b[0m\u001b[0;34m,\u001b[0m \u001b[0mmethod\u001b[0m\u001b[0;34m=\u001b[0m\u001b[0mmethod\u001b[0m\u001b[0;34m,\u001b[0m \u001b[0mtolerance\u001b[0m\u001b[0;34m=\u001b[0m\u001b[0mtolerance\u001b[0m\u001b[0;34m)\u001b[0m\u001b[0;34m\u001b[0m\u001b[0;34m\u001b[0m\u001b[0m\n\u001b[1;32m   2650\u001b[0m         \u001b[0;32mif\u001b[0m \u001b[0mindexer\u001b[0m\u001b[0;34m.\u001b[0m\u001b[0mndim\u001b[0m \u001b[0;34m>\u001b[0m \u001b[0;36m1\u001b[0m \u001b[0;32mor\u001b[0m \u001b[0mindexer\u001b[0m\u001b[0;34m.\u001b[0m\u001b[0msize\u001b[0m \u001b[0;34m>\u001b[0m \u001b[0;36m1\u001b[0m\u001b[0;34m:\u001b[0m\u001b[0;34m\u001b[0m\u001b[0;34m\u001b[0m\u001b[0m\n",
      "\u001b[0;32mpandas/_libs/index.pyx\u001b[0m in \u001b[0;36mpandas._libs.index.IndexEngine.get_loc\u001b[0;34m()\u001b[0m\n",
      "\u001b[0;32mpandas/_libs/index.pyx\u001b[0m in \u001b[0;36mpandas._libs.index.IndexEngine.get_loc\u001b[0;34m()\u001b[0m\n",
      "\u001b[0;32mpandas/_libs/index_class_helper.pxi\u001b[0m in \u001b[0;36mpandas._libs.index.Int64Engine._check_type\u001b[0;34m()\u001b[0m\n",
      "\u001b[0;31mKeyError\u001b[0m: 'mouse_name'"
     ]
    }
   ],
   "source": [
    "# Basic information (mouse name, session)\n",
    "\n",
    "session_one = pd.DataFrame(alldat[0])\n",
    "\n",
    "print(session_one['mouse_name'])"
   ]
  },
  {
   "cell_type": "code",
   "execution_count": null,
   "metadata": {},
   "outputs": [],
   "source": [
    "# Trials (trial #, trial type)"
   ]
  },
  {
   "cell_type": "code",
   "execution_count": null,
   "metadata": {},
   "outputs": [],
   "source": [
    "# Accuracy (past, present)"
   ]
  },
  {
   "cell_type": "code",
   "execution_count": null,
   "metadata": {},
   "outputs": [],
   "source": [
    "# Stimulus (contrast, location)"
   ]
  },
  {
   "cell_type": "code",
   "execution_count": null,
   "metadata": {},
   "outputs": [],
   "source": [
    "# Difficulty (past, present)\n",
    "'''\n",
    "1.\n",
    "2.\n",
    "3.\n",
    "4.\n",
    "'''"
   ]
  },
  {
   "cell_type": "code",
   "execution_count": null,
   "metadata": {},
   "outputs": [],
   "source": [
    "# Time points (go-cue onset)"
   ]
  },
  {
   "cell_type": "code",
   "execution_count": null,
   "metadata": {},
   "outputs": [],
   "source": [
    "# Response (RT, choice)"
   ]
  },
  {
   "cell_type": "code",
   "execution_count": null,
   "metadata": {},
   "outputs": [],
   "source": [
    "# Wheel (direction, speed)\n"
   ]
  },
  {
   "cell_type": "code",
   "execution_count": null,
   "metadata": {},
   "outputs": [],
   "source": [
    "# Feedback (feedback time, feedback type)\n"
   ]
  },
  {
   "cell_type": "code",
   "execution_count": null,
   "metadata": {},
   "outputs": [],
   "source": []
  }
 ],
 "metadata": {
  "kernelspec": {
   "display_name": "Python 3",
   "language": "python",
   "name": "python3"
  }
 },
 "nbformat": 4,
 "nbformat_minor": 4
}
