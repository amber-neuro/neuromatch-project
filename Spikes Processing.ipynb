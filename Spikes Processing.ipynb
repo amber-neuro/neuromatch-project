{
 "cells": [
  {
   "cell_type": "code",
   "execution_count": 1,
   "metadata": {},
   "outputs": [
    {
     "name": "stdout",
     "output_type": "stream",
     "text": [
      "Requirement already satisfied: pingouin in /opt/anaconda3/lib/python3.7/site-packages (0.3.6)\n",
      "Requirement already satisfied: pandas-flavor>=0.1.2 in /opt/anaconda3/lib/python3.7/site-packages (from pingouin) (0.2.0)\n",
      "Requirement already satisfied: seaborn>=0.9.0 in /opt/anaconda3/lib/python3.7/site-packages (from pingouin) (0.10.0)\n",
      "Requirement already satisfied: pandas>=0.24 in /opt/anaconda3/lib/python3.7/site-packages (from pingouin) (1.0.1)\n",
      "Requirement already satisfied: tabulate in /opt/anaconda3/lib/python3.7/site-packages (from pingouin) (0.8.7)\n",
      "Requirement already satisfied: scipy>=1.3 in /opt/anaconda3/lib/python3.7/site-packages (from pingouin) (1.4.1)\n",
      "Requirement already satisfied: scikit-learn in /opt/anaconda3/lib/python3.7/site-packages (from pingouin) (0.22.1)\n",
      "Requirement already satisfied: statsmodels>=0.10.0 in /opt/anaconda3/lib/python3.7/site-packages (from pingouin) (0.11.0)\n",
      "Requirement already satisfied: numpy>=1.15 in /opt/anaconda3/lib/python3.7/site-packages (from pingouin) (1.18.1)\n",
      "Requirement already satisfied: matplotlib>=3.0.2 in /opt/anaconda3/lib/python3.7/site-packages (from pingouin) (3.1.3)\n",
      "Requirement already satisfied: outdated in /opt/anaconda3/lib/python3.7/site-packages (from pingouin) (0.2.0)\n",
      "Requirement already satisfied: xarray in /opt/anaconda3/lib/python3.7/site-packages (from pandas-flavor>=0.1.2->pingouin) (0.16.0)\n",
      "Requirement already satisfied: python-dateutil>=2.6.1 in /opt/anaconda3/lib/python3.7/site-packages (from pandas>=0.24->pingouin) (2.8.1)\n",
      "Requirement already satisfied: pytz>=2017.2 in /opt/anaconda3/lib/python3.7/site-packages (from pandas>=0.24->pingouin) (2019.3)\n",
      "Requirement already satisfied: joblib>=0.11 in /opt/anaconda3/lib/python3.7/site-packages (from scikit-learn->pingouin) (0.14.1)\n",
      "Requirement already satisfied: patsy>=0.5 in /opt/anaconda3/lib/python3.7/site-packages (from statsmodels>=0.10.0->pingouin) (0.5.1)\n",
      "Requirement already satisfied: pyparsing!=2.0.4,!=2.1.2,!=2.1.6,>=2.0.1 in /opt/anaconda3/lib/python3.7/site-packages (from matplotlib>=3.0.2->pingouin) (2.4.6)\n",
      "Requirement already satisfied: cycler>=0.10 in /opt/anaconda3/lib/python3.7/site-packages (from matplotlib>=3.0.2->pingouin) (0.10.0)\n",
      "Requirement already satisfied: kiwisolver>=1.0.1 in /opt/anaconda3/lib/python3.7/site-packages (from matplotlib>=3.0.2->pingouin) (1.1.0)\n",
      "Requirement already satisfied: littleutils in /opt/anaconda3/lib/python3.7/site-packages (from outdated->pingouin) (0.2.2)\n",
      "Requirement already satisfied: requests in /Users/garrettflynn/.local/lib/python3.7/site-packages (from outdated->pingouin) (2.23.0)\n",
      "Requirement already satisfied: setuptools>=41.2 in /Users/garrettflynn/.local/lib/python3.7/site-packages (from xarray->pandas-flavor>=0.1.2->pingouin) (46.1.3)\n",
      "Requirement already satisfied: six>=1.5 in /opt/anaconda3/lib/python3.7/site-packages (from python-dateutil>=2.6.1->pandas>=0.24->pingouin) (1.14.0)\n",
      "Requirement already satisfied: urllib3!=1.25.0,!=1.25.1,<1.26,>=1.21.1 in /Users/garrettflynn/.local/lib/python3.7/site-packages (from requests->outdated->pingouin) (1.25.8)\n",
      "Requirement already satisfied: chardet<4,>=3.0.2 in /Users/garrettflynn/.local/lib/python3.7/site-packages (from requests->outdated->pingouin) (3.0.4)\n",
      "Requirement already satisfied: certifi>=2017.4.17 in /opt/anaconda3/lib/python3.7/site-packages (from requests->outdated->pingouin) (2019.11.28)\n",
      "Requirement already satisfied: idna<3,>=2.5 in /Users/garrettflynn/.local/lib/python3.7/site-packages (from requests->outdated->pingouin) (2.9)\n"
     ]
    }
   ],
   "source": [
    "!pip install pingouin"
   ]
  },
  {
   "cell_type": "code",
   "execution_count": 2,
   "metadata": {},
   "outputs": [],
   "source": [
    "from model.model import *\n",
    "from preprocess import *\n",
    "import matplotlib.pyplot as plt\n",
    "%load_ext autoreload\n",
    "%autoreload 2"
   ]
  },
  {
   "cell_type": "code",
   "execution_count": 3,
   "metadata": {},
   "outputs": [
    {
     "name": "stdout",
     "output_type": "stream",
     "text": [
      "Downloading data. This may take a while ...\n",
      "Loading data. Patience, padawan ...\n",
      "Data Loaded. Proceeding to Preprocessing...\n"
     ]
    }
   ],
   "source": [
    "download()\n",
    "alldat = load()\n",
    "print(\"Data Loaded. Proceeding to Preprocessing...\")\n",
    "session = 12"
   ]
  },
  {
   "cell_type": "code",
   "execution_count": 4,
   "metadata": {},
   "outputs": [],
   "source": [
    "diffs = []\n",
    "for i in range(39): \n",
    "    dat = alldat[i]\n",
    "    for trial in range(len(dat[\"gocue\"])):\n",
    "        diff = dat[\"feedback_time\"][trial] - dat[\"response_time\"][trial]\n",
    "        diffs.append(diff)"
   ]
  },
  {
   "cell_type": "code",
   "execution_count": 5,
   "metadata": {},
   "outputs": [
    {
     "name": "stdout",
     "output_type": "stream",
     "text": [
      "(10050, 1)\n"
     ]
    },
    {
     "data": {
      "text/plain": [
       "(7362,)"
      ]
     },
     "execution_count": 5,
     "metadata": {},
     "output_type": "execute_result"
    }
   ],
   "source": [
    "diffs = np.array(diffs)\n",
    "print(diffs.shape)\n",
    "diffs[diffs > 0.01].shape"
   ]
  },
  {
   "cell_type": "code",
   "execution_count": 6,
   "metadata": {},
   "outputs": [
    {
     "name": "stdout",
     "output_type": "stream",
     "text": [
      "session 0\n",
      "session 1\n",
      "session 2\n",
      "session 3\n",
      "session 4\n",
      "session 5\n",
      "session 6\n",
      "session 7\n",
      "session 8\n",
      "session 9\n",
      "session 10\n",
      "session 11\n",
      "session 12\n",
      "session 13\n",
      "session 14\n",
      "session 15\n",
      "session 16\n",
      "session 17\n",
      "session 18\n",
      "session 19\n",
      "session 20\n",
      "session 21\n",
      "session 22\n",
      "session 23\n",
      "session 24\n",
      "session 25\n",
      "session 26\n",
      "session 27\n",
      "session 28\n",
      "session 29\n",
      "session 30\n",
      "session 31\n",
      "session 32\n",
      "session 33\n",
      "session 34\n",
      "session 35\n",
      "session 36\n",
      "session 37\n",
      "session 38\n",
      "joining dataframes (may take up to a minute)...\n",
      "done\n"
     ]
    }
   ],
   "source": [
    "df = spike_preprocess(alldat)"
   ]
  },
  {
   "cell_type": "code",
   "execution_count": 7,
   "metadata": {},
   "outputs": [],
   "source": [
    "contrast_diff = df.contrast_left - df.contrast_right\n",
    "df['pres_difficulty'] = 1 - np.abs(contrast_diff)"
   ]
  },
  {
   "cell_type": "markdown",
   "metadata": {},
   "source": [
    "# Custom Functions\n",
    "**Center Spikes around a Specified Axis**\n",
    "\n",
    "*Note*: Feedback times are indexed at `centered_array[:,max_val]`"
   ]
  },
  {
   "cell_type": "code",
   "execution_count": 8,
   "metadata": {},
   "outputs": [],
   "source": [
    "def center_spikes(df,center='feedback_time',center_ind=None):\n",
    "    \n",
    "    if center_ind is not None:\n",
    "        max_val = center_ind\n",
    "    else:\n",
    "        max_val = np.max(df.center.values)\n",
    "        \n",
    "    min_val = np.min(df.center.values)\n",
    "    max_shift = max_val-min_val\n",
    "\n",
    "    vals = df.iloc[:, :250].values\n",
    "    center_vals = df['center'].values\n",
    "    sh = vals.shape\n",
    "    centered_array = np.empty([sh[0],int(sh[1] + max_shift)])\n",
    "    centered_array[:] = np.nan\n",
    "\n",
    "    for n in np.arange(sh[0]):\n",
    "        start = int(center_vals[n]-(max_val-max_shift))\n",
    "        end = int(start + sh[1])\n",
    "        centered_array[n,start:end] = vals[n]\n",
    "        \n",
    "    return centered_array, max_val\n",
    "    \n",
    "\n",
    "def centered_plots(df,plot:str='sta',center:str = '',by:str = '',fig:str = '', sub:str = '',filter_:dict = None,sort = 'spike_count',rem_zero_spks=True):\n",
    "    \n",
    "    if (by is not '') & (plot == 'heatmap') :\n",
    "        print('\"by\" not supported with heatmap. Setting \"by\" to None.')\n",
    "        by = ''\n",
    "    \n",
    "    if filter_ is not None: \n",
    "        for key in filter_.keys(): \n",
    "            if isinstance(filter_[key], int):\n",
    "                df = df[df[key] == filter_[key]]\n",
    "            else:\n",
    "                df = df[df[key].isin(filter_[key])]\n",
    "                \n",
    "    df[center] = df[center] + 0.5            \n",
    "    df = df[df[center] < 2.5]\n",
    "    print(set(df[center]))\n",
    "                \n",
    "    if sort is not None:\n",
    "        if sort == 'spike_count':\n",
    "            df[sort] = np.sum((df.iloc[:, :250] > 0).to_numpy(),axis=1)\n",
    "            if rem_zero_spks:\n",
    "                df = df[df['spike_count'] != 0]\n",
    "        \n",
    "        df = df.sort_values(sort,ascending=False)\n",
    "    \n",
    "    if fig is not '':\n",
    "        fig_list = sorted(set(df[fig]))\n",
    "    else:\n",
    "        fig_list = ['']\n",
    "        \n",
    "    if by is not '':\n",
    "        by_list = sorted(set(df[by]))\n",
    "    else:\n",
    "        by_list = ['']\n",
    "        \n",
    "    # Pull out all unique subfigure distinctions \n",
    "    if sub is not '':\n",
    "        sub_list = sorted(set(df[sub]))\n",
    "    else:\n",
    "        sub_list = ['']\n",
    "    \n",
    "    sub_dims = np.ceil(np.sqrt(len(sub_list)))\n",
    "    \n",
    "    if center is not '':\n",
    "        # Calculate bin of the center\n",
    "        df['center'] = np.floor(df[center]*1000/10)\n",
    "    else:\n",
    "        df['center'] = 0\n",
    "    for fig_i,fig_val in enumerate(fig_list):\n",
    "        if plot == 'heatmap':\n",
    "            plt.figure(fig_i,figsize=(20, 20))\n",
    "        else:\n",
    "            plt.figure(fig_i,figsize=(20, 20))\n",
    "        if fig_val is not '':\n",
    "            df_fig = df[df[fig] == fig_val]\n",
    "        else:\n",
    "            df_fig = df\n",
    "        for sub_i,sub_val in enumerate(sub_list):\n",
    "            plt.subplot(np.ceil(sub_dims), np.ceil(sub_dims), sub_i+1)\n",
    "            if sub_val is not '':\n",
    "                df_sub = df_fig[df_fig[sub] == sub_val]\n",
    "            else:\n",
    "                df_sub = df_fig\n",
    "            \n",
    "            max_center_val = np.max(df.center.values)\n",
    "            \n",
    "            for by_i,by_val in enumerate(by_list):\n",
    "                if by_val is not '':\n",
    "                    df_by = df_sub[df_sub[by] == by_val]\n",
    "                else:\n",
    "                    df_by = df_sub\n",
    "\n",
    "                centered_array, max_val = center_spikes(df_by,center,center_ind = max_center_val)\n",
    "\n",
    "                if center == 'feedback_time':\n",
    "                    color = 'blue'\n",
    "                else: \n",
    "                    color = 'green'\n",
    "\n",
    "                if plot == 'heatmap':\n",
    "                    plt.imshow(centered_array[:], cmap='hot',extent=((-max_val),centered_array.shape[1]-(max_val),0,centered_array.shape[0]))\n",
    "                    plt.axvline(x=0,color=color)\n",
    "                elif plot == 'sta':\n",
    "                    plt.plot(np.nanmean(centered_array,axis=0),label = \"%s: %s\"%(by, by_val))\n",
    "                    plt.axvline(x=max_val,color=color)\n",
    "                    plt.xlim([0,centered_array.shape[1]])\n",
    "#                   plt.xlim([max_center_val-50,max_center_val+50])\n",
    "                    plt.legend()\n",
    "                else: \n",
    "                    print('Plot type not supported. Use \"heatmap\" or \"sta\"')\n",
    "\n",
    "            plt.title(sub + ' : ' + str(sub_val))\n",
    "            \n",
    "        plt.tight_layout()\n",
    "        plt.suptitle(str(fig) + ' : ' + str(fig_val),fontweight='bold', fontsize=16)\n",
    "        plt.subplots_adjust(top=0.90)"
   ]
  },
  {
   "cell_type": "code",
   "execution_count": 9,
   "metadata": {},
   "outputs": [],
   "source": [
    "df[\"center_50\"] = 0.5\n",
    "df[\"center_trial\"] = df[\"trial\"]/100 * 2"
   ]
  },
  {
   "cell_type": "code",
   "execution_count": 10,
   "metadata": {},
   "outputs": [
    {
     "data": {
      "text/plain": [
       "0          0.00\n",
       "1          0.00\n",
       "2          0.00\n",
       "3          0.00\n",
       "4          0.00\n",
       "           ... \n",
       "8787221    6.84\n",
       "8787222    6.84\n",
       "8787223    6.84\n",
       "8787224    6.84\n",
       "8787225    6.84\n",
       "Name: center_trial, Length: 8787226, dtype: float64"
      ]
     },
     "execution_count": 10,
     "metadata": {},
     "output_type": "execute_result"
    }
   ],
   "source": [
    "df[\"center_trial\"]"
   ]
  },
  {
   "cell_type": "code",
   "execution_count": 11,
   "metadata": {},
   "outputs": [
    {
     "name": "stdout",
     "output_type": "stream",
     "text": [
      "{1.6868187947551405, 1.3276130676801188, 2.0468245345853546, 1.937622793503536, 1.4860155932054084, 1.6420180804651636, 1.8568215052305135, 1.7868203891524388, 1.3860139988081244, 1.6540182717928644, 1.8700217156909673, 1.7016190307259933, 1.170010554909993, 1.5420164860678938, 2.0032238394281308}\n"
     ]
    },
    {
     "data": {
      "image/png": "[encoded data removed]",
      "text/plain": [
       "<Figure size 1440x1440 with 1 Axes>"
      ]
     },
     "metadata": {
      "needs_background": "light"
     },
     "output_type": "display_data"
    },
    {
     "data": {
      "image/png": "[encoded data removed]",
      "text/plain": [
       "<Figure size 1440x1440 with 1 Axes>"
      ]
     },
     "metadata": {
      "needs_background": "light"
     },
     "output_type": "display_data"
    }
   ],
   "source": [
    "# Define your Filter\n",
    "f = {\"region\": [\"ACA\"],\"session\": [0],\"trial\": np.arange(20)}\n",
    "plot = 'heatmap'\n",
    "spike_center = 'feedback_time'\n",
    "subplots= ''\n",
    "figures = 'feedback_type'\n",
    "\n",
    "# Plot\n",
    "centered_plots(df,plot=plot,center=spike_center,fig=figures,sub=subplots,filter_=f, sort = None)"
   ]
  },
  {
   "cell_type": "code",
   "execution_count": null,
   "metadata": {},
   "outputs": [],
   "source": []
  },
  {
   "cell_type": "code",
   "execution_count": null,
   "metadata": {},
   "outputs": [],
   "source": []
  },
  {
   "cell_type": "code",
   "execution_count": null,
   "metadata": {},
   "outputs": [],
   "source": []
  }
 ],
 "metadata": {
  "kernelspec": {
   "display_name": "Python 3",
   "language": "python",
   "name": "python3"
  },
  "language_info": {
   "codemirror_mode": {
    "name": "ipython",
    "version": 3
   },
   "file_extension": ".py",
   "mimetype": "text/x-python",
   "name": "python",
   "nbconvert_exporter": "python",
   "pygments_lexer": "ipython3",
   "version": "3.7.6"
  }
 },
 "nbformat": 4,
 "nbformat_minor": 4
}
