{
 "cells": [
  {
   "cell_type": "code",
   "execution_count": 1,
   "metadata": {},
   "outputs": [],
   "source": [
    "import numpy as np\n",
    "import matplotlib.pyplot as plt \n",
    "import pandas as pd"
   ]
  },
  {
   "cell_type": "code",
   "execution_count": 6,
   "metadata": {},
   "outputs": [
    {
     "name": "stdout",
     "output_type": "stream",
     "text": [
      "       conf  prev_conf       acc\n",
      "0 -0.028334   0.219766  0.248494\n",
      "1 -0.100326   0.198750  0.299307\n",
      "2 -0.331333   0.280581  0.612407\n",
      "3 -0.359420   0.395778  0.755425\n",
      "4  0.434197   0.885634  0.451752\n"
     ]
    }
   ],
   "source": [
    "def dummy_data(features = [\"conf\", \"prev_conf\",  \"acc\"], samples = 1000):\n",
    "    prev_conf = np.random.random((samples, 1))\n",
    "    acc = np.random.random((samples, 1))\n",
    "    \n",
    "    exp_perf = prev_conf\n",
    "    \n",
    "    \n",
    "    conf = prev_conf - acc + np.random.random((samples, 1)) * 0.001\n",
    "    arr = np.hstack([conf, prev_conf, acc])\n",
    "    df = pd.DataFrame(arr, columns = features)\n",
    "    return df\n",
    "\n",
    "df = dummy_data()\n",
    "print(df.head())"
   ]
  },
  {
   "cell_type": "code",
   "execution_count": null,
   "metadata": {},
   "outputs": [],
   "source": []
  }
 ],
 "metadata": {
  "kernelspec": {
   "display_name": "Python 3",
   "language": "python",
   "name": "python3"
  },
  "language_info": {
   "codemirror_mode": {
    "name": "ipython",
    "version": 3
   },
   "file_extension": ".py",
   "mimetype": "text/x-python",
   "name": "python",
   "nbconvert_exporter": "python",
   "pygments_lexer": "ipython3",
   "version": "3.7.6"
  }
 },
 "nbformat": 4,
 "nbformat_minor": 4
}
