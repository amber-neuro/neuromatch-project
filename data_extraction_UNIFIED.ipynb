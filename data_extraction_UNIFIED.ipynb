{
 "cells": [
  {
   "cell_type": "code",
   "execution_count": 1,
   "metadata": {},
   "outputs": [],
   "source": [
    "# STEINMETZ PREPROCESSING"
   ]
  },
  {
   "cell_type": "code",
   "execution_count": 2,
   "metadata": {},
   "outputs": [
    {
     "name": "stdout",
     "output_type": "stream",
     "text": [
      "Downloading data. This may take a while ...\n",
      "Loading data. Patience, padawan ...\n"
     ]
    }
   ],
   "source": [
    "# Set up\n",
    "\n",
    "# Import packages\n",
    "import os, requests\n",
    "import numpy as np\n",
    "import matplotlib.pyplot as plt\n",
    "import scipy as sp\n",
    "import pandas as pd\n",
    "\n",
    "# Download and load data \n",
    "from data.get_data import load,download\n",
    "\n",
    "download()\n",
    "\n",
    "\n",
    "# Load data\n",
    "alldat = load()\n"
   ]
  },
  {
   "cell_type": "code",
   "execution_count": 3,
   "metadata": {},
   "outputs": [
    {
     "name": "stdout",
     "output_type": "stream",
     "text": [
      "Loading data. Patience, padawan ...\n"
     ]
    }
   ],
   "source": [
    "# Load data\n",
    "\n",
    "alldat = load()"
   ]
  },
  {
   "cell_type": "code",
   "execution_count": 34,
   "metadata": {},
   "outputs": [
    {
     "name": "stdout",
     "output_type": "stream",
     "text": [
      "    Session Mouse Name  Number of Trials\n",
      "0         1       Cori               214\n",
      "1         2       Cori               251\n",
      "2         3       Cori               228\n",
      "3         4  Forssmann               249\n",
      "4         5  Forssmann               254\n",
      "5         6  Forssmann               290\n",
      "6         7  Forssmann               252\n",
      "7         8      Hench               250\n",
      "8         9      Hench               372\n",
      "9        10      Hench               447\n",
      "10       11      Hench               342\n",
      "11       12  Lederberg               340\n",
      "12       13  Lederberg               300\n",
      "13       14  Lederberg               268\n",
      "14       15  Lederberg               404\n",
      "15       16  Lederberg               280\n",
      "16       17  Lederberg               224\n",
      "17       18  Lederberg               316\n",
      "18       19      Moniz               247\n",
      "19       20      Moniz               235\n",
      "20       21      Moniz               124\n",
      "21       22     Muller               444\n",
      "22       23     Muller               151\n",
      "23       24     Muller               187\n",
      "24       25    Radnitz               261\n",
      "25       26    Radnitz               178\n",
      "26       27    Radnitz               253\n",
      "27       28    Radnitz               142\n",
      "28       29    Radnitz               128\n",
      "29       30   Richards               143\n",
      "30       31   Richards               237\n",
      "31       32   Richards               260\n",
      "32       33   Richards               191\n",
      "33       34   Richards               296\n",
      "34       35      Tatum               311\n",
      "35       36      Tatum               258\n",
      "36       37      Tatum               181\n",
      "37       38      Tatum               199\n",
      "38       39    Theiler               343\n",
      "Total number of trials:  10050\n"
     ]
    }
   ],
   "source": [
    "# Basic information about Steinmetz dataset: descriptive for each session\n",
    "session = []\n",
    "mouse_name = []\n",
    "number_trials = []\n",
    "total_trials = 0\n",
    "for i in range(len(alldat)):\n",
    "    dat = alldat[i]\n",
    "    session.append(i+1)\n",
    "    mouse_name.append(dat.get('mouse_name'))\n",
    "    number_trials.append(len(dat.get('gocue')))\n",
    "    total_trials += len(dat.get('gocue'))\n",
    "    \n",
    "first_dict = {'Session': session, 'Mouse Name': mouse_name, 'Number of Trials': number_trials}\n",
    "basic_data_info = pd.DataFrame(first_dict, columns=['Session', 'Mouse Name','Number of Trials'])\n",
    "\n",
    "print(basic_data_info)\n",
    "print('Total number of trials: ', total_trials)"
   ]
  },
  {
   "cell_type": "code",
   "execution_count": 41,
   "metadata": {},
   "outputs": [],
   "source": [
    "#DataFrame for EVERY-SINGLE-TRIAL *clap emoji* (excluding passive trials: just Go (left/right) or NoGo trials)\n",
    "\n",
    "s = 0\n",
    "test_sessions = [1, 4, 8, 12, 19, 22, 25, 30, 35]\n",
    "\n",
    "# Initialize empty list \n",
    "session = [] \n",
    "session_type = []\n",
    "mouse_name = []  \n",
    "trial_number = []\n",
    "go_trial = []   #either TRUE (Go trial) or FALSE(= NoGo trial)\n",
    "trial_type = []  # A, B, C, D, or E\n",
    "stim_loc = []   # \n",
    "ideal_resp = []\n",
    "gocue = [] #dat['gocue']: when the go cue sound was played. \n",
    "response_time = []\n",
    "latency = []\n",
    "mouse_resp = []\n",
    "wheel_velocity = []\n",
    "wheel_acceleration = []\n",
    "pres_acc = []\n",
    "feedback_onset = []\n",
    "feedback_type = []\n",
    "contrast_left = []\n",
    "contrast_right = []\n",
    "contrast_diff = []\n",
    "pres_difficulty = []\n",
    "\n",
    "# Loop to fill all lists with data from Steinmetz dataset\n",
    "for dat in alldat:\n",
    "    s += 1\n",
    "    for t in range(len(dat.get('gocue'))):      #just because the length of this field = number of trials for a given session\n",
    "        # session #\n",
    "        session.append(s)        #session number\n",
    "\n",
    "        if session[t] == 1 or session[t] == 4 or session[t] == 8 or session[t] == 12 or session[t] == 19 or session[t] == 22 or session[t] == 25 or session[t] == 30 or session[t] == 35:\n",
    "            session_type.append('test')\n",
    "        else: \n",
    "            session_type.append('train') \n",
    "        \n",
    "        # mouse name\n",
    "        mouse_name.append(dat.get('mouse_name')) #you know... just the name of the little fellow\n",
    "        \n",
    "        # trial number\n",
    "        trial_number.append(t+1)      #trial number for that particular session\n",
    "\n",
    "        # whether it was a go trial or not\n",
    "        go_trial.append((dat.get('contrast_left')[t] != 0) or (dat.get('contrast_right')[t] != 0))\n",
    "        \n",
    "        # trial type, stimulus location on pres trial, and ideal response\n",
    "        if dat.get('contrast_left')[t] == 0 and dat.get('contrast_right')[t] != 0:\n",
    "            trial_t = 'A'\n",
    "            stim_l = -1\n",
    "            ideal_r = -1\n",
    "        elif dat.get('contrast_left')[t] != 0 and dat.get('contrast_right')[t] == 0:\n",
    "            trial_t = 'B'\n",
    "            stim_l = 1\n",
    "            ideal_r = 1\n",
    "        elif dat.get('contrast_right')[t] and dat.get('contrast_left')[t] != 0 and dat.get('contrast_right')[t] > dat.get('contrast_left')[t] :\n",
    "            trial_t = 'C'\n",
    "            stim_l = 2\n",
    "            ideal_r = -1\n",
    "        elif dat.get('contrast_right')[t] and dat.get('contrast_left')[t]  != 0 and dat.get('contrast_right')[t] < dat.get('contrast_left')[t] :\n",
    "            trial_t = 'D'\n",
    "            stim_l= 2\n",
    "            ideal_r = 1\n",
    "        elif dat.get('contrast_left')[t]  == 0 and dat.get('contrast_right')[t] == 0:\n",
    "            trial_t= 'E'\n",
    "            stim_l = 0\n",
    "            ideal_r = 0\n",
    "        else:\n",
    "            trial_t = np.nan\n",
    "            stim_l = np.nan\n",
    "            ideal_r = np.nan\n",
    "            \n",
    "        trial_type.append(trial_t) \n",
    "        stim_loc.append(stim_l)\n",
    "        ideal_resp.append(ideal_r)\n",
    "        \n",
    "        # go cue onset\n",
    "        gocue.append(dat.get('gocue')[t][0]*1000) #the sencond index value is just there so that we can directly access floats from the DF\n",
    "        \n",
    "        # mouse response time \n",
    "        response_time.append(dat.get('response_time')[t][0]*1000)\n",
    "        \n",
    "        # latency (how long it took mouse to respond after go cue (i.e. RT - go cue))\n",
    "        latency.append(float((dat.get('response_time')[t][0])-(dat.get('gocue')[t][0]))*1000)\n",
    "        \n",
    "        # append mouse's response\n",
    "        mouse_resp.append(dat.get('response')[t])\n",
    "        \n",
    "#         # velocity\n",
    "#         wheel_velocity.append(dat['wheel'][0][0]) \n",
    "        \n",
    "#         # wheel acceleration\n",
    "#         wheel_acceleration.append(np.diff(vel[t]/10))\n",
    "        \n",
    "        # mouse's accuracy on present trial\n",
    "        if ideal_resp[t] == mouse_resp[t]: \n",
    "            mouse_acc_binary = 1.\n",
    "            pres_acc.append(mouse_acc_binary)\n",
    "        else:\n",
    "            mouse_acc_binary = 0.\n",
    "            pres_acc.append(mouse_acc_binary)\n",
    "    \n",
    "        # feedback onset \n",
    "        feedback_onset.append((dat.get('feedback_time')[t][0]*1000))\n",
    "        \n",
    "        # feedback type \n",
    "        feedback_type.append(dat.get('feedback_type')[t]) #feedback type: positive (+1) means reward, negative (-1) means white noise burst \n",
    "       \n",
    "        # stimulus contrasts and differences between them\n",
    "        contrast_left.append(dat.get('contrast_left')[t])\n",
    "        contrast_right.append(dat.get('contrast_right')[t])\n",
    "        \n",
    "        if stim_loc[t] != 0:\n",
    "            contrast_diff.append((dat.get('contrast_left')[t] - dat.get('contrast_right')[t]).astype(float))\n",
    "        else:\n",
    "            contrast_diff.append(np.nan)\n",
    "\n",
    "        # present difficulty\n",
    "        if (dat.get('contrast_left')[t] != 0) or (dat.get('contrast_right')[t] != 0):\n",
    "            pres_difficulty.append(1-np.abs(dat.get('contrast_left')[t]-dat.get('contrast_right')[t]))\n",
    "        else:\n",
    "            pres_difficulty.append(np.nan)\n"
   ]
  },
  {
   "cell_type": "code",
   "execution_count": 43,
   "metadata": {},
   "outputs": [
    {
     "data": {
      "text/html": [
       "<div>\n",
       "<style scoped>\n",
       "    .dataframe tbody tr th:only-of-type {\n",
       "        vertical-align: middle;\n",
       "    }\n",
       "\n",
       "    .dataframe tbody tr th {\n",
       "        vertical-align: top;\n",
       "    }\n",
       "\n",
       "    .dataframe thead th {\n",
       "        text-align: right;\n",
       "    }\n",
       "</style>\n",
       "<table border=\"1\" class=\"dataframe\">\n",
       "  <thead>\n",
       "    <tr style=\"text-align: right;\">\n",
       "      <th></th>\n",
       "      <th>session</th>\n",
       "      <th>session_type</th>\n",
       "      <th>mouse_name</th>\n",
       "      <th>trial_number</th>\n",
       "      <th>trial_type</th>\n",
       "      <th>go_trial</th>\n",
       "      <th>stim_loc</th>\n",
       "      <th>ideal_resp</th>\n",
       "      <th>response_time</th>\n",
       "      <th>latency</th>\n",
       "      <th>mouse_resp</th>\n",
       "      <th>pres_acc</th>\n",
       "      <th>feedback_onset</th>\n",
       "      <th>feedback_type</th>\n",
       "      <th>contrast_left</th>\n",
       "      <th>contrast_right</th>\n",
       "      <th>contrast_diff</th>\n",
       "      <th>pres_difficulty</th>\n",
       "    </tr>\n",
       "  </thead>\n",
       "  <tbody>\n",
       "    <tr>\n",
       "      <th>0</th>\n",
       "      <td>1</td>\n",
       "      <td>test</td>\n",
       "      <td>Cori</td>\n",
       "      <td>1</td>\n",
       "      <td>B</td>\n",
       "      <td>True</td>\n",
       "      <td>1.0</td>\n",
       "      <td>1.0</td>\n",
       "      <td>1150.203633</td>\n",
       "      <td>122.987383</td>\n",
       "      <td>1.0</td>\n",
       "      <td>1.0</td>\n",
       "      <td>1186.818795</td>\n",
       "      <td>1.0</td>\n",
       "      <td>1.0</td>\n",
       "      <td>0.0</td>\n",
       "      <td>1.0</td>\n",
       "      <td>0.0</td>\n",
       "    </tr>\n",
       "    <tr>\n",
       "      <th>1</th>\n",
       "      <td>1</td>\n",
       "      <td>test</td>\n",
       "      <td>Cori</td>\n",
       "      <td>2</td>\n",
       "      <td>A</td>\n",
       "      <td>True</td>\n",
       "      <td>-1.0</td>\n",
       "      <td>-1.0</td>\n",
       "      <td>1399.502868</td>\n",
       "      <td>525.089054</td>\n",
       "      <td>-1.0</td>\n",
       "      <td>1.0</td>\n",
       "      <td>1437.622794</td>\n",
       "      <td>1.0</td>\n",
       "      <td>0.0</td>\n",
       "      <td>0.5</td>\n",
       "      <td>-0.5</td>\n",
       "      <td>0.5</td>\n",
       "    </tr>\n",
       "    <tr>\n",
       "      <th>2</th>\n",
       "      <td>1</td>\n",
       "      <td>test</td>\n",
       "      <td>Cori</td>\n",
       "      <td>3</td>\n",
       "      <td>D</td>\n",
       "      <td>True</td>\n",
       "      <td>2.0</td>\n",
       "      <td>1.0</td>\n",
       "      <td>949.291045</td>\n",
       "      <td>124.078016</td>\n",
       "      <td>1.0</td>\n",
       "      <td>1.0</td>\n",
       "      <td>986.015593</td>\n",
       "      <td>1.0</td>\n",
       "      <td>1.0</td>\n",
       "      <td>0.5</td>\n",
       "      <td>0.5</td>\n",
       "      <td>0.5</td>\n",
       "    </tr>\n",
       "    <tr>\n",
       "      <th>3</th>\n",
       "      <td>1</td>\n",
       "      <td>test</td>\n",
       "      <td>Cori</td>\n",
       "      <td>4</td>\n",
       "      <td>E</td>\n",
       "      <td>False</td>\n",
       "      <td>0.0</td>\n",
       "      <td>0.0</td>\n",
       "      <td>2266.801672</td>\n",
       "      <td>1505.189657</td>\n",
       "      <td>0.0</td>\n",
       "      <td>1.0</td>\n",
       "      <td>2296.436486</td>\n",
       "      <td>1.0</td>\n",
       "      <td>0.0</td>\n",
       "      <td>0.0</td>\n",
       "      <td>NaN</td>\n",
       "      <td>NaN</td>\n",
       "    </tr>\n",
       "    <tr>\n",
       "      <th>4</th>\n",
       "      <td>1</td>\n",
       "      <td>test</td>\n",
       "      <td>Cori</td>\n",
       "      <td>5</td>\n",
       "      <td>C</td>\n",
       "      <td>True</td>\n",
       "      <td>2.0</td>\n",
       "      <td>-1.0</td>\n",
       "      <td>816.775837</td>\n",
       "      <td>154.765410</td>\n",
       "      <td>1.0</td>\n",
       "      <td>0.0</td>\n",
       "      <td>827.613068</td>\n",
       "      <td>-1.0</td>\n",
       "      <td>0.5</td>\n",
       "      <td>1.0</td>\n",
       "      <td>-0.5</td>\n",
       "      <td>0.5</td>\n",
       "    </tr>\n",
       "  </tbody>\n",
       "</table>\n",
       "</div>"
      ],
      "text/plain": [
       "   session session_type mouse_name  trial_number trial_type  go_trial  \\\n",
       "0        1         test       Cori             1          B      True   \n",
       "1        1         test       Cori             2          A      True   \n",
       "2        1         test       Cori             3          D      True   \n",
       "3        1         test       Cori             4          E     False   \n",
       "4        1         test       Cori             5          C      True   \n",
       "\n",
       "   stim_loc  ideal_resp  response_time      latency  mouse_resp  pres_acc  \\\n",
       "0       1.0         1.0    1150.203633   122.987383         1.0       1.0   \n",
       "1      -1.0        -1.0    1399.502868   525.089054        -1.0       1.0   \n",
       "2       2.0         1.0     949.291045   124.078016         1.0       1.0   \n",
       "3       0.0         0.0    2266.801672  1505.189657         0.0       1.0   \n",
       "4       2.0        -1.0     816.775837   154.765410         1.0       0.0   \n",
       "\n",
       "   feedback_onset  feedback_type  contrast_left  contrast_right  \\\n",
       "0     1186.818795            1.0            1.0             0.0   \n",
       "1     1437.622794            1.0            0.0             0.5   \n",
       "2      986.015593            1.0            1.0             0.5   \n",
       "3     2296.436486            1.0            0.0             0.0   \n",
       "4      827.613068           -1.0            0.5             1.0   \n",
       "\n",
       "   contrast_diff  pres_difficulty  \n",
       "0            1.0              0.0  \n",
       "1           -0.5              0.5  \n",
       "2            0.5              0.5  \n",
       "3            NaN              NaN  \n",
       "4           -0.5              0.5  "
      ]
     },
     "execution_count": 43,
     "metadata": {},
     "output_type": "execute_result"
    }
   ],
   "source": [
    "dict = {'session': session, \n",
    "        'session_type': session_type,\n",
    "        'mouse_name': mouse_name, \n",
    "        'trial_number': trial_number,\n",
    "        'trial_type': trial_type,\n",
    "        'go_trial': go_trial,\n",
    "        'stim_loc': stim_loc,\n",
    "        'ideal_resp': ideal_resp,\n",
    "        'response_time': response_time,\n",
    "        'latency': latency,\n",
    "        'mouse_resp': mouse_resp,\n",
    "#         'wheel_velocity': wheel_velocity,\n",
    "#         'wheel_acceleration': wheel_acceleration,\n",
    "        'pres_acc': pres_acc,\n",
    "        'feedback_onset': feedback_onset,\n",
    "        'feedback_type': feedback_type,\n",
    "        'contrast_left': contrast_left,\n",
    "        'contrast_right': contrast_right,\n",
    "        'contrast_diff': contrast_diff,\n",
    "        'pres_difficulty': pres_difficulty\n",
    "       }\n",
    "\n",
    "data_extracted = pd.DataFrame(dict)\n",
    "data_extracted.head()"
   ]
  },
  {
   "cell_type": "code",
   "execution_count": null,
   "metadata": {},
   "outputs": [],
   "source": [
    " # velocity\n",
    "wheel_velocity.append(dat['wheel'][0][0]) \n",
    "        \n",
    "# wheel acceleration\n",
    "wheel_acceleration.append(np.diff(vel[t]/10))"
   ]
  },
  {
   "cell_type": "code",
   "execution_count": 40,
   "metadata": {},
   "outputs": [
    {
     "name": "stdout",
     "output_type": "stream",
     "text": [
      "[-1.  0.  0.  0.  0.  0.  0.  0.  0.  0.  0.  0.  0.  0. -1.  0.  0.  0.\n",
      "  0.  0.  0.  0.  0.  0.  0.  0.  0.  0.  0.  0.  0.  1.  0.  0.  0.  0.\n",
      "  0. -1.  0.  0.  0.  0.  0.  0.  0.  0. -1.  0. -1.  0.  0.  0.  0.  0.\n",
      "  0.  0. -1.  0.  0.  0.  0.  0.  0.  0.  0.  2.  4.  7.  8. 12. 14. 16.\n",
      " 17. 17. 16. 16. 13. 12. 10.  7.  4.  2.  1.  1.  3.  5.  8. 12. 15. 18.\n",
      " 18. 19. 19. 17. 16. 14. 12. 10.  8.  6.  6.  5.  6.  8. 10. 11. 11. 12.\n",
      " 13. 12. 12. 11. 10.  9.  6.  5.  3.  4.  4.  5.  6.  5.  7.  7.  8.  9.\n",
      " 10. 11. 13. 13. 14. 14. 15. 14. 13. 12.  9.  7.  4.  4.  2.  2.  3.  4.\n",
      "  7. 10. 14. 17. 18. 18. 18. 18. 17. 15. 13. 10.  8.  7.  6.  6.  6.  7.\n",
      "  8.  9. 10. 11. 11. 13. 13. 12. 10. 10.  8.  7.  5.  3.  2.  1.  0. -1.\n",
      " -1. -1. -1.  0.  0.  1.  1.  2.  2.  3.  2.  1.  1. -1. -2. -4. -3. -3.\n",
      " -3. -2. -1.  0.  1.  1.  2.  0. -1. -2. -4. -3. -2. -1.  0.  2.  2.  2.\n",
      "  2.  1.  1.  1.  0.  1.  1.  2.  1.  2.  2.  1.  1.  0.  0. -1. -1. -1.\n",
      "  0.  1.  0.  1.  1.  1.  0.  0. -1. -1. -1.  0.  0.  1.  0.  1.]\n",
      "[ 0.  0.  0.  0.  0.  0.  0.  0.  0.  0.  0.  0.  1.  0.  0.  0.  0.  0.\n",
      "  0.  0.  0.  0.  0.  0.  0.  0.  0.  0.  0.  0.  0.  0.  0.  0.  0.  0.\n",
      "  0.  0.  0.  0.  0.  0.  0.  0.  0.  0.  0.  0.  0.  0.  0.  0.  0.  0.\n",
      "  0.  0.  0.  0.  0.  0.  0.  0.  0.  0.  1.  2.  1.  3.  3.  3.  4.  5.\n",
      "  6.  8.  8.  8.  9.  9.  9.  9. 10.  9. 10. 11. 11. 12. 11. 12. 12. 11.\n",
      " 11. 11. 12. 10.  9.  8.  9.  8.  8.  8.  8.  7.  6.  4.  5.  3.  3.  3.\n",
      "  2.  2.  1.  2.  1.  1.  1.  1.  1.  2.  1.  1.  1.  0.  1.  0.  0.  1.\n",
      "  0.  2.  1.  3.  3.  4.  4.  5.  6.  6.  7.  8.  8.  8.  8.  8.  7.  7.\n",
      "  8.  7.  9. 10. 11. 11. 12. 13. 12. 12. 12. 11. 11. 10. 11.  9.  7.  6.\n",
      "  3.  2. -1. -1. -2. -2. -2. -2. -1. -2. -1. -1. -1. -1.  0. -1.  0. -1.\n",
      "  0.  0. -1.  0.  0.  0.  0.  0.  0.  0.  0.  0.  0.  0.  0.  0. -1.  0.\n",
      "  0.  0. -1.  0.  0.  0.  0.  0.  0.  0.  0.  0.  0.  0. -1.  0.  0.  0.\n",
      "  0.  0.  0.  0.  0.  0.  0.  0.  0.  0.  0.  0.  0.  0.  0.  0.  0.  0.\n",
      "  0.  0.  0.  0.  0.  0.  0.  0.  0.  0.  0.  0.  0.  0.  0.  0.]\n"
     ]
    },
    {
     "data": {
      "image/png": "[encoded data removed]",
      "text/plain": [
       "<Figure size 432x288 with 1 Axes>"
      ]
     },
     "metadata": {
      "needs_background": "light"
     },
     "output_type": "display_data"
    }
   ],
   "source": [
    "plt.plot(data_extracted['wheel_velocity'][0])\n",
    "# plt.plot(data_extracted['wheel_acceleration'][0], color = 'r')\n",
    "\n",
    "print(data_extracted['wheel_velocity'][0])\n",
    "print(dat['wheel'][0][0])"
   ]
  },
  {
   "cell_type": "code",
   "execution_count": 32,
   "metadata": {},
   "outputs": [
    {
     "name": "stdout",
     "output_type": "stream",
     "text": [
      "(1, 343, 250)\n"
     ]
    },
    {
     "data": {
      "image/png": "[encoded data removed]",
      "text/plain": [
       "<Figure size 432x288 with 1 Axes>"
      ]
     },
     "metadata": {
      "needs_background": "light"
     },
     "output_type": "display_data"
    }
   ],
   "source": [
    "s = 0\n",
    "plt.plot(dat['wheel'][0][0])\n",
    "\n",
    "print(dat['wheel'].shape)"
   ]
  },
  {
   "cell_type": "code",
   "execution_count": 33,
   "metadata": {},
   "outputs": [
    {
     "data": {
      "text/plain": [
       "(1, 343, 250)"
      ]
     },
     "execution_count": 33,
     "metadata": {},
     "output_type": "execute_result"
    }
   ],
   "source": [
    "dat['wheel'].shape\n"
   ]
  },
  {
   "cell_type": "code",
   "execution_count": 10,
   "metadata": {},
   "outputs": [
    {
     "data": {
      "text/plain": [
       "(10050, 2)"
      ]
     },
     "execution_count": 10,
     "metadata": {},
     "output_type": "execute_result"
    }
   ],
   "source": [
    "# Get previous accuracy and previous difficulty \n",
    "\n",
    "# Get previous difficulty\n",
    "empty = np.empty([len(data_extracted['mouse_resp']), 1])\n",
    "empty[0] = 'NaN' #ignore first index because there is no previous trial to this index\n",
    "\n",
    "for i in range(len(empty)-1):\n",
    "    empty[i+1] = data_extracted['pres_difficulty'][i]\n",
    "\n",
    "prev_difficulty = pd.DataFrame(empty)\n",
    "prev_difficulty = prev_difficulty.rename(columns={0: 'prev_difficulty'})\n",
    "\n",
    "# Get previous accuracy\n",
    "empty = np.empty([len(data_extracted['mouse_resp']), 1])\n",
    "empty[0] = 'NaN' #ignore first index because there is no previous trial to this index\n",
    "\n",
    "for i in range(len(empty)-1):\n",
    "    empty[i+1] = data_extracted['pres_acc'][i]\n",
    "\n",
    "prev_acc = pd.DataFrame(empty)\n",
    "prev_acc = prev_acc.rename(columns={0: 'prev_acc'})\n",
    "\n",
    "# Combine into one df\n",
    "prevs = pd.concat([prev_difficulty, prev_acc], axis = 1)\n",
    "\n",
    "prevs.shape"
   ]
  },
  {
   "cell_type": "code",
   "execution_count": 11,
   "metadata": {},
   "outputs": [
    {
     "name": "stdout",
     "output_type": "stream",
     "text": [
      "length of all dfs match! woo you are in the clear\n"
     ]
    },
    {
     "data": {
      "text/plain": [
       "Index(['session', 'session_type', 'mouse_name', 'trial_number', 'trial_type',\n",
       "       'go_trial', 'stim_loc', 'ideal_resp', 'response_time', 'latency',\n",
       "       'mouse_resp', 'wheel_velocity', 'wheel_acceleration', 'pres_acc',\n",
       "       'feedback_onset', 'feedback_type', 'contrast_left', 'contrast_right',\n",
       "       'contrast_diff', 'pres_difficulty', 'prev_difficulty', 'prev_acc'],\n",
       "      dtype='object')"
      ]
     },
     "execution_count": 11,
     "metadata": {},
     "output_type": "execute_result"
    }
   ],
   "source": [
    "# Combine everything into one DF\n",
    "data_extracted_unified = pd.concat([data_extracted, prevs], axis = 1)\n",
    "\n",
    "# Make sure all dfs are the same length (i.e. have the same number of rows)\n",
    "\n",
    "if len(data_extracted) == len(prevs) == len(data_extracted_unified):\n",
    "    print('length of all dfs match! woo you are in the clear')\n",
    "\n",
    "data_extracted_unified.columns"
   ]
  },
  {
   "cell_type": "code",
   "execution_count": 12,
   "metadata": {},
   "outputs": [
    {
     "name": "stdout",
     "output_type": "stream",
     "text": [
      "column: \"session\", dtype: int64\n",
      "column: \"session_type\", dtype: object\n",
      "column: \"mouse_name\", dtype: object\n",
      "column: \"trial_number\", dtype: int64\n",
      "column: \"trial_type\", dtype: object\n",
      "column: \"go_trial\", dtype: bool\n",
      "column: \"stim_loc\", dtype: float64\n",
      "column: \"ideal_resp\", dtype: float64\n"
     ]
    },
    {
     "ename": "KeyError",
     "evalue": "'gocue'",
     "output_type": "error",
     "traceback": [
      "\u001b[0;31m---------------------------------------------------------------------------\u001b[0m",
      "\u001b[0;31mKeyError\u001b[0m                                  Traceback (most recent call last)",
      "\u001b[0;32m/opt/anaconda3/lib/python3.7/site-packages/pandas/core/indexes/base.py\u001b[0m in \u001b[0;36mget_loc\u001b[0;34m(self, key, method, tolerance)\u001b[0m\n\u001b[1;32m   2645\u001b[0m             \u001b[0;32mtry\u001b[0m\u001b[0;34m:\u001b[0m\u001b[0;34m\u001b[0m\u001b[0;34m\u001b[0m\u001b[0m\n\u001b[0;32m-> 2646\u001b[0;31m                 \u001b[0;32mreturn\u001b[0m \u001b[0mself\u001b[0m\u001b[0;34m.\u001b[0m\u001b[0m_engine\u001b[0m\u001b[0;34m.\u001b[0m\u001b[0mget_loc\u001b[0m\u001b[0;34m(\u001b[0m\u001b[0mkey\u001b[0m\u001b[0;34m)\u001b[0m\u001b[0;34m\u001b[0m\u001b[0;34m\u001b[0m\u001b[0m\n\u001b[0m\u001b[1;32m   2647\u001b[0m             \u001b[0;32mexcept\u001b[0m \u001b[0mKeyError\u001b[0m\u001b[0;34m:\u001b[0m\u001b[0;34m\u001b[0m\u001b[0;34m\u001b[0m\u001b[0m\n",
      "\u001b[0;32mpandas/_libs/index.pyx\u001b[0m in \u001b[0;36mpandas._libs.index.IndexEngine.get_loc\u001b[0;34m()\u001b[0m\n",
      "\u001b[0;32mpandas/_libs/index.pyx\u001b[0m in \u001b[0;36mpandas._libs.index.IndexEngine.get_loc\u001b[0;34m()\u001b[0m\n",
      "\u001b[0;32mpandas/_libs/hashtable_class_helper.pxi\u001b[0m in \u001b[0;36mpandas._libs.hashtable.PyObjectHashTable.get_item\u001b[0;34m()\u001b[0m\n",
      "\u001b[0;32mpandas/_libs/hashtable_class_helper.pxi\u001b[0m in \u001b[0;36mpandas._libs.hashtable.PyObjectHashTable.get_item\u001b[0;34m()\u001b[0m\n",
      "\u001b[0;31mKeyError\u001b[0m: 'gocue'",
      "\nDuring handling of the above exception, another exception occurred:\n",
      "\u001b[0;31mKeyError\u001b[0m                                  Traceback (most recent call last)",
      "\u001b[0;32m<ipython-input-12-e15957634a77>\u001b[0m in \u001b[0;36m<module>\u001b[0;34m\u001b[0m\n\u001b[1;32m      7\u001b[0m \u001b[0mprint\u001b[0m\u001b[0;34m(\u001b[0m\u001b[0;34m'column: \"stim_loc\", dtype:'\u001b[0m\u001b[0;34m,\u001b[0m \u001b[0mdata_extracted_unified\u001b[0m\u001b[0;34m[\u001b[0m\u001b[0;34m'stim_loc'\u001b[0m\u001b[0;34m]\u001b[0m\u001b[0;34m.\u001b[0m\u001b[0mdtype\u001b[0m\u001b[0;34m)\u001b[0m\u001b[0;34m\u001b[0m\u001b[0;34m\u001b[0m\u001b[0m\n\u001b[1;32m      8\u001b[0m \u001b[0mprint\u001b[0m\u001b[0;34m(\u001b[0m\u001b[0;34m'column: \"ideal_resp\", dtype:'\u001b[0m\u001b[0;34m,\u001b[0m \u001b[0mdata_extracted_unified\u001b[0m\u001b[0;34m[\u001b[0m\u001b[0;34m'ideal_resp'\u001b[0m\u001b[0;34m]\u001b[0m\u001b[0;34m.\u001b[0m\u001b[0mdtype\u001b[0m\u001b[0;34m)\u001b[0m\u001b[0;34m\u001b[0m\u001b[0;34m\u001b[0m\u001b[0m\n\u001b[0;32m----> 9\u001b[0;31m \u001b[0mprint\u001b[0m\u001b[0;34m(\u001b[0m\u001b[0;34m'column: \"gocue\", dtype:'\u001b[0m\u001b[0;34m,\u001b[0m \u001b[0mdata_extracted_unified\u001b[0m\u001b[0;34m[\u001b[0m\u001b[0;34m'gocue'\u001b[0m\u001b[0;34m]\u001b[0m\u001b[0;34m.\u001b[0m\u001b[0mdtype\u001b[0m\u001b[0;34m)\u001b[0m\u001b[0;34m\u001b[0m\u001b[0;34m\u001b[0m\u001b[0m\n\u001b[0m\u001b[1;32m     10\u001b[0m \u001b[0mprint\u001b[0m\u001b[0;34m(\u001b[0m\u001b[0;34m'column: \"response_time\", dtype:'\u001b[0m\u001b[0;34m,\u001b[0m \u001b[0mdata_extracted_unified\u001b[0m\u001b[0;34m[\u001b[0m\u001b[0;34m'response_time'\u001b[0m\u001b[0;34m]\u001b[0m\u001b[0;34m.\u001b[0m\u001b[0mdtype\u001b[0m\u001b[0;34m)\u001b[0m\u001b[0;34m\u001b[0m\u001b[0;34m\u001b[0m\u001b[0m\n\u001b[1;32m     11\u001b[0m \u001b[0mprint\u001b[0m\u001b[0;34m(\u001b[0m\u001b[0;34m'column: \"latency\", dtype:'\u001b[0m\u001b[0;34m,\u001b[0m \u001b[0mdata_extracted_unified\u001b[0m\u001b[0;34m[\u001b[0m\u001b[0;34m'latency'\u001b[0m\u001b[0;34m]\u001b[0m\u001b[0;34m.\u001b[0m\u001b[0mdtype\u001b[0m\u001b[0;34m)\u001b[0m\u001b[0;34m\u001b[0m\u001b[0;34m\u001b[0m\u001b[0m\n",
      "\u001b[0;32m/opt/anaconda3/lib/python3.7/site-packages/pandas/core/frame.py\u001b[0m in \u001b[0;36m__getitem__\u001b[0;34m(self, key)\u001b[0m\n\u001b[1;32m   2798\u001b[0m             \u001b[0;32mif\u001b[0m \u001b[0mself\u001b[0m\u001b[0;34m.\u001b[0m\u001b[0mcolumns\u001b[0m\u001b[0;34m.\u001b[0m\u001b[0mnlevels\u001b[0m \u001b[0;34m>\u001b[0m \u001b[0;36m1\u001b[0m\u001b[0;34m:\u001b[0m\u001b[0;34m\u001b[0m\u001b[0;34m\u001b[0m\u001b[0m\n\u001b[1;32m   2799\u001b[0m                 \u001b[0;32mreturn\u001b[0m \u001b[0mself\u001b[0m\u001b[0;34m.\u001b[0m\u001b[0m_getitem_multilevel\u001b[0m\u001b[0;34m(\u001b[0m\u001b[0mkey\u001b[0m\u001b[0;34m)\u001b[0m\u001b[0;34m\u001b[0m\u001b[0;34m\u001b[0m\u001b[0m\n\u001b[0;32m-> 2800\u001b[0;31m             \u001b[0mindexer\u001b[0m \u001b[0;34m=\u001b[0m \u001b[0mself\u001b[0m\u001b[0;34m.\u001b[0m\u001b[0mcolumns\u001b[0m\u001b[0;34m.\u001b[0m\u001b[0mget_loc\u001b[0m\u001b[0;34m(\u001b[0m\u001b[0mkey\u001b[0m\u001b[0;34m)\u001b[0m\u001b[0;34m\u001b[0m\u001b[0;34m\u001b[0m\u001b[0m\n\u001b[0m\u001b[1;32m   2801\u001b[0m             \u001b[0;32mif\u001b[0m \u001b[0mis_integer\u001b[0m\u001b[0;34m(\u001b[0m\u001b[0mindexer\u001b[0m\u001b[0;34m)\u001b[0m\u001b[0;34m:\u001b[0m\u001b[0;34m\u001b[0m\u001b[0;34m\u001b[0m\u001b[0m\n\u001b[1;32m   2802\u001b[0m                 \u001b[0mindexer\u001b[0m \u001b[0;34m=\u001b[0m \u001b[0;34m[\u001b[0m\u001b[0mindexer\u001b[0m\u001b[0;34m]\u001b[0m\u001b[0;34m\u001b[0m\u001b[0;34m\u001b[0m\u001b[0m\n",
      "\u001b[0;32m/opt/anaconda3/lib/python3.7/site-packages/pandas/core/indexes/base.py\u001b[0m in \u001b[0;36mget_loc\u001b[0;34m(self, key, method, tolerance)\u001b[0m\n\u001b[1;32m   2646\u001b[0m                 \u001b[0;32mreturn\u001b[0m \u001b[0mself\u001b[0m\u001b[0;34m.\u001b[0m\u001b[0m_engine\u001b[0m\u001b[0;34m.\u001b[0m\u001b[0mget_loc\u001b[0m\u001b[0;34m(\u001b[0m\u001b[0mkey\u001b[0m\u001b[0;34m)\u001b[0m\u001b[0;34m\u001b[0m\u001b[0;34m\u001b[0m\u001b[0m\n\u001b[1;32m   2647\u001b[0m             \u001b[0;32mexcept\u001b[0m \u001b[0mKeyError\u001b[0m\u001b[0;34m:\u001b[0m\u001b[0;34m\u001b[0m\u001b[0;34m\u001b[0m\u001b[0m\n\u001b[0;32m-> 2648\u001b[0;31m                 \u001b[0;32mreturn\u001b[0m \u001b[0mself\u001b[0m\u001b[0;34m.\u001b[0m\u001b[0m_engine\u001b[0m\u001b[0;34m.\u001b[0m\u001b[0mget_loc\u001b[0m\u001b[0;34m(\u001b[0m\u001b[0mself\u001b[0m\u001b[0;34m.\u001b[0m\u001b[0m_maybe_cast_indexer\u001b[0m\u001b[0;34m(\u001b[0m\u001b[0mkey\u001b[0m\u001b[0;34m)\u001b[0m\u001b[0;34m)\u001b[0m\u001b[0;34m\u001b[0m\u001b[0;34m\u001b[0m\u001b[0m\n\u001b[0m\u001b[1;32m   2649\u001b[0m         \u001b[0mindexer\u001b[0m \u001b[0;34m=\u001b[0m \u001b[0mself\u001b[0m\u001b[0;34m.\u001b[0m\u001b[0mget_indexer\u001b[0m\u001b[0;34m(\u001b[0m\u001b[0;34m[\u001b[0m\u001b[0mkey\u001b[0m\u001b[0;34m]\u001b[0m\u001b[0;34m,\u001b[0m \u001b[0mmethod\u001b[0m\u001b[0;34m=\u001b[0m\u001b[0mmethod\u001b[0m\u001b[0;34m,\u001b[0m \u001b[0mtolerance\u001b[0m\u001b[0;34m=\u001b[0m\u001b[0mtolerance\u001b[0m\u001b[0;34m)\u001b[0m\u001b[0;34m\u001b[0m\u001b[0;34m\u001b[0m\u001b[0m\n\u001b[1;32m   2650\u001b[0m         \u001b[0;32mif\u001b[0m \u001b[0mindexer\u001b[0m\u001b[0;34m.\u001b[0m\u001b[0mndim\u001b[0m \u001b[0;34m>\u001b[0m \u001b[0;36m1\u001b[0m \u001b[0;32mor\u001b[0m \u001b[0mindexer\u001b[0m\u001b[0;34m.\u001b[0m\u001b[0msize\u001b[0m \u001b[0;34m>\u001b[0m \u001b[0;36m1\u001b[0m\u001b[0;34m:\u001b[0m\u001b[0;34m\u001b[0m\u001b[0;34m\u001b[0m\u001b[0m\n",
      "\u001b[0;32mpandas/_libs/index.pyx\u001b[0m in \u001b[0;36mpandas._libs.index.IndexEngine.get_loc\u001b[0;34m()\u001b[0m\n",
      "\u001b[0;32mpandas/_libs/index.pyx\u001b[0m in \u001b[0;36mpandas._libs.index.IndexEngine.get_loc\u001b[0;34m()\u001b[0m\n",
      "\u001b[0;32mpandas/_libs/hashtable_class_helper.pxi\u001b[0m in \u001b[0;36mpandas._libs.hashtable.PyObjectHashTable.get_item\u001b[0;34m()\u001b[0m\n",
      "\u001b[0;32mpandas/_libs/hashtable_class_helper.pxi\u001b[0m in \u001b[0;36mpandas._libs.hashtable.PyObjectHashTable.get_item\u001b[0;34m()\u001b[0m\n",
      "\u001b[0;31mKeyError\u001b[0m: 'gocue'"
     ]
    }
   ],
   "source": [
    "print('column: \"session\", dtype:', data_extracted_unified['session'].dtype)\n",
    "print('column: \"session_type\", dtype:', data_extracted_unified['session_type'].dtype)\n",
    "print('column: \"mouse_name\", dtype:', data_extracted_unified['mouse_name'].dtype)\n",
    "print('column: \"trial_number\", dtype:', data_extracted_unified['trial_number'].dtype)\n",
    "print('column: \"trial_type\", dtype:', data_extracted_unified['trial_type'].dtype)\n",
    "print('column: \"go_trial\", dtype:', data_extracted_unified['go_trial'].dtype)\n",
    "print('column: \"stim_loc\", dtype:', data_extracted_unified['stim_loc'].dtype)\n",
    "print('column: \"ideal_resp\", dtype:', data_extracted_unified['ideal_resp'].dtype)\n",
    "print('column: \"gocue\", dtype:', data_extracted_unified['gocue'].dtype)\n",
    "print('column: \"response_time\", dtype:', data_extracted_unified['response_time'].dtype)\n",
    "print('column: \"latency\", dtype:', data_extracted_unified['latency'].dtype)\n",
    "print('column: \"mouse_resp\", dtype:', data_extracted_unified['mouse_resp'].dtype)\n",
    "print('column: \"wheel_go_rt\", dtype:', data_extracted_unified['wheel_go_rt'].dtype)\n",
    "print('column: \"wheel_stim_rt\", dtype:', data_extracted_unified['wheel_stim_rt'].dtype)\n",
    "print('column: \"pres_acc\", dtype:', data_extracted_unified['pres_acc'].dtype)\n",
    "print('column: \"feedback_onset\", dtype:', data_extracted_unified['feedback_onset'].dtype)\n",
    "print('column: \"feedback_type\", dtype:', data_extracted_unified['feedback_type'].dtype)\n",
    "print('column: \"contrast_left\", dtype:', data_extracted_unified['contrast_left'].dtype)\n",
    "print('column: \"contrast_right\", dtype:', data_extracted_unified['contrast_right'].dtype)\n",
    "print('column: \"contrast_diff\", dtype:', data_extracted_unified['contrast_diff'].dtype)\n",
    "print('column: \"pres_difficulty\", dtype:', data_extracted_unified['pres_difficulty'].dtype)\n",
    "print('column: \"prev_difficulty\", dtype:', data_extracted_unified['prev_difficulty'].dtype)\n",
    "print('column: \"prev_acc\", dtype:', data_extracted_unified['prev_acc'].dtype)"
   ]
  },
  {
   "cell_type": "code",
   "execution_count": null,
   "metadata": {},
   "outputs": [],
   "source": [
    "print(data_extracted_unified['contrast_diff'])"
   ]
  },
  {
   "cell_type": "code",
   "execution_count": null,
   "metadata": {},
   "outputs": [],
   "source": [
    "data_extracted_unified['trial_number'] = "
   ]
  }
 ],
 "metadata": {
  "kernelspec": {
   "display_name": "Python 3",
   "language": "python",
   "name": "python3"
  },
  "language_info": {
   "codemirror_mode": {
    "name": "ipython",
    "version": 3
   },
   "file_extension": ".py",
   "mimetype": "text/x-python",
   "name": "python",
   "nbconvert_exporter": "python",
   "pygments_lexer": "ipython3",
   "version": "3.7.6"
  }
 },
 "nbformat": 4,
 "nbformat_minor": 4
}
