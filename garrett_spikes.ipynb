{
 "cells": [
  {
   "cell_type": "code",
   "execution_count": 2,
   "metadata": {},
   "outputs": [],
   "source": [
    "from model.model import *\n",
    "from preprocess import *\n",
    "import matplotlib.pyplot as plt\n",
    "%load_ext autoreload\n",
    "%autoreload 2"
   ]
  },
  {
   "cell_type": "code",
   "execution_count": null,
   "metadata": {},
   "outputs": [
    {
     "name": "stdout",
     "output_type": "stream",
     "text": [
      "Downloading data. This may take a while ...\n",
      "Loading data. Patience, padawan ...\n"
     ]
    }
   ],
   "source": [
    "download()\n",
    "alldat = load()\n",
    "print(\"Data Loaded. Proceeding to Preprocessing...\")\n",
    "session = 12"
   ]
  },
  {
   "cell_type": "code",
   "execution_count": null,
   "metadata": {},
   "outputs": [],
   "source": [
    "df = spike_preprocess(alldat)"
   ]
  },
  {
   "cell_type": "markdown",
   "metadata": {},
   "source": [
    "# Filter the Dataframe"
   ]
  },
  {
   "cell_type": "markdown",
   "metadata": {},
   "source": [
    "## Filter Settings"
   ]
  },
  {
   "cell_type": "code",
   "execution_count": null,
   "metadata": {},
   "outputs": [],
   "source": [
    "trials = np.arange(0);\n",
    "sessions = [0]\n",
    "regions = [\"ACA\"]"
   ]
  },
  {
   "cell_type": "markdown",
   "metadata": {},
   "source": [
    "## Filter Calculations"
   ]
  },
  {
   "cell_type": "code",
   "execution_count": null,
   "metadata": {},
   "outputs": [],
   "source": [
    "aca = df[df[\"region\"].isin(regions)];\n",
    "aca = aca[aca[\"session\"].isin(sessions)];\n",
    "aca = aca[aca[\"trial\"].isin(trials)];"
   ]
  },
  {
   "cell_type": "markdown",
   "metadata": {},
   "source": [
    "# Sort Neurons by Mean Spike Rate"
   ]
  },
  {
   "cell_type": "code",
   "execution_count": null,
   "metadata": {},
   "outputs": [],
   "source": [
    "aca['mean_rate'] = np.mean((aca.iloc[:, :250] > 0).to_numpy(),axis=1)\n",
    "aca = aca.sort_values('mean_rate',ascending=False)"
   ]
  },
  {
   "cell_type": "markdown",
   "metadata": {},
   "source": [
    "# Recenter the Spike Array\n",
    "Feedback times can be indexed at `centered_array[:,max_add_len]`"
   ]
  },
  {
   "cell_type": "code",
   "execution_count": null,
   "metadata": {},
   "outputs": [],
   "source": [
    "center = 'feedback_time'\n",
    "aca['center'] = np.floor(df[center]*1000/10)\n",
    "\n",
    "max_add_len = np.max(aca.center.values)\n",
    "min_add_len = np.min(aca.center.values)\n",
    "\n",
    "vals = aca.iloc[:, :250].values\n",
    "center_vals = aca['center'].values\n",
    "sh = vals.shape\n",
    "centered_array = np.zeros([sh[0],int(sh[1] + max_add_len)])\n",
    "for n in np.arange(sh[0]):\n",
    "    start = int(center_vals[n])\n",
    "    end = int(center_vals[n] + sh[1])\n",
    "    centered_array[n,start:end] = vals[n]\n",
    "    \n",
    "np.unique(aca['trial'])"
   ]
  },
  {
   "cell_type": "markdown",
   "metadata": {},
   "source": [
    "# Plot a Heatmap of Spikes Centered at 0"
   ]
  },
  {
   "cell_type": "code",
   "execution_count": null,
   "metadata": {},
   "outputs": [],
   "source": [
    "plt.figure(figsize=(20, 20))\n",
    "plt.imshow(centered_array[:], cmap='hot',extent=(-max_add_len,sh[1],0,sh[0]))\n",
    "plt.axvline(x=0,color='blue')"
   ]
  },
  {
   "cell_type": "code",
   "execution_count": null,
   "metadata": {},
   "outputs": [],
   "source": []
  }
 ],
 "metadata": {
  "kernelspec": {
   "display_name": "Python 3",
   "language": "python",
   "name": "python3"
  },
  "language_info": {
   "codemirror_mode": {
    "name": "ipython",
    "version": 3
   },
   "file_extension": ".py",
   "mimetype": "text/x-python",
   "name": "python",
   "nbconvert_exporter": "python",
   "pygments_lexer": "ipython3",
   "version": "3.7.6"
  }
 },
 "nbformat": 4,
 "nbformat_minor": 4
}
