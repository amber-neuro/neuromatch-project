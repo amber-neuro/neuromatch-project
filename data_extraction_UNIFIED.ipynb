{
 "cells": [
  {
   "cell_type": "code",
   "execution_count": 3,
   "metadata": {},
   "outputs": [],
   "source": [
    "# STEINMETZ PREPROCESSING"
   ]
  },
  {
   "cell_type": "code",
   "execution_count": 4,
   "metadata": {},
   "outputs": [
    {
     "name": "stdout",
     "output_type": "stream",
     "text": [
      "Downloading data. This may take a while ...\n",
      "Loading data. Patience, padawan ...\n"
     ]
    }
   ],
   "source": [
    "# Set up\n",
    "\n",
    "# Import packages\n",
    "import os, requests\n",
    "import numpy as np\n",
    "import matplotlib.pyplot as plt\n",
    "import scipy as sp\n",
    "import pandas as pd\n",
    "\n",
    "# Download and load data \n",
    "from data.get_data import load,download\n",
    "\n",
    "download()\n",
    "\n",
    "\n",
    "# Load data\n",
    "alldat = load()\n"
   ]
  },
  {
   "cell_type": "code",
   "execution_count": 5,
   "metadata": {},
   "outputs": [
    {
     "name": "stdout",
     "output_type": "stream",
     "text": [
      "Loading data. Patience, padawan ...\n"
     ]
    }
   ],
   "source": [
    "# Load data\n",
    "\n",
    "alldat = load()"
   ]
  },
  {
   "cell_type": "code",
   "execution_count": 43,
   "metadata": {},
   "outputs": [
    {
     "name": "stdout",
     "output_type": "stream",
     "text": [
      "    Session Mouse Name  Number of Trials\n",
      "0         1       Cori               214\n",
      "1         2       Cori               251\n",
      "2         3       Cori               228\n",
      "3         4  Forssmann               249\n",
      "4         5  Forssmann               254\n",
      "5         6  Forssmann               290\n",
      "6         7  Forssmann               252\n",
      "7         8      Hench               250\n",
      "8         9      Hench               372\n",
      "9        10      Hench               447\n",
      "10       11      Hench               342\n",
      "11       12  Lederberg               340\n",
      "12       13  Lederberg               300\n",
      "13       14  Lederberg               268\n",
      "14       15  Lederberg               404\n",
      "15       16  Lederberg               280\n",
      "16       17  Lederberg               224\n",
      "17       18  Lederberg               316\n",
      "18       19      Moniz               247\n",
      "19       20      Moniz               235\n",
      "20       21      Moniz               124\n",
      "21       22     Muller               444\n",
      "22       23     Muller               151\n",
      "23       24     Muller               187\n",
      "24       25    Radnitz               261\n",
      "25       26    Radnitz               178\n",
      "26       27    Radnitz               253\n",
      "27       28    Radnitz               142\n",
      "28       29    Radnitz               128\n",
      "29       30   Richards               143\n",
      "30       31   Richards               237\n",
      "31       32   Richards               260\n",
      "32       33   Richards               191\n",
      "33       34   Richards               296\n",
      "34       35      Tatum               311\n",
      "35       36      Tatum               258\n",
      "36       37      Tatum               181\n",
      "37       38      Tatum               199\n",
      "38       39    Theiler               343\n",
      "Total number of trials:  10050\n"
     ]
    }
   ],
   "source": [
    "# Basic information about Steinmetz dataset: descriptive for each session\n",
    "session = []\n",
    "mouse_name = []\n",
    "number_trials = []\n",
    "total_trials = 0\n",
    "for i in range(len(alldat)):\n",
    "    dat = alldat[i]\n",
    "    session.append(i+1)\n",
    "    mouse_name.append(dat.get('mouse_name'))\n",
    "    number_trials.append(len(dat.get('gocue')))\n",
    "    total_trials += len(dat.get('gocue'))\n",
    "    \n",
    "first_dict = {'Session': session, 'Mouse Name': mouse_name, 'Number of Trials': number_trials}\n",
    "basic_data_info = pd.DataFrame(first_dict, columns=['Session', 'Mouse Name','Number of Trials'])\n",
    "\n",
    "print(basic_data_info)\n",
    "print('Total number of trials: ', total_trials)"
   ]
  },
  {
   "cell_type": "code",
   "execution_count": 44,
   "metadata": {},
   "outputs": [],
   "source": [
    "#DataFrame for EVERY-SINGLE-TRIAL *clap emoji* (excluding passive trials: just Go (left/right) or NoGo trials)\n",
    "\n",
    "s = 0\n",
    "test_sessions = [1, 4, 8, 12, 19, 22, 25, 30, 35]\n",
    "\n",
    "# Initialize empty list \n",
    "session = [] \n",
    "session_type = []\n",
    "mouse_name = []  \n",
    "trial_number = []\n",
    "go_trial = []   #either TRUE (Go trial) or FALSE(= NoGo trial)\n",
    "trial_type = []  # A, B, C, D, or E\n",
    "stim_loc = []   # \n",
    "ideal_resp = []\n",
    "gocue = [] #dat['gocue']: when the go cue sound was played. \n",
    "response_time = []\n",
    "latency = []\n",
    "mouse_resp = []\n",
    "wheel_go_rt = []\n",
    "wheel_stim_rt = []\n",
    "pres_acc = []\n",
    "feedback_onset = []\n",
    "feedback_type = []\n",
    "contrast_left = []\n",
    "contrast_right = []\n",
    "contrast_diff = []\n",
    "pres_difficulty = []\n",
    "\n",
    "# Loop to fill all lists with data from Steinmetz dataset\n",
    "for dat in alldat:\n",
    "    s += 1\n",
    "    for t in range(len(dat.get('gocue'))):      #just because the length of this field = number of trials for a given session\n",
    "        # session #\n",
    "        session.append(s)        #session number\n",
    "\n",
    "        if session[t] == 1 or session[t] == 4 or session[t] == 8 or session[t] == 12 or session[t] == 19 or session[t] == 22 or session[t] == 25 or session[t] == 30 or session[t] == 35:\n",
    "            session_type.append('test')\n",
    "        else: \n",
    "            session_type.append('train') \n",
    "        \n",
    "        # mouse name\n",
    "        mouse_name.append(dat.get('mouse_name')) #you know... just the name of the little fellow\n",
    "        \n",
    "        # trial number\n",
    "        trial_number.append(t+1)      #trial number for that particular session\n",
    "\n",
    "        # whether it was a go trial or not\n",
    "        go_trial.append((dat.get('contrast_left')[t] != 0) or (dat.get('contrast_right')[t] != 0))\n",
    "        \n",
    "        # trial type, stimulus location on pres trial, and ideal response\n",
    "        if dat.get('contrast_left')[t] == 0 and dat.get('contrast_right')[t] != 0:\n",
    "            trial_t = 'A'\n",
    "            stim_l = -1\n",
    "            ideal_r = -1\n",
    "        elif dat.get('contrast_left')[t] != 0 and dat.get('contrast_right')[t] == 0:\n",
    "            trial_t = 'B'\n",
    "            stim_l = 1\n",
    "            ideal_r = 1\n",
    "        elif dat.get('contrast_right')[t] and dat.get('contrast_left')[t] != 0 and dat.get('contrast_right')[t] > dat.get('contrast_left')[t] :\n",
    "            trial_t = 'C'\n",
    "            stim_l = 2\n",
    "            ideal_r = -1\n",
    "        elif dat.get('contrast_right')[t] and dat.get('contrast_left')[t]  != 0 and dat.get('contrast_right')[t] < dat.get('contrast_left')[t] :\n",
    "            trial_t = 'D'\n",
    "            stim_l= 2\n",
    "            ideal_r = 1\n",
    "        elif dat.get('contrast_left')[t]  == 0 and dat.get('contrast_right')[t] == 0:\n",
    "            trial_t= 'E'\n",
    "            stim_l = 0\n",
    "            ideal_r = 0\n",
    "        else:\n",
    "            trial_t = 'NaN'\n",
    "            stim_l ='NaN'\n",
    "            ideal_r = 'NaN'\n",
    "            \n",
    "        trial_type.append(trial_t) \n",
    "        stim_loc.append(stim_l)\n",
    "        ideal_resp.append(ideal_r)\n",
    "        \n",
    "        # go cue onset\n",
    "        gocue.append(dat.get('gocue')[t][0]) #the sencond index value is just there so that we can directly access floats from the DF\n",
    "        \n",
    "        # mouse response time \n",
    "        response_time.append(dat.get('response_time')[t][0])\n",
    "        \n",
    "        # latency (how long it took mouse to respond after go cue (i.e. RT - go cue))\n",
    "        latency.append(float((dat.get('response_time')[t][0])-(dat.get('gocue')[t][0])))\n",
    "        \n",
    "        # append mouse's response\n",
    "        mouse_resp.append(dat.get('response')[t])\n",
    "        \n",
    "        # wheel_go_rt (average speed between gocue and rt)\n",
    "        wheel_bin_g = int(round((dat.get('gocue')[t][0]),2) * 100)\n",
    "        wheel_bin_r = int(round((dat.get('response_time')[t][0]),2) * 100) #gets 'wheel' timebin for 'response_time'\n",
    "        if (dat.get('contrast_left')[t] != 0) or (dat.get('contrast_right')[t] != 0) == True:\n",
    "            wheel_go_rt.append((np.abs(np.sum(dat.get('wheel')[0][t][wheel_bin_g:wheel_bin_r])))/latency[t])#divide by latency at t (amount of time between the two)\n",
    "        else:\n",
    "            wheel_go_rt.append('NaN')\n",
    "        \n",
    "        # wheel_stim_rt (average wheel speed between stim onset and rt)\n",
    "        wheel_bin_stim = int(round((dat.get('gocue')[t][0]),2) * 100)\n",
    "        wheel_bin_r = int(round((dat.get('response_time')[t][0]),2) * 100) #gets 'wheel' timebin for 'response_time'\n",
    "        if (dat.get('contrast_left')[t] != 0) or (dat.get('contrast_right')[t] != 0) == True:\n",
    "            wheel_stim_rt.append((np.abs(np.sum(dat.get('wheel')[0][t][50:wheel_bin_r])))/latency[t] + 500)#divide by latency at t (amount of time between the two)\n",
    "        else:\n",
    "            wheel_stim_rt.append('NaN')      \n",
    "        \n",
    "        # mouse's accuracy on present trial\n",
    "        if ideal_resp[t] == mouse_resp[t]: \n",
    "            mouse_acc_binary = 1.\n",
    "            pres_acc.append(mouse_acc_binary)\n",
    "        else:\n",
    "            mouse_acc_binary = 0.\n",
    "            pres_acc.append(mouse_acc_binary)\n",
    "    \n",
    "        # feedback onset \n",
    "        feedback_onset.append(dat.get('feedback_time')[t])\n",
    "        \n",
    "        # feedback type \n",
    "        feedback_type.append(dat.get('feedback_type')[t]) #feedback type: positive (+1) means reward, negative (-1) means white noise burst \n",
    "       \n",
    "        # stimulus contrasts and differences between them\n",
    "        contrast_left.append(dat.get('contrast_left')[t])\n",
    "        contrast_right.append(dat.get('contrast_right')[t])\n",
    "        \n",
    "        if stim_loc[t] != 0:\n",
    "            contrast_diff.append(dat.get('contrast_left')[t] - dat.get('contrast_right')[t])\n",
    "        else:\n",
    "            contrast_diff.append('NaN')\n",
    "\n",
    "        # present difficulty\n",
    "        if (dat.get('contrast_left')[t] != 0) or (dat.get('contrast_right')[t] != 0):\n",
    "            pres_difficulty.append(1-np.abs(dat.get('contrast_left')[t]-dat.get('contrast_right')[t]))\n",
    "        else:\n",
    "            pres_difficulty.append('NaN')\n"
   ]
  },
  {
   "cell_type": "code",
   "execution_count": 46,
   "metadata": {},
   "outputs": [
    {
     "data": {
      "text/plain": [
       "Index(['session', 'session_type', 'mouse_name', 'trial_number', 'trial_type',\n",
       "       'go_trial', 'stim_loc', 'ideal_resp', 'gocue', 'response_time',\n",
       "       'latency', 'mouse_resp', 'wheel_go_rt', 'wheel_stim_rt', 'pres_acc',\n",
       "       'feedback_onset', 'feedback_type', 'contrast_left', 'contrast_right',\n",
       "       'contrast_diff', 'pres_difficulty'],\n",
       "      dtype='object')"
      ]
     },
     "execution_count": 46,
     "metadata": {},
     "output_type": "execute_result"
    }
   ],
   "source": [
    "dict = {'session': session, \n",
    "        'session_type': session_type,\n",
    "        'mouse_name': mouse_name, \n",
    "        'trial_number': trial_number,\n",
    "        'trial_type': trial_type,\n",
    "        'go_trial': go_trial,\n",
    "        'stim_loc': stim_loc,\n",
    "        'ideal_resp': ideal_resp,\n",
    "        'gocue': gocue,\n",
    "        'response_time': response_time,\n",
    "        'latency': latency,\n",
    "        'mouse_resp': mouse_resp,\n",
    "        'wheel_go_rt': wheel_go_rt,\n",
    "        'wheel_stim_rt': wheel_stim_rt,\n",
    "        'pres_acc': pres_acc,\n",
    "        'feedback_onset': feedback_onset,\n",
    "        'feedback_type': feedback_type,\n",
    "        'contrast_left': contrast_left,\n",
    "        'contrast_right': contrast_right,\n",
    "        'contrast_diff': contrast_diff,\n",
    "        'pres_difficulty': pres_difficulty\n",
    "       }\n",
    "\n",
    "data_extracted = pd.DataFrame(dict)\n",
    "data_extracted.columns"
   ]
  },
  {
   "cell_type": "code",
   "execution_count": 47,
   "metadata": {},
   "outputs": [
    {
     "data": {
      "text/plain": [
       "(10050, 2)"
      ]
     },
     "execution_count": 47,
     "metadata": {},
     "output_type": "execute_result"
    }
   ],
   "source": [
    "# Get previous accuracy and previous difficulty \n",
    "\n",
    "# Get previous difficulty\n",
    "empty = np.empty([len(data_extracted['mouse_resp']), 1])\n",
    "empty[0] = 'NaN' #ignore first index because there is no previous trial to this index\n",
    "\n",
    "for i in range(len(empty)-1):\n",
    "    empty[i+1] = data_extracted['pres_difficulty'][i]\n",
    "\n",
    "prev_difficulty = pd.DataFrame(empty)\n",
    "prev_difficulty = prev_difficulty.rename(columns={0: 'prev_difficulty'})\n",
    "\n",
    "# Get previous accuracy\n",
    "empty = np.empty([len(data_extracted['mouse_resp']), 1])\n",
    "empty[0] = 'NaN' #ignore first index because there is no previous trial to this index\n",
    "\n",
    "for i in range(len(empty)-1):\n",
    "    empty[i+1] = data_extracted['pres_acc'][i]\n",
    "\n",
    "prev_acc = pd.DataFrame(empty)\n",
    "prev_acc = prev_acc.rename(columns={0: 'prev_acc'})\n",
    "\n",
    "# Combine into one df\n",
    "prevs = pd.concat([prev_difficulty, prev_acc], axis = 1)\n",
    "\n",
    "prevs.shape"
   ]
  },
  {
   "cell_type": "code",
   "execution_count": 48,
   "metadata": {},
   "outputs": [
    {
     "name": "stdout",
     "output_type": "stream",
     "text": [
      "length of all dfs match! woo you are in the clear\n"
     ]
    },
    {
     "data": {
      "text/plain": [
       "Index(['session', 'session_type', 'mouse_name', 'trial_number', 'trial_type',\n",
       "       'go_trial', 'stim_loc', 'ideal_resp', 'gocue', 'response_time',\n",
       "       'latency', 'mouse_resp', 'wheel_go_rt', 'wheel_stim_rt', 'pres_acc',\n",
       "       'feedback_onset', 'feedback_type', 'contrast_left', 'contrast_right',\n",
       "       'contrast_diff', 'pres_difficulty', 'prev_difficulty', 'prev_acc'],\n",
       "      dtype='object')"
      ]
     },
     "execution_count": 48,
     "metadata": {},
     "output_type": "execute_result"
    }
   ],
   "source": [
    "# Combine everything into one DF\n",
    "data_extracted_unified = pd.concat([data_extracted, prevs], axis = 1)\n",
    "\n",
    "# Make sure all dfs are the same length (i.e. have the same number of rows)\n",
    "\n",
    "if len(data_extracted) == len(prevs) == len(data_extracted_unified):\n",
    "    print('length of all dfs match! woo you are in the clear')\n",
    "\n",
    "data_extracted_unified.columns"
   ]
  },
  {
   "cell_type": "code",
   "execution_count": null,
   "metadata": {},
   "outputs": [],
   "source": []
  }
 ],
 "metadata": {
  "kernelspec": {
   "display_name": "Python 3",
   "language": "python",
   "name": "python3"
  },
  "language_info": {
   "codemirror_mode": {
    "name": "ipython",
    "version": 3
   },
   "file_extension": ".py",
   "mimetype": "text/x-python",
   "name": "python",
   "nbconvert_exporter": "python",
   "pygments_lexer": "ipython3",
   "version": "3.7.6"
  }
 },
 "nbformat": 4,
 "nbformat_minor": 4
}
